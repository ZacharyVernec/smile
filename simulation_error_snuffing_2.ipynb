{
 "cells": [
  {
   "cell_type": "code",
   "execution_count": 1,
   "metadata": {},
   "outputs": [],
   "source": [
    "from warnings import warn"
   ]
  },
  {
   "cell_type": "code",
   "execution_count": 2,
   "metadata": {},
   "outputs": [],
   "source": [
    "# Standard library imports\n",
    "import os\n",
    "from datetime import datetime\n",
    "\n",
    "# Third party imports\n",
    "import matplotlib.pyplot as plt\n",
    "import numpy as np\n",
    "import dill\n",
    "\n",
    "# Local application imports\n",
    "from smile.population import Population, PopulationList\n",
    "from smile.sampling import *\n",
    "from smile import helper\n",
    "from smile.global_params import *"
   ]
  },
  {
   "cell_type": "code",
   "execution_count": 3,
   "metadata": {},
   "outputs": [],
   "source": [
    "#from smile/sampling.py\n",
    "\n",
    "# Standard library imports\n",
    "from collections import UserList\n",
    "from abc import ABC, abstractmethod #abstract base class\n",
    "from functools import partial #for binding variables to functions\n",
    "\n",
    "# Third party imports\n",
    "import numpy as np\n",
    "import numpy.ma as ma\n",
    "\n",
    "# Local application imports\n",
    "from smile.population import Population, PopulationList\n",
    "from smile import helper\n",
    "from smile.helper import warn\n",
    "from smile.global_params import get_MIN, NDAYS, FIRSTVISIT, LASTVISIT\n",
    "from smile.global_params import _UNREACHED_SMILE, _UNREACHED_MAGNITUDE, _LIMITREACHED, _ALREADYREACHED"
   ]
  },
  {
   "cell_type": "code",
   "execution_count": 4,
   "metadata": {},
   "outputs": [],
   "source": [
    "# Settings\n",
    "seed = 3 # chosen by fair dice roll. guaranteed to be random. https://xkcd.com/221/\n",
    "np.random.seed(seed)\n",
    "np.set_printoptions(edgeitems=30, linewidth=100000)\n",
    "pickle_dir = 'D:\\saved_populations_8_3'"
   ]
  },
  {
   "cell_type": "code",
   "execution_count": 5,
   "metadata": {},
   "outputs": [],
   "source": [
    "# Pickling functions\n",
    "def dump_to_file(obj, filename, filesuffix='.pik', \n",
    "                 dirname=None, create_newdir=False, avoid_overwrite=True):\n",
    "    #build path\n",
    "    if dirname is not None: \n",
    "        if not os.path.isdir(dirname):\n",
    "            if create_newdir:\n",
    "                os.makedirs(dirname)\n",
    "                print(f\"Directory {dirname} was created\")\n",
    "            else:\n",
    "                raise OSError(f\"Directory {dirname} doesn't exist and needs to be created\")\n",
    "        filename = os.path.join(dirname, filename+filesuffix)\n",
    "    else:\n",
    "        filename = filename+filesuffix\n",
    "    #check if will overwrite\n",
    "    if os.path.isfile(filename) and avoid_overwrite:\n",
    "        raise OSError(f\"File {filename} already exists and would be overwritten\")\n",
    "    else:\n",
    "        with open(filename, 'wb') as f:\n",
    "            dill.dump(obj, f, protocol=4)\n",
    "def load_from_file(filename):\n",
    "    with open(filename, 'rb') as f:\n",
    "        return dill.load(f)"
   ]
  },
  {
   "cell_type": "code",
   "execution_count": 6,
   "metadata": {},
   "outputs": [],
   "source": [
    "# Definitions\n",
    "#populations\n",
    "def get_poster_populations(slope_option, error_option, npersons=100, npops=100):\n",
    "    '''\n",
    "    returns a PopulationList similar to the one described in the poster\n",
    "    slope_option is 1, 2, or 3\n",
    "    error_option is 30/100 or 50/100\n",
    "    '''\n",
    "    \n",
    "    # Define and set visual score function\n",
    "    pop = Population(npersons, f'poster with {slope_option} and {error_option}')\n",
    "    gen_visualscores = lambda t,r,v0: np.maximum(-r*t+v0, VMIN)\n",
    "    pop.set_score_generator('visual', gen_visualscores)\n",
    "    gen_r = lambda shape: 0.2\n",
    "    gen_v0 = lambda shape: np.random.randint(14, 18+1, shape)\n",
    "    pop.set_parameter_generator('r', gen_r, 'population')\n",
    "    pop.set_parameter_generator('v0', gen_v0, 'person')\n",
    "\n",
    "    # Define and set symptom score function\n",
    "    gen_symptomscores = lambda v,a,s0: np.maximum(a*v+s0, SMIN)\n",
    "    pop.set_score_generator('symptom_noerror', gen_symptomscores)\n",
    "    gen_a = lambda shape: slope_option\n",
    "    gen_s0 = lambda shape: np.random.normal(6, 2, shape)\n",
    "    pop.set_parameter_generator('a', gen_a, 'population')\n",
    "    pop.set_parameter_generator('s0', gen_s0, 'person')\n",
    "\n",
    "    # Define and set error functions\n",
    "    #Multiplicative\n",
    "    pop.set_score_generator('symptom', lambda s,C: s*C)\n",
    "    gen_C_mul = lambda shape: np.random.uniform(1-error_option, 1+error_option, shape)\n",
    "    pop.set_parameter_generator('C', gen_C_mul, 'day')\n",
    "\n",
    "    # Repeat\n",
    "    pops = PopulationList.full(npops, pop)\n",
    "    \n",
    "    # Return\n",
    "    return pops\n",
    "def get_worddoc_populations(slope_option, error_option, npersons=100, npops=100):\n",
    "    \n",
    "    # Define and set visual score function\n",
    "    pop = Population(npersons, title=f'realistic with {slope_option} and {error_option}')\n",
    "    gen_visualscores = lambda t,r,v0: np.maximum(-r*t+v0, VMIN)\n",
    "    pop.set_score_generator('visual', gen_visualscores)\n",
    "    gen_r = lambda shape: helper.beta(shape, 0, 2, 0.2, 1.4) #median at 0.4\n",
    "    gen_v0 = lambda shape: helper.truncatednormal_general(14, 16, 18, 1, shape)\n",
    "    pop.set_parameter_generator('r', gen_r, 'person')\n",
    "    pop.set_parameter_generator('v0', gen_v0, 'person')\n",
    "    \n",
    "    #Define and set symptom score functions\n",
    "    gen_symptomscores = lambda v,a: a*(v-VMIN)\n",
    "    pop.set_score_generator('symptom_noerror', gen_symptomscores)\n",
    "    gen_a = lambda shape: slope_option\n",
    "    pop.set_parameter_generator('a', gen_a, 'population')\n",
    "    \n",
    "    # Define and set error functions\n",
    "    #Multiplicative\n",
    "    pop.set_score_generator('symptom', lambda s,C: s*C)\n",
    "    gen_C_mul = lambda shape: np.random.uniform(1-error_option, 1+error_option, shape)\n",
    "    pop.set_parameter_generator('C', gen_C_mul, 'day')\n",
    "\n",
    "    # Repeat\n",
    "    pops = PopulationList.full(npops, pop)\n",
    "    \n",
    "    # Return\n",
    "    return pops\n",
    "#simulations\n",
    "def get_traditional_methodology():\n",
    "    methodology = Methodology('traditonal')\n",
    "\n",
    "    first_delay_func = lambda shape: helper.beta(shape, 7, 28, 14, 2.9).astype('int') #90% at 21\n",
    "\n",
    "    methodology.add_sampler(TraditionalSampler(day=0, delay=first_delay_func))\n",
    "    methodology.add_sampler(TraditionalSampler(day=('sample', -1), delay=14))\n",
    "    methodology.add_sampler(TraditionalSampler(day=('sample', -1), delay=14))\n",
    "\n",
    "    return methodology\n",
    "def get_realistic_methodology():\n",
    "    methodology = Methodology('realistic')\n",
    "\n",
    "    #limit is irrelevant because max(day+delay) < NDAYS\n",
    "    #if_reached is irrelevant because first sampling method\n",
    "    first_delay_func = lambda shape: helper.beta(shape, 7, 28, 14, 2.9).astype('int') #90% at 21\n",
    "    sampler1 = TraditionalSampler(day=0, delay=first_delay_func)\n",
    "    methodology.add_sampler(sampler1)\n",
    "\n",
    "    #if_reached is irrelevant because index is previous sample\n",
    "    other_delay_func = lambda shape: helper.beta(shape, 0, 14, 4, 3.8).astype('int') #90% at 7\n",
    "    sampler2 = SmileSampler(index=('sample', -1), ratio=0.5, scorename='symptom',\n",
    "                            delay=other_delay_func, triggered_by_equal=True, min_triggered=1, \n",
    "                            #limit=((-1, lambda prev_day: prev_day+28), 'clip'), if_reached='NaN')\n",
    "                            limit=(2*_LIMITREACHED, 'NaN'), if_reached='NaN')\n",
    "    methodology.add_sampler(sampler2)\n",
    "\n",
    "    #same delay as previous\n",
    "    sampler3 = MagnitudeSampler(value=2, scorename='symptom',\n",
    "                                delay=other_delay_func, triggered_by_equal=True,\n",
    "                                #limit=(LASTVISIT, 'clip'), if_reached='NaN')\n",
    "                                limit=(2*_LIMITREACHED, 'NaN'), if_reached='NaN')\n",
    "    methodology.add_sampler(sampler3)\n",
    "\n",
    "    return methodology"
   ]
  },
  {
   "cell_type": "code",
   "execution_count": 7,
   "metadata": {},
   "outputs": [],
   "source": [
    "#parameters\n",
    "npersons=1000\n",
    "npops=1000\n",
    "slope_options = (1, 2, 3)\n",
    "error_options = (0.3, 0.5)"
   ]
  },
  {
   "cell_type": "code",
   "execution_count": 8,
   "metadata": {},
   "outputs": [],
   "source": [
    "np.random.seed(seed)\n",
    "\n",
    "npops=1\n",
    "index = 0\n",
    "\n",
    "if index is not None: \n",
    "    suffix='_'+str(index)\n",
    "    verbose = False\n",
    "else: \n",
    "    suffix=''\n",
    "    verbose = True\n",
    "\n",
    "#preallocate arrays\n",
    "poplists_shape = (len(slope_options), len(error_options))\n",
    "poster_poplists = np.empty(poplists_shape, dtype=object)\n",
    "worddoc_poplists = np.empty(poplists_shape, dtype=object)"
   ]
  },
  {
   "cell_type": "code",
   "execution_count": 9,
   "metadata": {},
   "outputs": [
    {
     "name": "stdout",
     "output_type": "stream",
     "text": [
      "\n"
     ]
    }
   ],
   "source": [
    "'''#create and generate\n",
    "for i, j in np.ndindex(poplists_shape):\n",
    "    if verbose: print(i, j)\n",
    "    options = (slope_options[i], error_options[j])\n",
    "    poster_poplists[i, j] = get_poster_populations(*options, npersons, npops)\n",
    "    worddoc_poplists[i, j] = get_worddoc_populations(*options, npersons, npops)\n",
    "    poster_poplists[i, j].generate()\n",
    "    worddoc_poplists[i, j].generate()\n",
    "\n",
    "#pickle\n",
    "dump_to_file(poster_poplists, 'poster_poplists'+suffix, dirname=pickle_dir, create_newdir=True)\n",
    "dump_to_file(worddoc_poplists, 'worddoc_poplists'+suffix, dirname=pickle_dir)\n",
    "if verbose: print(\"Done generation.\")\n",
    "\n",
    "\n",
    "# Filtering\n",
    "\n",
    "#define\n",
    "filter_kwargs = {'filter_type':'ratio_early', 'copy':True,\n",
    "                 'index_day':0, 'recovered_ratio':0.4, 'scorename':'symptom'}\n",
    "\n",
    "#preallocate arrays\n",
    "poster_filtered_poplists = np.empty_like(poster_poplists)\n",
    "worddoc_filtered_poplists = np.empty_like(worddoc_poplists)\n",
    "\n",
    "#filter\n",
    "for i, j in np.ndindex(poplists_shape):\n",
    "    if verbose: print(i, j)\n",
    "    poster_filtered_poplists[i, j] = poster_poplists[i, j].filter(**filter_kwargs)\n",
    "    worddoc_filtered_poplists[i, j] = worddoc_poplists[i, j].filter(**filter_kwargs)\n",
    "\n",
    "#pickle\n",
    "dump_to_file(poster_filtered_poplists, 'poster_filtered_poplists'+suffix, dirname=pickle_dir)\n",
    "dump_to_file(worddoc_filtered_poplists, 'worddoc_filtered_poplists'+suffix, dirname=pickle_dir)\n",
    "if verbose: print(\"Done filtering.\")\n",
    "    \n",
    "#state = np.random.get_state()\n",
    "#print(state)'''\n",
    "print()"
   ]
  },
  {
   "cell_type": "code",
   "execution_count": 10,
   "metadata": {},
   "outputs": [],
   "source": [
    "state = ('MT19937', np.array([2962524577, 1673754294, 1403069053, 3310752670, 2150748404, 1614059452, 2497208348, 1640151344, 3468855398, 3720181135, 1891071198, 1956677444, 4019869901, 2257263567,  162440196, 2896027871,  555007269, 3132089494,  106028734, 2444731365, 2696487513, 3958701767, 2953116324, 1234582482, 3789125954, 3463075842,  294109048, 4204826201, 3617146104, 4045101201, 2755258201, 4127667857, 3696684517, 1208452850, 1208056221, 1045749637, 1596697527, 2772050092, 4288039924, 1435200570,  193151316, 2522991091, 2951580961, 3587302748, 2224023524, 4280287261, 4196025060, 2009477641, 4281943410, 1595652892, 2447706052, 3309857241, 2685832696, 4035670494, 3142604370,  916922574, 2222859523, 4197045632, 1922629509,  460303068, 3157486035, 1537336642, 4053129777,  247110365, 4144466430, 2232095284, 3939371760, 2576373998, 1603351964, 1052312235, 3165573111, 3248186934,  603172881, 2991203459, 1507010990,  658859037, 3998804971, 4283297135, 3929143711, 3332227784,  159059983, 3272388240, 2394159390, 1047738837, 3372245351, 2869973426, 3647313694,  785953559, 1193884913, 2560162864,  125121977, 3933898792, 3147402066, 1083935805, 3183949652, 3075823144,  424169932, 1458051273, 2353087904, 2493346307, 1610737908, 1023045591, 3691117245,  910595644, 2620136404, 1896848137, 1778754715, 1360761329, 3678669641, 3051695931, 2132869126, 3145689170, 2905933491, 1042741354,  401846631,  325388124, 2543504141, 1328618882, 4172701060, 1988443744, 3196167787,  247109501, 2501678380, 3633333619, 2955112146,  159847684, 3751301928, 3905104983, 4251988045, 1498133574, 3193683786,   20590818, 2598381305,  172533427,   91922338, 1130296217,  546489405, 4054577000, 3714128153,  458397046, 1763222388, 3582846067, 4218733163, 2751428247, 3117554187, 2487007324,   50137688, 1311023416, 3703944428, 1915565849, 3021674350, 3950901711, 3231144900,  856493185, 1138515845, 3992657139,  823286758, 4241908457, 2666948650, 3825104051, 2556924563, 2260358832, 3290204568, 2840732707,  798747408,  437653215,  224237832,  727918936, 3990567187, 2582256652, 2310117940, 3752012301,  191213546, 3490914805,  616832337, 3577660776, 3928896522, 1405031918, 2489501508,  748149056, 1798669675, 1066643391,  728029821, 4100582468,  443975640, 4241552582, 3872657472, 1531154470, 2509111327, 3604404577, 3675838967, 1159415143, 1153970042, 3250109838, 3988113558, 1760587973, 1266479929, 2540146897, 2519308032,  773012932, 3247767323, 1487448203, 2522487160,  289182580, 4134348588, 4043692091, 3098759610,  602528582, 3136320525,  657224585, 3190563644, 3629928680,  474995258,  988388115, 2980371030,  304847411, 1523623158, 3599771938, 3299560547, 2144130719,  766376746, 1057584629, 1868584901, 3011282311, 3189475582, 1818760880, 3073194227, 2795354778, 1371194107,  172409568, 3859038954, 2566552990, 1750446490, 1686241969,  604518425, 1939219951, 4099853735, 3839807536,  400270144, 2464469330,  112289859,  276763250, 1634081348,  399122302, 2000116946,  216086402, 3452966769, 1588855574, 3322782230,  574544822, 2490654753,  409212381,  160265617, 3017049346, 3573444927, 1740522960, 2686049101, 1268168538, 2655713465, 3267993503, 4022240039,  804852897, 4216470745, 3417442739, 3643715596, 3767901146, 2760423213, 3289870105, 3099037359, 1602202114, 3218763688, 3248046158, 2302587493, 3433950259, 1637741184, 1897434504,  407705558, 4034163292,  819439911, 2332097103, 3858654421,  873470642, 2735453630, 3096875808, 3325797208, 3907789038, 4161038521, 2889651917, 3816972814, 4176252369, 1170576903, 1023289567, 3384682584, 2454132438, 1772809864, 3232012054,  258664869,   29361161, 3047011742, 2612168855, 4110077122, 1258093998,  485843318, 1543947621, 1579258454, 3280950267, 3181442110, 2693516283, 3027633405,  939778273,  467598849,  481820279,  833565246,  121940299, 3557298006, 1137114277, 2878542548, 3692700970, 3195167106, 2932098987, 2271709511,  124450586, 2837988573, 3343731580, 4087790421, 2149544497, 1976223870, 1029951797, 3028662352, 3996077178,  122305908, 1442086068, 1376730351,  550413091,   19576414, 1806294422, 3985692241, 2688598763, 1881570248, 2712957892, 3896091527,   29345295, 3092670640,  778027226, 3103601603, 1992976343, 3094613427,  757767149,  695296982, 4112843937, 1323920881, 4021047683, 3591571655, 3491965425,  818183058, 1291619059,  651739426, 3648804909,  828520920, 1448496566, 2371212545, 1367110566, 2168314386,  172084378, 2678052721, 3681962451, 3472692927, 2080736518, 4233370017, 1676249706, 2924068216, 1983538652, 1281805945, 2260113446,  959302891, 3374405301, 1037842103, 3705345261,  310580684,    3953313,  196266935, 1035520356, 2703547154,  726563311,  432347905, 3749926353, 1763857169, 1503918235, 3850932828, 1147999315, 3890753832, 3672023121, 2678033133,  948241286, 2504439749, 2770280188,  930828587,  358243772, 2161514302,  837717577,  857475039, 2538739232,  378183472, 2370250179, 1887909332, 3565223139, 1986615431, 1485637523,    4327776, 1976287010,  743098000, 4083083894, 3514648614, 2189986080,  698788302, 1189285076, 2204052099, 3373516581, 3073364029, 4206978005, 4236068855, 2347145695, 2774111166, 1600907130, 1916959399, 3236109786, 3963543818, 2105702810,  329575020, 4280626477, 1406677975, 3609725891,  143530962, 2718747814,  283040834, 2283013549, 1052223275, 1033473294, 2177958675, 1589816008, 2898279465, 3373298705, 1382445692,  239497181, 3156311709,  530127651, 1163969480, 1250063549, 3352918279, 3186410165, 3225879328, 4134636515, 2468392437, 2638035009, 1125790721, 3699499030,  470177812, 1652476610, 2106353707, 1868242572, 2596842009,  768563123,  731126592, 3286590604, 4022795771, 1952073786, 1092644780, 1227240983,  258223923, 2943347620, 3884112101, 2442608769, 3349363935, 2386665317, 3668459484, 1595682394, 1137419649,  713016728, 2271093243, 1177480870,  862085350, 3376267549, 1483115310, 3188758783,  438971434, 2510254426, 2744770629, 3682203590, 3413431247, 1799877235, 3935831478, 2370754455, 1914116326, 1584963998, 2943467219,  279152663, 2786891411, 1801032995, 3019475041, 1707476310, 1383584266, 2059399810, 2348896768, 2611882787, 3301254041, 2672059828,  184265119, 1995976162, 1370574739, 2454464359, 2851498681, 2835628138, 3029051602, 3719053529, 2197887792,  964027880, 3233749272, 3162825811, 1583403689,  298968295, 1804700651, 3214091402, 2484536503, 2130593391, 2996589674,  897206310,  356933663, 1223526713, 3237896562, 2149975732, 2092572945, 3404123592,  990816278, 4192578854,  639249798, 2352662600, 1373524013, 2044931199, 2148934903, 3931691687, 2331301744, 3311943788,  664370375, 2700307854, 4248311467,  805367239, 2148042870, 3179039611, 1813725381,  103693824, 2597638614,  937648497, 1723817120, 4214114431, 3802228538,  293416013, 3870415730, 1753958486, 2768811752, 3048068887, 1958767403, 1499272821, 3870475792, 3207204027, 2749643173, 1033467119, 2982247581,  881776377,   53015050, 3270058793, 2545446936, 1762121894,  392707276,  283103343, 3626883096,  567148963, 2308596262, 2158148095, 2517037061, 3953488342, 2380100455, 1122082151, 2204695252, 2645717296, 3714180060,  818424913, 3944434964, 4212845964,  590085573, 1267185197, 3834012992, 3161683923,  675704302, 1763327952, 1874499649,  775946824, 1325582977,  722539037, 3014031185,  282981467, 3531430042,  667410577, 4102525186, 3286861729, 1144479092, 3051622034,  743370302, 2541324332, 2273963046, 3345702893,  442928778, 2243918487, 4037343766,   87899595, 3646913063, 2858221825,  112127098, 3018166720, 2621981463, 3533239191, 3470380540, 3563258168,  989357537, 3057231140], dtype=np.uint32), 235, 0, 0.0)"
   ]
  },
  {
   "cell_type": "code",
   "execution_count": 11,
   "metadata": {},
   "outputs": [],
   "source": [
    "poster_filtered_poplists = load_from_file(pickle_dir+\"\\poster_filtered_poplists_0.pik\")\n",
    "worddoc_filtered_poplists = load_from_file(pickle_dir+\"\\worddoc_filtered_poplists_0.pik\")"
   ]
  },
  {
   "cell_type": "code",
   "execution_count": 12,
   "metadata": {},
   "outputs": [],
   "source": [
    "np.random.set_state(state)\n",
    "\n",
    "# Sampling\n",
    "\n",
    "#create\n",
    "methodologies = [get_traditional_methodology(), get_realistic_methodology()]\n",
    "\n",
    "#preallocate arrays\n",
    "sampled_poplists_shape = (*poplists_shape, len(methodologies))\n",
    "poster_sampled_poplists = np.empty(sampled_poplists_shape, dtype=object)\n",
    "worddoc_sampled_poplists = np.empty(sampled_poplists_shape, dtype=object)"
   ]
  },
  {
   "cell_type": "code",
   "execution_count": 13,
   "metadata": {},
   "outputs": [
    {
     "name": "stdout",
     "output_type": "stream",
     "text": [
      "\n"
     ]
    }
   ],
   "source": [
    "'''#sample\n",
    "for i, j in np.ndindex(poplists_shape):\n",
    "    if verbose: print(i, j, 'poster', 0)\n",
    "    poster_sampled_poplists[i, j, 0] = methodologies[0].sample(poster_filtered_poplists[i, j])\n",
    "    if verbose: print(i, j, 'poster', 1)\n",
    "    poster_sampled_poplists[i, j, 1] = methodologies[1].sample(poster_filtered_poplists[i, j])\n",
    "    if verbose: print(i, j, 'poster', 0)\n",
    "    worddoc_sampled_poplists[i, j, 0] = methodologies[0].sample(worddoc_filtered_poplists[i, j])\n",
    "    if verbose: print(i, j, 'poster', 1)\n",
    "    worddoc_sampled_poplists[i, j, 1] = methodologies[1].sample(worddoc_filtered_poplists[i, j])\n",
    "\n",
    "\n",
    "#pickle\n",
    "dump_to_file(poster_sampled_poplists, 'poster_sampled_poplists'+suffix, dirname=pickle_dir)\n",
    "dump_to_file(worddoc_sampled_poplists, 'worddoc_sampled_poplists'+suffix, dirname=pickle_dir)\n",
    "if verbose: print(\"Done sampling.\")'''\n",
    "print()"
   ]
  },
  {
   "cell_type": "code",
   "execution_count": 14,
   "metadata": {},
   "outputs": [
    {
     "name": "stderr",
     "output_type": "stream",
     "text": [
      ":: UserWarning: There are 295 who didn't reach their milestone\n",
      ":: UserWarning: There are 1000 who didn't reach their milestone\n"
     ]
    }
   ],
   "source": [
    "np.random.set_state(state)\n",
    "\n",
    "methodologies[0].sample(poster_filtered_poplists[0, 0])\n",
    "methodologies[1].sample(poster_filtered_poplists[0, 0])\n",
    "methodologies[0].sample(worddoc_filtered_poplists[0, 0])\n",
    "\n",
    "pop = worddoc_filtered_poplists[0,0][0]\n",
    "pop.sampling_summary = {'nsamplers':3, 'limit':[], 'if_reached':[]}"
   ]
  },
  {
   "cell_type": "code",
   "execution_count": 15,
   "metadata": {},
   "outputs": [],
   "source": [
    "pop.scores['symptom'][-2] = np.array([0.8]*160)\n",
    "pop.scores['symptom'][-1] = np.array([3.0]*80 + [2.0]*80)"
   ]
  },
  {
   "cell_type": "code",
   "execution_count": 16,
   "metadata": {},
   "outputs": [],
   "source": [
    "methodology = Methodology('realistic')\n",
    "\n",
    "#limit is irrelevant because max(day+delay) < NDAYS\n",
    "#if_reached is irrelevant because first sampling method\n",
    "first_delay_func = lambda shape: helper.beta(shape, 7, 28, 14, 2.9).astype('int') #90% at 21\n",
    "sampler1 = TraditionalSampler(day=0, delay=first_delay_func)\n",
    "methodology.add_sampler(sampler1)\n",
    "\n",
    "#if_reached is irrelevant because index is previous sample\n",
    "other_delay_func = lambda shape: helper.beta(shape, 0, 14, 4, 3.8).astype('int') #90% at 7\n",
    "sampler2 = SmileSampler(index=('sample', -1), ratio=0.5, scorename='symptom',\n",
    "                        delay=other_delay_func, triggered_by_equal=True, min_triggered=1, \n",
    "                        #limit=((-1, lambda prev_day: prev_day+28), 'clip'), if_reached='NaN')\n",
    "                        limit=(2*_LIMITREACHED, 'NaN'), if_reached='NaN')\n",
    "methodology.add_sampler(sampler2)\n",
    "\n",
    "#same delay as previous\n",
    "sampler3 = MagnitudeSampler(value=2, scorename='symptom',\n",
    "                            delay=other_delay_func, triggered_by_equal=True,\n",
    "                            #limit=(LASTVISIT, 'clip'), if_reached='NaN')\n",
    "                            limit=(2*_LIMITREACHED, 'NaN'), if_reached='NaN')\n",
    "methodology.add_sampler(sampler3)"
   ]
  },
  {
   "cell_type": "code",
   "execution_count": 17,
   "metadata": {},
   "outputs": [
    {
     "name": "stdout",
     "output_type": "stream",
     "text": [
      "\n"
     ]
    },
    {
     "name": "stderr",
     "output_type": "stream",
     "text": [
      ":: UserWarning: There are 16 who didn't reach their milestone\n",
      ":: UserWarning: There are 98 who had already reached their milestone\n",
      ":: UserWarning: There are 40 who didn't reach their milestone\n",
      ":: UserWarning: There are 459 who had already reached their milestone\n"
     ]
    }
   ],
   "source": [
    "sampling_days = np.zeros((pop.npersons, 3), dtype=int)\n",
    "\n",
    "sampler1.sample(pop, 0, sampling_days)\n",
    "sampler2.sample(pop, 1, sampling_days)\n",
    "sampler3.sample(pop, 2, sampling_days)\n",
    "\n",
    "\"\"\"self = sampler2\n",
    "population=pop\n",
    "order=1\n",
    "sampling_days = sampling_days\n",
    "smilescores = population.scores[self.scorename] #scores which the method ratio refers to\n",
    "smilescore_lowerbound = get_MIN(self.scorename)\"\"\"\n",
    "print()"
   ]
  },
  {
   "cell_type": "code",
   "execution_count": 18,
   "metadata": {},
   "outputs": [
    {
     "name": "stdout",
     "output_type": "stream",
     "text": [
      "[[   13    28 65540]                   \t\t[[ 4.899212    1.054014           nan] \n",
      " [   17 65540 65540]                   \t\t [ 0.                 nan         nan] \n",
      " [   23    32 65540]                   \t\t [ 0.8075549   0.                 nan] \n",
      " [   18 65540 65540]                   \t\t [ 0.                 nan         nan] \n",
      " [   12    43    76]                   \t\t [10.7845125   6.356019    2.1311657 ] \n",
      " [   12    56    68]                   \t\t [ 6.1295314   4.347533    1.5328503 ] \n",
      " [   11    40   111]                   \t\t [14.148548    7.460992    2.3671765 ] \n",
      " [   19 65540 65540]                   \t\t [ 0.                 nan         nan] \n",
      " [   19    53    66]                   \t\t [ 6.0660224   4.232065    2.1809163 ] \n",
      " [   19    23 65540]                   \t\t [ 3.2826915   1.0281484          nan] \n",
      " [   17    99   159]                   \t\t [ 7.5163717   3.583929    1.8824621 ] \n",
      " [    9    37    41]                   \t\t [ 7.436404    3.169812    2.7309902 ] \n",
      " [   14    26 65540]                   \t\t [ 3.9801478   0.80575365         nan] \n",
      " [   11    20 65540]                   \t\t [ 5.945877    1.18746            nan] \n",
      " [   13    19 65540]                   \t\t [ 3.5250945   0.0327382          nan] \n",
      " [   23 65540 65540]                   \t\t [ 0.                 nan         nan] \n",
      " [   12    36    68]                   \t\t [ 9.867659    5.401917    2.0280166 ] \n",
      " [   12    32    50]                   \t\t [ 9.042909    3.6222131   1.7757701 ] \n",
      " [   15    19 65540]                   \t\t [ 0.08735014  0.                 nan] \n",
      " [   19    33    45]                   \t\t [ 8.330823    4.51415     2.2677927 ] \n",
      " [   18    47    70]                   \t\t [ 8.621302    5.8495345   3.1256557 ] \n",
      " [   12    21    31]                   \t\t [ 8.4222975   2.8605769   0.        ] \n",
      " [   15    29 65540]                   \t\t [ 5.5974317   1.5697453          nan] \n",
      " [   14    19 65540]                   \t\t [ 0.29083574  0.                 nan] \n",
      " [   21 65540 65540]                   \t\t [ 0.                 nan         nan] \n",
      " [   13    20 65540]                   \t\t [ 3.4809263   0.                 nan] \n",
      " [   15    25 65540]                   \t\t [ 4.15923     0.95822304         nan] \n",
      " [   13    22    31]                   \t\t [ 7.3029413   4.557743    1.3569005 ] \n",
      " [    8    60    69]                   \t\t [ 7.001155    2.5236583   1.4441675 ] \n",
      " [   19 65540 65540]                   \t\t [ 0.                 nan         nan] \n",
      " ...                                   \t\t ...                                   \n",
      " [   14    21 65540]                   \t\t [ 3.2662005   0.                 nan] \n",
      " [    8    19    33]                   \t\t [ 9.746617    4.706306    1.5574106 ] \n",
      " [   22    41    56]                   \t\t [ 7.16952     2.9625251   1.7071961 ] \n",
      " [   15    51    61]                   \t\t [ 5.9764605   3.702665    2.6325214 ] \n",
      " [   17    32    45]                   \t\t [ 6.090651    4.297886    1.4600006 ] \n",
      " [   16    26    43]                   \t\t [ 9.322404    6.225494    0.5977349 ] \n",
      " [   14    37    48]                   \t\t [ 7.805269    3.182843    2.074825  ] \n",
      " [   12    23 65540]                   \t\t [ 5.9363103   1.245081           nan] \n",
      " [   25 65540 65540]                   \t\t [ 0.                 nan         nan] \n",
      " [   14    37    89]                   \t\t [11.618715    8.445102    2.118513  ] \n",
      " [   20   104   140]                   \t\t [ 7.36335     3.3688507   2.744478  ] \n",
      " [   19    24 65540]                   \t\t [ 2.6867394   0.35066107         nan] \n",
      " [   11    18 65540]                   \t\t [ 4.919889    0.                 nan] \n",
      " [   23    35 65540]                   \t\t [ 2.1089344   0.                 nan] \n",
      " [   23 65540 65540]                   \t\t [ 0.                 nan         nan] \n",
      " [   18    24 65540]                   \t\t [ 2.0905147   0.                 nan] \n",
      " [   13    30    42]                   \t\t [ 8.768153    5.0385833   1.1717815 ] \n",
      " [   14    22 65540]                   \t\t [ 3.7837203   0.                 nan] \n",
      " [   15    38    51]                   \t\t [ 7.8076596   2.8029788   0.9074104 ] \n",
      " [   14    30 65540]                   \t\t [ 5.4913745   1.7843214          nan] \n",
      " [   12    20 65540]                   \t\t [ 2.6369393   0.                 nan] \n",
      " [   19 65540 65540]                   \t\t [ 0.                 nan         nan] \n",
      " [   12    35 65540]                   \t\t [ 4.4221144   0.5086327          nan] \n",
      " [   16    26 65540]                   \t\t [ 3.1877658   0.                 nan] \n",
      " [   14    25 65540]                   \t\t [ 1.2598307   0.                 nan] \n",
      " [    9    48    61]                   \t\t [ 6.72415     2.8816073   1.6674682 ] \n",
      " [   11    20 65540]                   \t\t [ 3.536788    0.45855883         nan] \n",
      " [   17 65540 65540]                   \t\t [ 0.                 nan         nan] \n",
      " [   17 65537 65540]                   \t\t [ 0.8                nan         nan] \n",
      " [   12 65537 65540]]                  \t\t [ 3.                 nan         nan]]\n"
     ]
    }
   ],
   "source": [
    "sampling_days_safe = np.where(sampling_days < NDAYS, sampling_days, -1)\n",
    "sampling_symptoms_safe = np.take_along_axis(pop.scores['symptom'], sampling_days_safe, axis=1)\n",
    "sampling_symptoms = np.where(sampling_days < NDAYS, sampling_symptoms_safe, np.NaN)\n",
    "\n",
    "helper.print_collocated([[str(sampling_days), str(sampling_symptoms)]])"
   ]
  },
  {
   "cell_type": "code",
   "execution_count": 19,
   "metadata": {},
   "outputs": [],
   "source": [
    "np.set_printoptions(suppress=True)"
   ]
  },
  {
   "cell_type": "markdown",
   "metadata": {},
   "source": [
    "# First Sample"
   ]
  },
  {
   "cell_type": "code",
   "execution_count": 20,
   "metadata": {},
   "outputs": [
    {
     "name": "stdout",
     "output_type": "stream",
     "text": [
      "First sample is always taken\n",
      "True (811 / 811 satisfy)\n"
     ]
    }
   ],
   "source": [
    "print(\"First sample is always taken\")\n",
    "\n",
    "first_taken = np.isfinite(sampling_symptoms[:,0])\n",
    "print(np.all(first_taken), f\"({first_taken.sum()} / {pop.npersons} satisfy)\")"
   ]
  },
  {
   "cell_type": "markdown",
   "metadata": {},
   "source": [
    "# Second Sample"
   ]
  },
  {
   "cell_type": "code",
   "execution_count": 21,
   "metadata": {},
   "outputs": [
    {
     "name": "stdout",
     "output_type": "stream",
     "text": [
      "2nd sample: already_reached iff sample 1 was 0\n",
      "True (98 satisfy / 811 satisfy)\n"
     ]
    }
   ],
   "source": [
    "print(\"2nd sample: already_reached iff sample 1 was 0\")\n",
    "\n",
    "alreadyreached = sampling_days[:,1] == _ALREADYREACHED\n",
    "symp1_was_0 = sampling_symptoms[:,0] == 0\n",
    "only_one_true = np.logical_xor(symp1_was_0, alreadyreached)\n",
    "print(np.all(~only_one_true), f\"({alreadyreached.sum()} satisfy / {pop.npersons} satisfy)\")"
   ]
  },
  {
   "cell_type": "code",
   "execution_count": 22,
   "metadata": {},
   "outputs": [
    {
     "name": "stdout",
     "output_type": "stream",
     "text": [
      "2nd sample: unreached iff none from day of first sample to end are <= 50% of symptom of first sample\n",
      "True (16 / 811 satisfy)\n"
     ]
    }
   ],
   "source": [
    "print(\"2nd sample: unreached iff none from day of first sample to end are <= 50% of symptom of first sample\")\n",
    "\n",
    "unreached_value = []\n",
    "for i in range(pop.npersons):\n",
    "    index_day = sampling_days[i,0]\n",
    "    index_value = sampling_symptoms[i,0]\n",
    "    trigger_value = index_value * 0.5\n",
    "    curr_and_future_values = pop.scores['symptom'][i,index_day:]\n",
    "    unreached_value.append(np.min(curr_and_future_values) > trigger_value)\n",
    "\n",
    "unreached_day = sampling_days[:,1] == _UNREACHED_SMILE\n",
    "unreached_value = np.array(unreached_value)\n",
    "only_one_true = np.logical_xor(unreached_day, unreached_value)\n",
    "print(np.all(~only_one_true), f\"({unreached_day.sum()} / {pop.npersons} satisfy)\")"
   ]
  },
  {
   "cell_type": "code",
   "execution_count": 23,
   "metadata": {},
   "outputs": [
    {
     "name": "stdout",
     "output_type": "stream",
     "text": [
      "2nd sample: call when value is <= 50% of value at index\n",
      "True (697 / 811 satisfy)\n",
      "Plot of delays\n"
     ]
    },
    {
     "data": {
      "image/png": "[encoded data removed]",
      "text/plain": [
       "<Figure size 432x288 with 1 Axes>"
      ]
     },
     "metadata": {
      "needs_background": "light"
     },
     "output_type": "display_data"
    },
    {
     "name": "stdout",
     "output_type": "stream",
     "text": [
      "Ratio of delays below 7 days (should be around 0.90)\n",
      "0.8981348637015782\n"
     ]
    }
   ],
   "source": [
    "print(\"2nd sample: call when value is <= 50% of value at index\")\n",
    "\n",
    "call_days = []\n",
    "for i in range(pop.npersons):\n",
    "    if np.logical_or(alreadyreached[i], unreached_day[i]):\n",
    "        call_days.append(-1)\n",
    "    else:\n",
    "        index_day = sampling_days[i,0]\n",
    "        index_value = sampling_symptoms[i,0]\n",
    "        trigger_value = index_value * 0.5\n",
    "        j = index_day+1\n",
    "        while(True):\n",
    "            try:\n",
    "                if pop.scores['symptom'][i,j] <= trigger_value:\n",
    "                    call_days.append(j)\n",
    "                    break;\n",
    "                else:\n",
    "                    j += 1\n",
    "            except IndexError:\n",
    "                print(i,j)\n",
    "                raise(Exception)\n",
    "call_days = np.array(call_days)\n",
    "\n",
    "has_reached_sampling_days = sampling_days[:,1] < NDAYS\n",
    "has_reached_call_days = call_days > -1\n",
    "has_only_one_true = np.logical_xor(has_reached_sampling_days, has_reached_call_days)\n",
    "print(np.all(~has_only_one_true), f\"({has_reached_call_days.sum()} / {pop.npersons} satisfy)\")\n",
    "\n",
    "\n",
    "reached_sampling_days = sampling_days[has_reached_sampling_days,1]\n",
    "reached_call_days = call_days[has_reached_call_days]\n",
    "delays = reached_sampling_days - reached_call_days\n",
    "\n",
    "print(\"Plot of delays\")\n",
    "unique, counts = np.unique(delays, return_counts=True)\n",
    "plt.bar(unique, counts)\n",
    "plt.show()\n",
    "\n",
    "\n",
    "print(\"Ratio of delays below 7 days (should be around 0.90)\")\n",
    "cumm = 0\n",
    "tot = 0\n",
    "for uni, cou in zip(unique, counts):\n",
    "    if uni < 7: cumm += cou\n",
    "    tot += cou\n",
    "print(cumm / tot)"
   ]
  },
  {
   "cell_type": "markdown",
   "metadata": {},
   "source": [
    "# Third Sample"
   ]
  },
  {
   "cell_type": "markdown",
   "metadata": {},
   "source": [
    "## (given second is valid)"
   ]
  },
  {
   "cell_type": "code",
   "execution_count": 24,
   "metadata": {},
   "outputs": [
    {
     "name": "stdout",
     "output_type": "stream",
     "text": [
      "3nd sample (given 2nd is valid): already_reached iff sample2val <= 2\n",
      "True (359 / 811 satisfy)\n"
     ]
    }
   ],
   "source": [
    "print(\"3nd sample (given 2nd is valid): already_reached iff sample2val <= 2\")\n",
    "\n",
    "is_prev_reached = sampling_days[:,1] < NDAYS\n",
    "\n",
    "alreadyreached = sampling_days[is_prev_reached,2] == _ALREADYREACHED\n",
    "prev_was_small = sampling_symptoms[is_prev_reached,1] <= 2\n",
    "only_one_true = np.logical_xor(alreadyreached, prev_was_small)\n",
    "print(np.all(~only_one_true), f\"({alreadyreached.sum()} / {pop.npersons} satisfy)\")"
   ]
  },
  {
   "cell_type": "code",
   "execution_count": 25,
   "metadata": {},
   "outputs": [
    {
     "name": "stdout",
     "output_type": "stream",
     "text": [
      "3nd sample (given 2nd is valid): unreached iff none from day of 2nd sample to end are <= 2\n",
      "True (26 / 811 satisfy)\n"
     ]
    }
   ],
   "source": [
    "print(\"3nd sample (given 2nd is valid): unreached iff none from day of 2nd sample to end are <= 2\")\n",
    "\n",
    "is_prev_reached = sampling_days[:,1] < NDAYS\n",
    "\n",
    "unreached_value = []\n",
    "for i in range(pop.npersons):\n",
    "    index_day = sampling_days[i,1]\n",
    "    trigger_value = 2\n",
    "    curr_and_future_values = pop.scores['symptom'][i,index_day:]\n",
    "    unreached_value.append(is_prev_reached[i] and (np.min(curr_and_future_values) > trigger_value))\n",
    "\n",
    "unreached_day = sampling_days[is_prev_reached,2] == _UNREACHED_MAGNITUDE\n",
    "unreached_value = np.array(unreached_value)[is_prev_reached]\n",
    "only_one_true = np.logical_xor(unreached_day, unreached_value)\n",
    "print(np.all(~only_one_true), f\"({unreached_day.sum()} / {pop.npersons} satisfy)\")"
   ]
  },
  {
   "cell_type": "code",
   "execution_count": 26,
   "metadata": {},
   "outputs": [
    {
     "name": "stdout",
     "output_type": "stream",
     "text": [
      "3nd sample (given 2nd is valid): call when value is <= 2\n",
      "True (308 / 811 satisfy)\n",
      "Plot of delays\n"
     ]
    },
    {
     "data": {
      "image/png": "[encoded data removed]",
      "text/plain": [
       "<Figure size 432x288 with 1 Axes>"
      ]
     },
     "metadata": {
      "needs_background": "light"
     },
     "output_type": "display_data"
    },
    {
     "name": "stdout",
     "output_type": "stream",
     "text": [
      "Ratio of delays below 7 days (should be around 0.90)\n",
      "0.922077922077922\n"
     ]
    }
   ],
   "source": [
    "print(\"3nd sample (given 2nd is valid): call when value is <= 2\")\n",
    "\n",
    "is_prev_reached = sampling_days[:,1] < NDAYS\n",
    "\n",
    "call_days = []\n",
    "for i in range(pop.npersons):\n",
    "    if sampling_days[i,2] >= NDAYS or not is_prev_reached[i]:\n",
    "        call_days.append(-1)\n",
    "    else:\n",
    "        index_day = sampling_days[i,1]\n",
    "        trigger_value = 2\n",
    "        j = index_day+1\n",
    "        while(True):\n",
    "            try:\n",
    "                if pop.scores['symptom'][i,j] <= trigger_value:\n",
    "                    call_days.append(j)\n",
    "                    break;\n",
    "                else:\n",
    "                    j += 1\n",
    "            except IndexError:\n",
    "                print(i,j)\n",
    "                raise(Exception)\n",
    "call_days = np.array(call_days)\n",
    "\n",
    "has_reached_sampling_days = sampling_days[is_prev_reached,2] < NDAYS\n",
    "has_reached_call_days = call_days[is_prev_reached] > -1\n",
    "has_only_one_true = np.logical_xor(has_reached_sampling_days, has_reached_call_days)\n",
    "print(np.all(~has_only_one_true), f\"({has_reached_call_days.sum()} / {pop.npersons} satisfy)\")\n",
    "\n",
    "\n",
    "reached_sampling_days = sampling_days[is_prev_reached][has_reached_sampling_days,2]\n",
    "reached_call_days = call_days[is_prev_reached][has_reached_call_days]\n",
    "delays = reached_sampling_days - reached_call_days\n",
    "\n",
    "print(\"Plot of delays\")\n",
    "unique, counts = np.unique(delays, return_counts=True)\n",
    "plt.bar(unique, counts)\n",
    "plt.show()\n",
    "\n",
    "\n",
    "print(\"Ratio of delays below 7 days (should be around 0.90)\")\n",
    "cumm = 0\n",
    "tot = 0\n",
    "for uni, cou in zip(unique, counts):\n",
    "    if uni < 7: cumm += cou\n",
    "    tot += cou\n",
    "print(cumm / tot)"
   ]
  },
  {
   "cell_type": "markdown",
   "metadata": {},
   "source": [
    "## (given second is already_reached)"
   ]
  },
  {
   "cell_type": "code",
   "execution_count": 27,
   "metadata": {},
   "outputs": [
    {
     "name": "stdout",
     "output_type": "stream",
     "text": [
      "3nd sample (given 2nd is already_reached): always already_reached because first sample has value 0\n",
      "True (98 / 811 satisfy)\n"
     ]
    }
   ],
   "source": [
    "print(\"3nd sample (given 2nd is already_reached): always already_reached because first sample has value 0\")\n",
    "\n",
    "is_prev_alreadyreached = sampling_days[:,1] == _ALREADYREACHED\n",
    "\n",
    "alreadyreached = sampling_days[is_prev_alreadyreached,2] == _ALREADYREACHED\n",
    "print(np.all(alreadyreached), f\"({alreadyreached.sum()} / {pop.npersons} satisfy)\")"
   ]
  },
  {
   "cell_type": "markdown",
   "metadata": {},
   "source": [
    "## (given second is unreached)"
   ]
  },
  {
   "cell_type": "code",
   "execution_count": 28,
   "metadata": {},
   "outputs": [
    {
     "name": "stdout",
     "output_type": "stream",
     "text": [
      "3nd sample (given 2nd is unreached): already_reached iff 1st sample val <= 2\n",
      "False (2 / 811 satisfy)\n"
     ]
    },
    {
     "name": "stderr",
     "output_type": "stream",
     "text": [
      ":: UserWarning: None!\n"
     ]
    }
   ],
   "source": [
    "print(\"3nd sample (given 2nd is unreached): already_reached iff 1st sample val <= 2\")\n",
    "\n",
    "is_prev_unreached = sampling_days[:,1] == _UNREACHED_SMILE\n",
    "\n",
    "alreadyreached = sampling_days[is_prev_unreached,2] == _ALREADYREACHED\n",
    "prev_was_small = sampling_symptoms[is_prev_unreached,0] <= 2\n",
    "only_one_true = np.logical_xor(alreadyreached, prev_was_small)\n",
    "print(np.all(~only_one_true), f\"({alreadyreached.sum()} / {pop.npersons} satisfy)\")\n",
    "\n",
    "warn(\"None!\")"
   ]
  },
  {
   "cell_type": "code",
   "execution_count": 29,
   "metadata": {},
   "outputs": [
    {
     "name": "stdout",
     "output_type": "stream",
     "text": [
      "65537 65538 65540\n",
      "[[   17 65537 65540]\n",
      " [   12 65537 65540]]\n",
      "[[0.8 0.8 0.8 0.8 0.8 0.8 0.8 0.8 0.8 0.8 0.8 0.8 0.8 0.8 0.8 0.8 0.8 0.8 0.8 0.8 0.8 0.8 0.8 0.8 0.8 0.8 0.8 0.8 0.8 0.8 0.8 0.8 0.8 0.8 0.8 0.8 0.8 0.8 0.8 0.8 0.8 0.8 0.8 0.8 0.8 0.8 0.8 0.8 0.8 0.8 0.8 0.8 0.8 0.8 0.8 0.8 0.8 0.8 0.8 0.8 0.8 0.8 0.8 0.8 0.8 0.8 0.8 0.8 0.8 0.8 0.8 0.8 0.8 0.8 0.8 0.8 0.8 0.8 0.8 0.8 0.8 0.8 0.8 0.8 0.8 0.8 0.8 0.8 0.8 0.8 0.8 0.8 0.8 0.8 0.8 0.8 0.8 0.8 0.8 0.8 0.8 0.8 0.8 0.8 0.8 0.8 0.8 0.8 0.8 0.8 0.8 0.8 0.8 0.8 0.8 0.8 0.8 0.8 0.8 0.8 0.8 0.8 0.8 0.8 0.8 0.8 0.8 0.8 0.8 0.8 0.8 0.8 0.8 0.8 0.8 0.8 0.8 0.8 0.8 0.8 0.8 0.8 0.8 0.8 0.8 0.8 0.8 0.8 0.8 0.8 0.8 0.8 0.8 0.8 0.8 0.8 0.8 0.8 0.8 0.8]\n",
      " [3.  3.  3.  3.  3.  3.  3.  3.  3.  3.  3.  3.  3.  3.  3.  3.  3.  3.  3.  3.  3.  3.  3.  3.  3.  3.  3.  3.  3.  3.  3.  3.  3.  3.  3.  3.  3.  3.  3.  3.  3.  3.  3.  3.  3.  3.  3.  3.  3.  3.  3.  3.  3.  3.  3.  3.  3.  3.  3.  3.  3.  3.  3.  3.  3.  3.  3.  3.  3.  3.  3.  3.  3.  3.  3.  3.  3.  3.  3.  3.  2.  2.  2.  2.  2.  2.  2.  2.  2.  2.  2.  2.  2.  2.  2.  2.  2.  2.  2.  2.  2.  2.  2.  2.  2.  2.  2.  2.  2.  2.  2.  2.  2.  2.  2.  2.  2.  2.  2.  2.  2.  2.  2.  2.  2.  2.  2.  2.  2.  2.  2.  2.  2.  2.  2.  2.  2.  2.  2.  2.  2.  2.  2.  2.  2.  2.  2.  2.  2.  2.  2.  2.  2.  2.  2.  2.  2.  2.  2.  2. ]]\n"
     ]
    }
   ],
   "source": [
    "print(_UNREACHED_SMILE, _UNREACHED_MAGNITUDE, _ALREADYREACHED)\n",
    "print(sampling_days[-2:])\n",
    "print(pop.scores['symptom'][-2:])"
   ]
  },
  {
   "cell_type": "code",
   "execution_count": 30,
   "metadata": {},
   "outputs": [],
   "source": [
    "np.random.set_state(state)\n",
    "\n",
    "methodologies[0].sample(poster_filtered_poplists[0, 0])\n",
    "methodologies[1].sample(poster_filtered_poplists[0, 0])\n",
    "methodologies[0].sample(worddoc_filtered_poplists[0, 0])\n",
    "\n",
    "pop = worddoc_filtered_poplists[0,0][0]\n",
    "pop.sampling_summary = {'nsamplers':3, 'limit':[], 'if_reached':[]}"
   ]
  },
  {
   "cell_type": "code",
   "execution_count": 31,
   "metadata": {},
   "outputs": [],
   "source": [
    "pop.scores['symptom'][-2] = np.array([0.8]*160)\n",
    "pop.scores['symptom'][-1] = np.array([3.0]*80 + [2.0]*80)"
   ]
  },
  {
   "cell_type": "code",
   "execution_count": 32,
   "metadata": {},
   "outputs": [
    {
     "name": "stdout",
     "output_type": "stream",
     "text": [
      "[[   17 65537     0]\n",
      " [   12 65537     0]]\n"
     ]
    }
   ],
   "source": [
    "sampling_days_2 = np.zeros((pop.npersons, 3), dtype=int)\n",
    "\n",
    "sampler1.sample(pop, 0, sampling_days_2)\n",
    "sampler2.sample(pop, 1, sampling_days_2)\n",
    "\n",
    "print(sampling_days_2[-2:])"
   ]
  },
  {
   "cell_type": "code",
   "execution_count": 33,
   "metadata": {},
   "outputs": [],
   "source": [
    "self = sampler3\n",
    "population = pop\n",
    "order = 2\n",
    "sampling_days_2 = sampling_days_2\n",
    "\n",
    "smilescores = population.scores[self.scorename] #scores which the method value refers to\n",
    "smilescore_lowerbound = get_MIN(self.scorename)\n",
    "\n",
    "# Compute the days where the milestones are triggered\n",
    "comparison_array = (smilescores <= self.value) if self.triggered_by_equal else (smilescores < self.value)\n",
    "# Compute the days where the milestones are triggered consecutively\n",
    "if self.min_triggered == 1:\n",
    "    pass #don't change comparison_array\n",
    "elif self.min_triggered > 1:\n",
    "    triggered_in_a_row = np.ones_like(comparison_array[:,self.min_triggered-1:]) #initial\n",
    "    for start in range(self.min_triggered):\n",
    "        end = start + 1-self.min_triggered\n",
    "        if end == 0: end = None\n",
    "        triggered_in_a_row = triggered_in_a_row * comparison_array[:,start:end] # accumulate\n",
    "    comparison_array[:,self.min_triggered-1:] = triggered_in_a_row #we only checked when enough days have passed\n",
    "    comparison_array[:,:self.min_triggered-1] = False #the rest can't have had enough days in a row"
   ]
  },
  {
   "cell_type": "code",
   "execution_count": 34,
   "metadata": {},
   "outputs": [],
   "source": [
    "temp = []"
   ]
  },
  {
   "cell_type": "code",
   "execution_count": 35,
   "metadata": {},
   "outputs": [],
   "source": [
    "#only check on or after previous (valid) sample day by\n",
    "#setting the comparison values from days 0 to prev sample day (excluding end) to False\n",
    "if order > 0:\n",
    "    for i in range(population.npersons):\n",
    "        #for getting valid prev day\n",
    "        for prev_order in range(order-1, 0-1, -1):\n",
    "            prev_sample_day = sampling_days_2[i, prev_order]\n",
    "            if prev_sample_day < NDAYS: break\n",
    "        #for setting days until then as don't consider\n",
    "        temp.append(prev_sample_day)\n",
    "        comparison_array[i,:prev_sample_day] = False\n",
    "#if it is True on the same day as the previous sample day, the finish_sampling will consider it already_reached"
   ]
  },
  {
   "cell_type": "code",
   "execution_count": 36,
   "metadata": {},
   "outputs": [],
   "source": [
    "#the day at which the milestone is reached for each person\n",
    "sampling_days_2_temp = np.argmax(comparison_array, axis=1) \n",
    "#the day at which the milestone is reached for each person, inc. 0 for 'never reached'\n",
    "sampling_days_2[:,order] = sampling_days_2_temp \n",
    "#record of which persons reached the milestones\n",
    "persons_reached_milestone = np.take_along_axis(comparison_array, \n",
    "                                               helper.to_vertical(sampling_days_2_temp), \n",
    "                                               axis=1)\n",
    "#give invalid day to those who didn't reach\n",
    "sampling_days_2[~persons_reached_milestone.flatten(), order] = _UNREACHED_MAGNITUDE\n",
    "if not np.all(persons_reached_milestone): \n",
    "    warn(f\"There are {(~persons_reached_milestone.flatten()).sum()} who didn't reach their milestone\")"
   ]
  },
  {
   "cell_type": "code",
   "execution_count": 41,
   "metadata": {},
   "outputs": [
    {
     "data": {
      "text/plain": [
       "array([[   17, 65537,    17],\n",
       "       [   12, 65537,    80]])"
      ]
     },
     "execution_count": 41,
     "metadata": {},
     "output_type": "execute_result"
    }
   ],
   "source": [
    "sampling_days_2[-2:]"
   ]
  },
  {
   "cell_type": "code",
   "execution_count": 49,
   "metadata": {},
   "outputs": [
    {
     "name": "stdout",
     "output_type": "stream",
     "text": [
      "There are 459 who had already reached their milestone\n"
     ]
    }
   ],
   "source": [
    "#checks if new calling day is on the same day as the prev sample or before\n",
    "#TraditionalSampler is allowed to have new calling day on the same day as prev (but not before)\n",
    "if not isinstance(self, TraditionalSampler): #TODO make this check a parameter set in class definition\n",
    "    already_reached = (sampling_days_2[:,order] <= sampling_days_2[:,order-1])\n",
    "else:\n",
    "    already_reached = (sampling_days_2[:,order] < sampling_days_2[:,order-1])\n",
    "\n",
    "if np.any(already_reached): \n",
    "    print(f\"There are {already_reached.sum()} who had already reached their milestone\")"
   ]
  },
  {
   "cell_type": "code",
   "execution_count": null,
   "metadata": {},
   "outputs": [],
   "source": [
    "if self.if_reached == 'same':\n",
    "    #fast forwards new sample to previous sample\n",
    "    sampling_days_2[:,order] = np.where(already_reached, sampling_days_2[:,order-1], sampling_days_2[:,order])\n",
    "if self.if_reached == 'NaN':\n",
    "    #will be masked with fill_value = NaN\n",
    "    sampling_days_2[:,order] = np.where(already_reached, _ALREADYREACHED, sampling_days_2[:,order]) \n",
    "if self.if_reached == 'raise':\n",
    "    if np.any(already_reached): \n",
    "        raise ValueError(\"Patient was already here when he arrived for his prev sample\")\n",
    "#remember how many triggered if_reached\n",
    "population.sampling_summary['if_reached'].append((np.sum(already_reached), self.if_reached))"
   ]
  },
  {
   "cell_type": "code",
   "execution_count": null,
   "metadata": {},
   "outputs": [],
   "source": [
    "raise Exception"
   ]
  },
  {
   "cell_type": "code",
   "execution_count": 39,
   "metadata": {},
   "outputs": [],
   "source": [
    "#add delay\n",
    "persons_valid = sampling_days_2[:,order] < NDAYS\n",
    "npersons_valid = persons_valid.sum()\n",
    "if isinstance(self.delay, int):\n",
    "    sampling_days_2[persons_valid,order] += self.delay\n",
    "elif callable(self.delay):\n",
    "    sampling_days_2[persons_valid,order] += self.delay((npersons_valid,))"
   ]
  },
  {
   "cell_type": "code",
   "execution_count": 40,
   "metadata": {},
   "outputs": [
    {
     "data": {
      "text/plain": [
       "array([[   17, 65537, 65540],\n",
       "       [   12, 65537, 65540]])"
      ]
     },
     "execution_count": 40,
     "metadata": {},
     "output_type": "execute_result"
    }
   ],
   "source": [
    "sampling_days_2[-2:]"
   ]
  },
  {
   "cell_type": "code",
   "execution_count": 42,
   "metadata": {},
   "outputs": [],
   "source": [
    "#limit #TODO ask if should be done before delay\n",
    "limitval, limitbehaviour = self.limit #unpack\n",
    "if isinstance(limitval, int):\n",
    "    limitvals = limitval #numpy will broadcast to the right shape\n",
    "elif isinstance(limitval, tuple):\n",
    "    ref_index, limitvalfunc = limitval #unpack\n",
    "    prev_sampling_days_2 = sampling_days_2[:,:order]\n",
    "    limitvals = limitvalfunc(prev_sampling_days_2[:,ref_index])\n",
    "#check where reached or exceeded limit\n",
    "reached_limit = sampling_days_2[:,order] > limitvals\n",
    "reached_limit = np.logical_and(reached_limit, persons_valid) #ignore those already_sampled\n",
    "#act on limit\n",
    "if limitbehaviour == 'raise':\n",
    "    if np.any(reached_limit):\n",
    "        raise IndexError(\"Reached limit\") #TODO better error message\n",
    "if limitbehaviour == 'clip':\n",
    "    sampling_days_2[:,order] = np.where(reached_limit, limitvals, sampling_days_2[:,order])\n",
    "if limitbehaviour == 'NaN':\n",
    "    #will be masked with fill_value = NaN\n",
    "    sampling_days_2[:,order] = np.where(reached_limit, _LIMITREACHED, sampling_days_2[:,order])\n",
    "#TODO add ('replace', replaceval) as a limitbehaviour option (where 'clip would be a special case')\n",
    "#remember how many triggered limit\n",
    "population.sampling_summary['limit'].append((np.sum(reached_limit), limitbehaviour))"
   ]
  },
  {
   "cell_type": "code",
   "execution_count": 43,
   "metadata": {},
   "outputs": [
    {
     "data": {
      "text/plain": [
       "array([[   17, 65537, 65540],\n",
       "       [   12, 65537, 65540]])"
      ]
     },
     "execution_count": 43,
     "metadata": {},
     "output_type": "execute_result"
    }
   ],
   "source": [
    "sampling_days_2[-2:]"
   ]
  },
  {
   "cell_type": "code",
   "execution_count": null,
   "metadata": {},
   "outputs": [],
   "source": []
  },
  {
   "cell_type": "code",
   "execution_count": 32,
   "metadata": {},
   "outputs": [
    {
     "ename": "Exception",
     "evalue": "",
     "output_type": "error",
     "traceback": [
      "\u001b[1;31m---------------------------------------------------------------------------\u001b[0m",
      "\u001b[1;31mException\u001b[0m                                 Traceback (most recent call last)",
      "\u001b[1;32m<ipython-input-32-2aee0157c87b>\u001b[0m in \u001b[0;36m<module>\u001b[1;34m\u001b[0m\n\u001b[1;32m----> 1\u001b[1;33m \u001b[1;32mraise\u001b[0m \u001b[0mException\u001b[0m\u001b[1;33m\u001b[0m\u001b[1;33m\u001b[0m\u001b[0m\n\u001b[0m",
      "\u001b[1;31mException\u001b[0m: "
     ]
    }
   ],
   "source": [
    "raise Exception"
   ]
  },
  {
   "cell_type": "code",
   "execution_count": null,
   "metadata": {},
   "outputs": [],
   "source": []
  },
  {
   "cell_type": "code",
   "execution_count": null,
   "metadata": {},
   "outputs": [],
   "source": []
  },
  {
   "cell_type": "code",
   "execution_count": null,
   "metadata": {},
   "outputs": [],
   "source": []
  },
  {
   "cell_type": "code",
   "execution_count": 27,
   "metadata": {},
   "outputs": [
    {
     "name": "stdout",
     "output_type": "stream",
     "text": [
      "3nd sample (given 2nd is unreached): unreached iff none from day of 1st sample to end are <= 2\n",
      "False (16 / 811 satisfy)\n"
     ]
    }
   ],
   "source": [
    "print(\"3nd sample (given 2nd is unreached): unreached iff none from day of 1st sample to end are <= 2\")\n",
    "\n",
    "is_prev_unreached = sampling_days[:,1] == _UNREACHED_SMILE\n",
    "\n",
    "unreached_value = []\n",
    "for i in range(pop.npersons):\n",
    "    try:\n",
    "        index_day = sampling_days[i,0]\n",
    "        trigger_value = 2\n",
    "        curr_and_future_values = pop.scores['symptom'][i,index_day:]\n",
    "        unreached_value.append(is_prev_unreached[i] and (np.min(curr_and_future_values) > trigger_value))\n",
    "    except Exception as e:\n",
    "        print(i)\n",
    "        raise(e)\n",
    "\n",
    "unreached_day = sampling_days[is_prev_unreached,2] == _UNREACHED_MAGNITUDE\n",
    "unreached_value = np.array(unreached_value)[is_prev_unreached]\n",
    "only_one_true = np.logical_xor(unreached_day, unreached_value)\n",
    "print(np.all(~only_one_true), f\"({unreached_day.sum()} / {pop.npersons} satisfy)\")"
   ]
  },
  {
   "cell_type": "code",
   "execution_count": 28,
   "metadata": {},
   "outputs": [
    {
     "name": "stdout",
     "output_type": "stream",
     "text": [
      "3nd sample (given 2nd is unreached): call when value is <= 2\n",
      "True (0 / 811 satisfy)\n",
      "Plot of delays\n"
     ]
    },
    {
     "data": {
      "image/png": "[encoded data removed]",
      "text/plain": [
       "<Figure size 432x288 with 1 Axes>"
      ]
     },
     "metadata": {
      "needs_background": "light"
     },
     "output_type": "display_data"
    },
    {
     "name": "stdout",
     "output_type": "stream",
     "text": [
      "Ratio of delays below 7 days (should be around 0.90)\n"
     ]
    },
    {
     "ename": "ZeroDivisionError",
     "evalue": "division by zero",
     "output_type": "error",
     "traceback": [
      "\u001b[1;31m---------------------------------------------------------------------------\u001b[0m",
      "\u001b[1;31mZeroDivisionError\u001b[0m                         Traceback (most recent call last)",
      "\u001b[1;32m<ipython-input-28-7419a3fc617a>\u001b[0m in \u001b[0;36m<module>\u001b[1;34m\u001b[0m\n\u001b[0;32m     47\u001b[0m     \u001b[1;32mif\u001b[0m \u001b[0muni\u001b[0m \u001b[1;33m<\u001b[0m \u001b[1;36m7\u001b[0m\u001b[1;33m:\u001b[0m \u001b[0mcumm\u001b[0m \u001b[1;33m+=\u001b[0m \u001b[0mcou\u001b[0m\u001b[1;33m\u001b[0m\u001b[1;33m\u001b[0m\u001b[0m\n\u001b[0;32m     48\u001b[0m     \u001b[0mtot\u001b[0m \u001b[1;33m+=\u001b[0m \u001b[0mcou\u001b[0m\u001b[1;33m\u001b[0m\u001b[1;33m\u001b[0m\u001b[0m\n\u001b[1;32m---> 49\u001b[1;33m \u001b[0mprint\u001b[0m\u001b[1;33m(\u001b[0m\u001b[0mcumm\u001b[0m \u001b[1;33m/\u001b[0m \u001b[0mtot\u001b[0m\u001b[1;33m)\u001b[0m\u001b[1;33m\u001b[0m\u001b[1;33m\u001b[0m\u001b[0m\n\u001b[0m",
      "\u001b[1;31mZeroDivisionError\u001b[0m: division by zero"
     ]
    }
   ],
   "source": [
    "print(\"3nd sample (given 2nd is unreached): call when value is <= 2\")\n",
    "\n",
    "is_prev_unreached = sampling_days[:,1] == _UNREACHED_SMILE\n",
    "\n",
    "call_days = []\n",
    "for i in range(pop.npersons):\n",
    "    if sampling_days[i,2] >= NDAYS or not is_prev_unreached[i]:\n",
    "        call_days.append(-1)\n",
    "    else:\n",
    "        index_day = sampling_days[i,0]\n",
    "        trigger_value = 2\n",
    "        j = index_day+1\n",
    "        while(True):\n",
    "            try:\n",
    "                if pop.scores['symptom'][i,j] <= trigger_value:\n",
    "                    call_days.append(j)\n",
    "                    break;\n",
    "                else:\n",
    "                    j += 1\n",
    "            except IndexError:\n",
    "                print(i,j)\n",
    "                raise(Exception)\n",
    "call_days = np.array(call_days)\n",
    "\n",
    "has_reached_sampling_days = sampling_days[is_prev_unreached,2] < NDAYS\n",
    "has_reached_call_days = call_days[is_prev_unreached] > -1\n",
    "has_only_one_true = np.logical_xor(has_reached_sampling_days, has_reached_call_days)\n",
    "print(np.all(~has_only_one_true), f\"({has_reached_call_days.sum()} / {pop.npersons} satisfy)\")\n",
    "\n",
    "warn(\"None!\")\n",
    "\n",
    "\n",
    "reached_sampling_days = sampling_days[is_prev_unreached][has_reached_sampling_days,2]\n",
    "reached_call_days = call_days[is_prev_unreached][has_reached_call_days]\n",
    "delays = reached_sampling_days - reached_call_days\n",
    "\n",
    "print(\"Plot of delays\")\n",
    "unique, counts = np.unique(delays, return_counts=True)\n",
    "plt.bar(unique, counts)\n",
    "plt.show()\n",
    "\n",
    "\n",
    "print(\"Ratio of delays below 7 days (should be around 0.90)\")\n",
    "cumm = 0\n",
    "tot = 0\n",
    "for uni, cou in zip(unique, counts):\n",
    "    if uni < 7: cumm += cou\n",
    "    tot += cou\n",
    "print(cumm / tot)"
   ]
  },
  {
   "cell_type": "code",
   "execution_count": 43,
   "metadata": {},
   "outputs": [
    {
     "name": "stdout",
     "output_type": "stream",
     "text": [
      "[[ 0  1  2  3  4]\n",
      " [ 5  6  7  8  9]\n",
      " [10 11 12 13 14]]\n",
      "[[1]\n",
      " [3]\n",
      " [5]]\n"
     ]
    },
    {
     "ename": "IndexError",
     "evalue": "index 5 is out of bounds for axis 1 with size 5",
     "output_type": "error",
     "traceback": [
      "\u001b[1;31m---------------------------------------------------------------------------\u001b[0m",
      "\u001b[1;31mIndexError\u001b[0m                                Traceback (most recent call last)",
      "\u001b[1;32m<ipython-input-43-b565aa39f637>\u001b[0m in \u001b[0;36m<module>\u001b[1;34m\u001b[0m\n\u001b[0;32m      3\u001b[0m \u001b[0mbrr\u001b[0m \u001b[1;33m=\u001b[0m \u001b[0mnp\u001b[0m\u001b[1;33m.\u001b[0m\u001b[0marray\u001b[0m\u001b[1;33m(\u001b[0m\u001b[1;33m[\u001b[0m\u001b[1;33m[\u001b[0m\u001b[1;36m1\u001b[0m\u001b[1;33m]\u001b[0m\u001b[1;33m,\u001b[0m \u001b[1;33m[\u001b[0m\u001b[1;36m3\u001b[0m\u001b[1;33m]\u001b[0m\u001b[1;33m,\u001b[0m \u001b[1;33m[\u001b[0m\u001b[1;36m5\u001b[0m\u001b[1;33m]\u001b[0m\u001b[1;33m]\u001b[0m\u001b[1;33m)\u001b[0m\u001b[1;33m\u001b[0m\u001b[1;33m\u001b[0m\u001b[0m\n\u001b[0;32m      4\u001b[0m \u001b[0mprint\u001b[0m\u001b[1;33m(\u001b[0m\u001b[0mbrr\u001b[0m\u001b[1;33m)\u001b[0m\u001b[1;33m\u001b[0m\u001b[1;33m\u001b[0m\u001b[0m\n\u001b[1;32m----> 5\u001b[1;33m \u001b[0mnp\u001b[0m\u001b[1;33m.\u001b[0m\u001b[0mtake_along_axis\u001b[0m\u001b[1;33m(\u001b[0m\u001b[0marr\u001b[0m\u001b[1;33m,\u001b[0m \u001b[0mbrr\u001b[0m\u001b[1;33m,\u001b[0m \u001b[0maxis\u001b[0m\u001b[1;33m=\u001b[0m\u001b[1;36m1\u001b[0m\u001b[1;33m)\u001b[0m\u001b[1;33m\u001b[0m\u001b[1;33m\u001b[0m\u001b[0m\n\u001b[0m",
      "\u001b[1;32m<__array_function__ internals>\u001b[0m in \u001b[0;36mtake_along_axis\u001b[1;34m(*args, **kwargs)\u001b[0m\n",
      "\u001b[1;32mC:\\ProgramData\\Anaconda3\\envs\\smile\\lib\\site-packages\\numpy\\lib\\shape_base.py\u001b[0m in \u001b[0;36mtake_along_axis\u001b[1;34m(arr, indices, axis)\u001b[0m\n\u001b[0;32m    170\u001b[0m \u001b[1;33m\u001b[0m\u001b[0m\n\u001b[0;32m    171\u001b[0m     \u001b[1;31m# use the fancy index\u001b[0m\u001b[1;33m\u001b[0m\u001b[1;33m\u001b[0m\u001b[1;33m\u001b[0m\u001b[0m\n\u001b[1;32m--> 172\u001b[1;33m     \u001b[1;32mreturn\u001b[0m \u001b[0marr\u001b[0m\u001b[1;33m[\u001b[0m\u001b[0m_make_along_axis_idx\u001b[0m\u001b[1;33m(\u001b[0m\u001b[0marr_shape\u001b[0m\u001b[1;33m,\u001b[0m \u001b[0mindices\u001b[0m\u001b[1;33m,\u001b[0m \u001b[0maxis\u001b[0m\u001b[1;33m)\u001b[0m\u001b[1;33m]\u001b[0m\u001b[1;33m\u001b[0m\u001b[1;33m\u001b[0m\u001b[0m\n\u001b[0m\u001b[0;32m    173\u001b[0m \u001b[1;33m\u001b[0m\u001b[0m\n\u001b[0;32m    174\u001b[0m \u001b[1;33m\u001b[0m\u001b[0m\n",
      "\u001b[1;31mIndexError\u001b[0m: index 5 is out of bounds for axis 1 with size 5"
     ]
    }
   ],
   "source": [
    "arr = np.arange(15).reshape(3,5)\n",
    "print(arr)\n",
    "brr = np.array([[1], [3], [5]])\n",
    "print(brr)\n",
    "np.take_along_axis(arr, brr, axis=1)"
   ]
  }
 ],
 "metadata": {
  "kernelspec": {
   "display_name": "Python [conda env:smile] *",
   "language": "python",
   "name": "conda-env-smile-py"
  },
  "language_info": {
   "codemirror_mode": {
    "name": "ipython",
    "version": 3
   },
   "file_extension": ".py",
   "mimetype": "text/x-python",
   "name": "python",
   "nbconvert_exporter": "python",
   "pygments_lexer": "ipython3",
   "version": "3.7.7"
  }
 },
 "nbformat": 4,
 "nbformat_minor": 4
}
