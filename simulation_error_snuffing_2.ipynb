{
 "cells": [
  {
   "cell_type": "code",
   "execution_count": 1,
   "metadata": {},
   "outputs": [],
   "source": [
    "from warnings import warn"
   ]
  },
  {
   "cell_type": "code",
   "execution_count": 2,
   "metadata": {},
   "outputs": [],
   "source": [
    "# Standard library imports\n",
    "import os\n",
    "from datetime import datetime\n",
    "\n",
    "# Third party imports\n",
    "import matplotlib.pyplot as plt\n",
    "import numpy as np\n",
    "import dill\n",
    "\n",
    "# Local application imports\n",
    "from smile.population import Population, PopulationList\n",
    "from smile.sampling import *\n",
    "from smile import helper\n",
    "from smile.global_params import *"
   ]
  },
  {
   "cell_type": "code",
   "execution_count": 3,
   "metadata": {},
   "outputs": [],
   "source": [
    "#from smile/sampling.py\n",
    "\n",
    "# Standard library imports\n",
    "from collections import UserList\n",
    "from abc import ABC, abstractmethod #abstract base class\n",
    "from functools import partial #for binding variables to functions\n",
    "\n",
    "# Third party imports\n",
    "import numpy as np\n",
    "import numpy.ma as ma\n",
    "\n",
    "# Local application imports\n",
    "from smile.population import Population, PopulationList\n",
    "from smile import helper\n",
    "from smile.helper import warn\n",
    "from smile.global_params import get_MIN, NDAYS, FIRSTVISIT, LASTVISIT\n",
    "from smile.global_params import _UNREACHED_SMILE, _UNREACHED_MAGNITUDE, _LIMITREACHED, _ALREADYREACHED"
   ]
  },
  {
   "cell_type": "code",
   "execution_count": 4,
   "metadata": {},
   "outputs": [],
   "source": [
    "# Settings\n",
    "seed = 3 # chosen by fair dice roll. guaranteed to be random. https://xkcd.com/221/\n",
    "np.random.seed(seed)\n",
    "np.set_printoptions(edgeitems=30, linewidth=100000)\n",
    "pickle_dir = 'D:\\saved_populations_8_3'"
   ]
  },
  {
   "cell_type": "code",
   "execution_count": 5,
   "metadata": {},
   "outputs": [],
   "source": [
    "# Pickling functions\n",
    "def dump_to_file(obj, filename, filesuffix='.pik', \n",
    "                 dirname=None, create_newdir=False, avoid_overwrite=True):\n",
    "    #build path\n",
    "    if dirname is not None: \n",
    "        if not os.path.isdir(dirname):\n",
    "            if create_newdir:\n",
    "                os.makedirs(dirname)\n",
    "                print(f\"Directory {dirname} was created\")\n",
    "            else:\n",
    "                raise OSError(f\"Directory {dirname} doesn't exist and needs to be created\")\n",
    "        filename = os.path.join(dirname, filename+filesuffix)\n",
    "    else:\n",
    "        filename = filename+filesuffix\n",
    "    #check if will overwrite\n",
    "    if os.path.isfile(filename) and avoid_overwrite:\n",
    "        raise OSError(f\"File {filename} already exists and would be overwritten\")\n",
    "    else:\n",
    "        with open(filename, 'wb') as f:\n",
    "            dill.dump(obj, f, protocol=4)\n",
    "def load_from_file(filename):\n",
    "    with open(filename, 'rb') as f:\n",
    "        return dill.load(f)"
   ]
  },
  {
   "cell_type": "code",
   "execution_count": 6,
   "metadata": {},
   "outputs": [],
   "source": [
    "# Definitions\n",
    "#populations\n",
    "def get_poster_populations(slope_option, error_option, npersons=100, npops=100):\n",
    "    '''\n",
    "    returns a PopulationList similar to the one described in the poster\n",
    "    slope_option is 1, 2, or 3\n",
    "    error_option is 30/100 or 50/100\n",
    "    '''\n",
    "    \n",
    "    # Define and set visual score function\n",
    "    pop = Population(npersons, f'poster with {slope_option} and {error_option}')\n",
    "    gen_visualscores = lambda t,r,v0: np.maximum(-r*t+v0, VMIN)\n",
    "    pop.set_score_generator('visual', gen_visualscores)\n",
    "    gen_r = lambda shape: 0.2\n",
    "    gen_v0 = lambda shape: np.random.randint(14, 18+1, shape)\n",
    "    pop.set_parameter_generator('r', gen_r, 'population')\n",
    "    pop.set_parameter_generator('v0', gen_v0, 'person')\n",
    "\n",
    "    # Define and set symptom score function\n",
    "    gen_symptomscores = lambda v,a,s0: np.maximum(a*v+s0, SMIN)\n",
    "    pop.set_score_generator('symptom_noerror', gen_symptomscores)\n",
    "    gen_a = lambda shape: slope_option\n",
    "    gen_s0 = lambda shape: np.random.normal(6, 2, shape)\n",
    "    pop.set_parameter_generator('a', gen_a, 'population')\n",
    "    pop.set_parameter_generator('s0', gen_s0, 'person')\n",
    "\n",
    "    # Define and set error functions\n",
    "    #Multiplicative\n",
    "    pop.set_score_generator('symptom', lambda s,C: s*C)\n",
    "    gen_C_mul = lambda shape: np.random.uniform(1-error_option, 1+error_option, shape)\n",
    "    pop.set_parameter_generator('C', gen_C_mul, 'day')\n",
    "\n",
    "    # Repeat\n",
    "    pops = PopulationList.full(npops, pop)\n",
    "    \n",
    "    # Return\n",
    "    return pops\n",
    "def get_worddoc_populations(slope_option, error_option, npersons=100, npops=100):\n",
    "    \n",
    "    # Define and set visual score function\n",
    "    pop = Population(npersons, title=f'realistic with {slope_option} and {error_option}')\n",
    "    gen_visualscores = lambda t,r,v0: np.maximum(-r*t+v0, VMIN)\n",
    "    pop.set_score_generator('visual', gen_visualscores)\n",
    "    gen_r = lambda shape: helper.beta(shape, 0, 2, 0.2, 1.4) #median at 0.4\n",
    "    gen_v0 = lambda shape: helper.truncatednormal_general(14, 16, 18, 1, shape)\n",
    "    pop.set_parameter_generator('r', gen_r, 'person')\n",
    "    pop.set_parameter_generator('v0', gen_v0, 'person')\n",
    "    \n",
    "    #Define and set symptom score functions\n",
    "    gen_symptomscores = lambda v,a: a*(v-VMIN)\n",
    "    pop.set_score_generator('symptom_noerror', gen_symptomscores)\n",
    "    gen_a = lambda shape: slope_option\n",
    "    pop.set_parameter_generator('a', gen_a, 'population')\n",
    "    \n",
    "    # Define and set error functions\n",
    "    #Multiplicative\n",
    "    pop.set_score_generator('symptom', lambda s,C: s*C)\n",
    "    gen_C_mul = lambda shape: np.random.uniform(1-error_option, 1+error_option, shape)\n",
    "    pop.set_parameter_generator('C', gen_C_mul, 'day')\n",
    "\n",
    "    # Repeat\n",
    "    pops = PopulationList.full(npops, pop)\n",
    "    \n",
    "    # Return\n",
    "    return pops\n",
    "#simulations\n",
    "def get_traditional_methodology():\n",
    "    methodology = Methodology('traditonal')\n",
    "\n",
    "    first_delay_func = lambda shape: helper.beta(shape, 7, 28, 14, 2.9).astype('int') #90% at 21\n",
    "\n",
    "    methodology.add_sampler(TraditionalSampler(day=0, delay=first_delay_func))\n",
    "    methodology.add_sampler(TraditionalSampler(day=('sample', -1), delay=14))\n",
    "    methodology.add_sampler(TraditionalSampler(day=('sample', -1), delay=14))\n",
    "\n",
    "    return methodology\n",
    "def get_realistic_methodology():\n",
    "    methodology = Methodology('realistic')\n",
    "\n",
    "    #limit is irrelevant because max(day+delay) < NDAYS\n",
    "    #if_reached is irrelevant because first sampling method\n",
    "    first_delay_func = lambda shape: helper.beta(shape, 7, 28, 14, 2.9).astype('int') #90% at 21\n",
    "    sampler1 = TraditionalSampler(day=0, delay=first_delay_func)\n",
    "    methodology.add_sampler(sampler1)\n",
    "\n",
    "    #if_reached is irrelevant because index is previous sample\n",
    "    other_delay_func = lambda shape: helper.beta(shape, 0, 14, 4, 3.8).astype('int') #90% at 7\n",
    "    sampler2 = SmileSampler(index=('sample', -1), ratio=0.5, scorename='symptom',\n",
    "                            delay=other_delay_func, triggered_by_equal=True, min_triggered=1, \n",
    "                            limit=(LASTVISIT, 'clip'), if_reached='NaN')\n",
    "    methodology.add_sampler(sampler2)\n",
    "\n",
    "    #same delay as previous\n",
    "    sampler3 = MagnitudeSampler(value=2, scorename='symptom',\n",
    "                                delay=other_delay_func, triggered_by_equal=True,\n",
    "                                limit=(LASTVISIT, 'clip'), if_reached='NaN')\n",
    "    methodology.add_sampler(sampler3)\n",
    "\n",
    "    return methodology"
   ]
  },
  {
   "cell_type": "code",
   "execution_count": 7,
   "metadata": {},
   "outputs": [],
   "source": [
    "#parameters\n",
    "npersons=1000\n",
    "npops=1000\n",
    "slope_options = (1, 2, 3)\n",
    "error_options = (0.3, 0.5)"
   ]
  },
  {
   "cell_type": "code",
   "execution_count": 8,
   "metadata": {},
   "outputs": [],
   "source": [
    "np.random.seed(seed)\n",
    "\n",
    "npops=1\n",
    "index = 0\n",
    "\n",
    "if index is not None: \n",
    "    suffix='_'+str(index)\n",
    "    verbose = False\n",
    "else: \n",
    "    suffix=''\n",
    "    verbose = True\n",
    "\n",
    "#preallocate arrays\n",
    "poplists_shape = (len(slope_options), len(error_options))\n",
    "poster_poplists = np.empty(poplists_shape, dtype=object)\n",
    "worddoc_poplists = np.empty(poplists_shape, dtype=object)"
   ]
  },
  {
   "cell_type": "code",
   "execution_count": 9,
   "metadata": {},
   "outputs": [
    {
     "name": "stdout",
     "output_type": "stream",
     "text": [
      "\n"
     ]
    }
   ],
   "source": [
    "'''#create and generate\n",
    "for i, j in np.ndindex(poplists_shape):\n",
    "    if verbose: print(i, j)\n",
    "    options = (slope_options[i], error_options[j])\n",
    "    poster_poplists[i, j] = get_poster_populations(*options, npersons, npops)\n",
    "    worddoc_poplists[i, j] = get_worddoc_populations(*options, npersons, npops)\n",
    "    poster_poplists[i, j].generate()\n",
    "    worddoc_poplists[i, j].generate()\n",
    "\n",
    "#pickle\n",
    "dump_to_file(poster_poplists, 'poster_poplists'+suffix, dirname=pickle_dir, create_newdir=True)\n",
    "dump_to_file(worddoc_poplists, 'worddoc_poplists'+suffix, dirname=pickle_dir)\n",
    "if verbose: print(\"Done generation.\")\n",
    "\n",
    "\n",
    "# Filtering\n",
    "\n",
    "#define\n",
    "filter_kwargs = {'filter_type':'ratio_early', 'copy':True,\n",
    "                 'index_day':0, 'recovered_ratio':0.4, 'scorename':'symptom'}\n",
    "\n",
    "#preallocate arrays\n",
    "poster_filtered_poplists = np.empty_like(poster_poplists)\n",
    "worddoc_filtered_poplists = np.empty_like(worddoc_poplists)\n",
    "\n",
    "#filter\n",
    "for i, j in np.ndindex(poplists_shape):\n",
    "    if verbose: print(i, j)\n",
    "    poster_filtered_poplists[i, j] = poster_poplists[i, j].filter(**filter_kwargs)\n",
    "    worddoc_filtered_poplists[i, j] = worddoc_poplists[i, j].filter(**filter_kwargs)\n",
    "\n",
    "#pickle\n",
    "dump_to_file(poster_filtered_poplists, 'poster_filtered_poplists'+suffix, dirname=pickle_dir)\n",
    "dump_to_file(worddoc_filtered_poplists, 'worddoc_filtered_poplists'+suffix, dirname=pickle_dir)\n",
    "if verbose: print(\"Done filtering.\")\n",
    "    \n",
    "#state = np.random.get_state()\n",
    "#print(state)'''\n",
    "print()"
   ]
  },
  {
   "cell_type": "code",
   "execution_count": 10,
   "metadata": {},
   "outputs": [],
   "source": [
    "state = ('MT19937', np.array([2962524577, 1673754294, 1403069053, 3310752670, 2150748404, 1614059452, 2497208348, 1640151344, 3468855398, 3720181135, 1891071198, 1956677444, 4019869901, 2257263567,  162440196, 2896027871,  555007269, 3132089494,  106028734, 2444731365, 2696487513, 3958701767, 2953116324, 1234582482, 3789125954, 3463075842,  294109048, 4204826201, 3617146104, 4045101201, 2755258201, 4127667857, 3696684517, 1208452850, 1208056221, 1045749637, 1596697527, 2772050092, 4288039924, 1435200570,  193151316, 2522991091, 2951580961, 3587302748, 2224023524, 4280287261, 4196025060, 2009477641, 4281943410, 1595652892, 2447706052, 3309857241, 2685832696, 4035670494, 3142604370,  916922574, 2222859523, 4197045632, 1922629509,  460303068, 3157486035, 1537336642, 4053129777,  247110365, 4144466430, 2232095284, 3939371760, 2576373998, 1603351964, 1052312235, 3165573111, 3248186934,  603172881, 2991203459, 1507010990,  658859037, 3998804971, 4283297135, 3929143711, 3332227784,  159059983, 3272388240, 2394159390, 1047738837, 3372245351, 2869973426, 3647313694,  785953559, 1193884913, 2560162864,  125121977, 3933898792, 3147402066, 1083935805, 3183949652, 3075823144,  424169932, 1458051273, 2353087904, 2493346307, 1610737908, 1023045591, 3691117245,  910595644, 2620136404, 1896848137, 1778754715, 1360761329, 3678669641, 3051695931, 2132869126, 3145689170, 2905933491, 1042741354,  401846631,  325388124, 2543504141, 1328618882, 4172701060, 1988443744, 3196167787,  247109501, 2501678380, 3633333619, 2955112146,  159847684, 3751301928, 3905104983, 4251988045, 1498133574, 3193683786,   20590818, 2598381305,  172533427,   91922338, 1130296217,  546489405, 4054577000, 3714128153,  458397046, 1763222388, 3582846067, 4218733163, 2751428247, 3117554187, 2487007324,   50137688, 1311023416, 3703944428, 1915565849, 3021674350, 3950901711, 3231144900,  856493185, 1138515845, 3992657139,  823286758, 4241908457, 2666948650, 3825104051, 2556924563, 2260358832, 3290204568, 2840732707,  798747408,  437653215,  224237832,  727918936, 3990567187, 2582256652, 2310117940, 3752012301,  191213546, 3490914805,  616832337, 3577660776, 3928896522, 1405031918, 2489501508,  748149056, 1798669675, 1066643391,  728029821, 4100582468,  443975640, 4241552582, 3872657472, 1531154470, 2509111327, 3604404577, 3675838967, 1159415143, 1153970042, 3250109838, 3988113558, 1760587973, 1266479929, 2540146897, 2519308032,  773012932, 3247767323, 1487448203, 2522487160,  289182580, 4134348588, 4043692091, 3098759610,  602528582, 3136320525,  657224585, 3190563644, 3629928680,  474995258,  988388115, 2980371030,  304847411, 1523623158, 3599771938, 3299560547, 2144130719,  766376746, 1057584629, 1868584901, 3011282311, 3189475582, 1818760880, 3073194227, 2795354778, 1371194107,  172409568, 3859038954, 2566552990, 1750446490, 1686241969,  604518425, 1939219951, 4099853735, 3839807536,  400270144, 2464469330,  112289859,  276763250, 1634081348,  399122302, 2000116946,  216086402, 3452966769, 1588855574, 3322782230,  574544822, 2490654753,  409212381,  160265617, 3017049346, 3573444927, 1740522960, 2686049101, 1268168538, 2655713465, 3267993503, 4022240039,  804852897, 4216470745, 3417442739, 3643715596, 3767901146, 2760423213, 3289870105, 3099037359, 1602202114, 3218763688, 3248046158, 2302587493, 3433950259, 1637741184, 1897434504,  407705558, 4034163292,  819439911, 2332097103, 3858654421,  873470642, 2735453630, 3096875808, 3325797208, 3907789038, 4161038521, 2889651917, 3816972814, 4176252369, 1170576903, 1023289567, 3384682584, 2454132438, 1772809864, 3232012054,  258664869,   29361161, 3047011742, 2612168855, 4110077122, 1258093998,  485843318, 1543947621, 1579258454, 3280950267, 3181442110, 2693516283, 3027633405,  939778273,  467598849,  481820279,  833565246,  121940299, 3557298006, 1137114277, 2878542548, 3692700970, 3195167106, 2932098987, 2271709511,  124450586, 2837988573, 3343731580, 4087790421, 2149544497, 1976223870, 1029951797, 3028662352, 3996077178,  122305908, 1442086068, 1376730351,  550413091,   19576414, 1806294422, 3985692241, 2688598763, 1881570248, 2712957892, 3896091527,   29345295, 3092670640,  778027226, 3103601603, 1992976343, 3094613427,  757767149,  695296982, 4112843937, 1323920881, 4021047683, 3591571655, 3491965425,  818183058, 1291619059,  651739426, 3648804909,  828520920, 1448496566, 2371212545, 1367110566, 2168314386,  172084378, 2678052721, 3681962451, 3472692927, 2080736518, 4233370017, 1676249706, 2924068216, 1983538652, 1281805945, 2260113446,  959302891, 3374405301, 1037842103, 3705345261,  310580684,    3953313,  196266935, 1035520356, 2703547154,  726563311,  432347905, 3749926353, 1763857169, 1503918235, 3850932828, 1147999315, 3890753832, 3672023121, 2678033133,  948241286, 2504439749, 2770280188,  930828587,  358243772, 2161514302,  837717577,  857475039, 2538739232,  378183472, 2370250179, 1887909332, 3565223139, 1986615431, 1485637523,    4327776, 1976287010,  743098000, 4083083894, 3514648614, 2189986080,  698788302, 1189285076, 2204052099, 3373516581, 3073364029, 4206978005, 4236068855, 2347145695, 2774111166, 1600907130, 1916959399, 3236109786, 3963543818, 2105702810,  329575020, 4280626477, 1406677975, 3609725891,  143530962, 2718747814,  283040834, 2283013549, 1052223275, 1033473294, 2177958675, 1589816008, 2898279465, 3373298705, 1382445692,  239497181, 3156311709,  530127651, 1163969480, 1250063549, 3352918279, 3186410165, 3225879328, 4134636515, 2468392437, 2638035009, 1125790721, 3699499030,  470177812, 1652476610, 2106353707, 1868242572, 2596842009,  768563123,  731126592, 3286590604, 4022795771, 1952073786, 1092644780, 1227240983,  258223923, 2943347620, 3884112101, 2442608769, 3349363935, 2386665317, 3668459484, 1595682394, 1137419649,  713016728, 2271093243, 1177480870,  862085350, 3376267549, 1483115310, 3188758783,  438971434, 2510254426, 2744770629, 3682203590, 3413431247, 1799877235, 3935831478, 2370754455, 1914116326, 1584963998, 2943467219,  279152663, 2786891411, 1801032995, 3019475041, 1707476310, 1383584266, 2059399810, 2348896768, 2611882787, 3301254041, 2672059828,  184265119, 1995976162, 1370574739, 2454464359, 2851498681, 2835628138, 3029051602, 3719053529, 2197887792,  964027880, 3233749272, 3162825811, 1583403689,  298968295, 1804700651, 3214091402, 2484536503, 2130593391, 2996589674,  897206310,  356933663, 1223526713, 3237896562, 2149975732, 2092572945, 3404123592,  990816278, 4192578854,  639249798, 2352662600, 1373524013, 2044931199, 2148934903, 3931691687, 2331301744, 3311943788,  664370375, 2700307854, 4248311467,  805367239, 2148042870, 3179039611, 1813725381,  103693824, 2597638614,  937648497, 1723817120, 4214114431, 3802228538,  293416013, 3870415730, 1753958486, 2768811752, 3048068887, 1958767403, 1499272821, 3870475792, 3207204027, 2749643173, 1033467119, 2982247581,  881776377,   53015050, 3270058793, 2545446936, 1762121894,  392707276,  283103343, 3626883096,  567148963, 2308596262, 2158148095, 2517037061, 3953488342, 2380100455, 1122082151, 2204695252, 2645717296, 3714180060,  818424913, 3944434964, 4212845964,  590085573, 1267185197, 3834012992, 3161683923,  675704302, 1763327952, 1874499649,  775946824, 1325582977,  722539037, 3014031185,  282981467, 3531430042,  667410577, 4102525186, 3286861729, 1144479092, 3051622034,  743370302, 2541324332, 2273963046, 3345702893,  442928778, 2243918487, 4037343766,   87899595, 3646913063, 2858221825,  112127098, 3018166720, 2621981463, 3533239191, 3470380540, 3563258168,  989357537, 3057231140], dtype=np.uint32), 235, 0, 0.0)\n",
    "state = (state[0], state[1]*2, *state[2:])"
   ]
  },
  {
   "cell_type": "code",
   "execution_count": 11,
   "metadata": {},
   "outputs": [],
   "source": [
    "poster_filtered_poplists = load_from_file(pickle_dir+\"\\poster_filtered_poplists_0.pik\")\n",
    "worddoc_filtered_poplists = load_from_file(pickle_dir+\"\\worddoc_filtered_poplists_0.pik\")"
   ]
  },
  {
   "cell_type": "code",
   "execution_count": 12,
   "metadata": {},
   "outputs": [],
   "source": [
    "np.random.set_state(state)\n",
    "\n",
    "# Sampling\n",
    "\n",
    "#create\n",
    "methodologies = [get_traditional_methodology(), get_realistic_methodology()]\n",
    "\n",
    "#preallocate arrays\n",
    "sampled_poplists_shape = (*poplists_shape, len(methodologies))\n",
    "poster_sampled_poplists = np.empty(sampled_poplists_shape, dtype=object)\n",
    "worddoc_sampled_poplists = np.empty(sampled_poplists_shape, dtype=object)"
   ]
  },
  {
   "cell_type": "code",
   "execution_count": 13,
   "metadata": {},
   "outputs": [
    {
     "name": "stdout",
     "output_type": "stream",
     "text": [
      "\n"
     ]
    }
   ],
   "source": [
    "'''#sample\n",
    "for i, j in np.ndindex(poplists_shape):\n",
    "    if verbose: print(i, j, 'poster', 0)\n",
    "    poster_sampled_poplists[i, j, 0] = methodologies[0].sample(poster_filtered_poplists[i, j])\n",
    "    if verbose: print(i, j, 'poster', 1)\n",
    "    poster_sampled_poplists[i, j, 1] = methodologies[1].sample(poster_filtered_poplists[i, j])\n",
    "    if verbose: print(i, j, 'poster', 0)\n",
    "    worddoc_sampled_poplists[i, j, 0] = methodologies[0].sample(worddoc_filtered_poplists[i, j])\n",
    "    if verbose: print(i, j, 'poster', 1)\n",
    "    worddoc_sampled_poplists[i, j, 1] = methodologies[1].sample(worddoc_filtered_poplists[i, j])\n",
    "\n",
    "\n",
    "#pickle\n",
    "dump_to_file(poster_sampled_poplists, 'poster_sampled_poplists'+suffix, dirname=pickle_dir)\n",
    "dump_to_file(worddoc_sampled_poplists, 'worddoc_sampled_poplists'+suffix, dirname=pickle_dir)\n",
    "if verbose: print(\"Done sampling.\")'''\n",
    "print()"
   ]
  },
  {
   "cell_type": "code",
   "execution_count": 14,
   "metadata": {},
   "outputs": [
    {
     "name": "stderr",
     "output_type": "stream",
     "text": [
      ":: UserWarning: There are 322 who didn't reach their milestone\n",
      ":: UserWarning: There are 1000 who didn't reach their milestone\n",
      ":: UserWarning: There are 322 who had already reached their milestone\n"
     ]
    }
   ],
   "source": [
    "np.random.set_state(state)\n",
    "\n",
    "methodologies[0].sample(poster_filtered_poplists[0, 0])\n",
    "methodologies[1].sample(poster_filtered_poplists[0, 0])\n",
    "methodologies[0].sample(worddoc_filtered_poplists[0, 0])\n",
    "\n",
    "pop = worddoc_filtered_poplists[0,0][0]\n",
    "pop.sampling_summary = {'nsamplers':3, 'limit':[], 'if_reached':[]}"
   ]
  },
  {
   "cell_type": "code",
   "execution_count": 15,
   "metadata": {},
   "outputs": [],
   "source": [
    "pop.scores['symptom'][-2] = np.array([0.8]*160)\n",
    "pop.scores['symptom'][-1] = np.array([3.0]*80 + [2.0]*80)"
   ]
  },
  {
   "cell_type": "code",
   "execution_count": 16,
   "metadata": {},
   "outputs": [],
   "source": [
    "methodology = Methodology('realistic')\n",
    "\n",
    "#limit is irrelevant because max(day+delay) < NDAYS\n",
    "#if_reached is irrelevant because first sampling method\n",
    "first_delay_func = lambda shape: helper.beta(shape, 7, 28, 14, 2.9).astype('int') #90% at 21\n",
    "sampler1 = TraditionalSampler(day=0, delay=first_delay_func)\n",
    "methodology.add_sampler(sampler1)\n",
    "\n",
    "#if_reached is irrelevant because index is previous sample\n",
    "other_delay_func = lambda shape: helper.beta(shape, 0, 14, 4, 3.8).astype('int') #90% at 7\n",
    "sampler2 = SmileSampler(index=('sample', -1), ratio=0.5, scorename='symptom',\n",
    "                        delay=other_delay_func, triggered_by_equal=True, min_triggered=1, \n",
    "                        #limit=((-1, lambda prev_day: prev_day+28), 'clip'), if_reached='NaN')\n",
    "                        limit=(LASTVISIT, 'clip'), if_reached='NaN')\n",
    "methodology.add_sampler(sampler2)\n",
    "\n",
    "#same delay as previous\n",
    "sampler3 = MagnitudeSampler(value=2, scorename='symptom',\n",
    "                            delay=other_delay_func, triggered_by_equal=True,\n",
    "                            #limit=(LASTVISIT, 'clip'), if_reached='NaN')\n",
    "                            limit=(LASTVISIT, 'clip'), if_reached='NaN')\n",
    "methodology.add_sampler(sampler3)"
   ]
  },
  {
   "cell_type": "code",
   "execution_count": 17,
   "metadata": {},
   "outputs": [
    {
     "name": "stderr",
     "output_type": "stream",
     "text": [
      ":: UserWarning: There are 16 who didn't reach their milestone\n",
      ":: UserWarning: There are 40 who didn't reach their milestone\n"
     ]
    }
   ],
   "source": [
    "sampling_days = np.zeros((pop.npersons, 3), dtype=int)\n",
    "\n",
    "sampler1.sample(pop, 0, sampling_days)\n",
    "sampler2.sample(pop, 1, sampling_days)\n",
    "sampler3.sample(pop, 2, sampling_days)"
   ]
  },
  {
   "cell_type": "code",
   "execution_count": 18,
   "metadata": {},
   "outputs": [
    {
     "name": "stdout",
     "output_type": "stream",
     "text": [
      "[[ 12  26  26]                         \t\t[[ 6.0433025   1.4714731   1.4714731 ] \n",
      " [ 16  24  24]                         \t\t [ 0.6656519   0.          0.        ] \n",
      " [ 17  22  22]                         \t\t [ 3.5418704   1.0275047   1.0275047 ] \n",
      " [ 27  27  27]                         \t\t [ 0.          0.          0.        ] \n",
      " [ 14  44  73]                         \t\t [ 8.502187    5.755444    1.952074  ] \n",
      " [ 16  52  73]                         \t\t [ 7.250168    4.0375476   1.2299527 ] \n",
      " [ 17  53 110]                         \t\t [12.332652    7.881353    2.3543427 ] \n",
      " [ 11  18  18]                         \t\t [ 4.316536    0.          0.        ] \n",
      " [ 15  62  70]                         \t\t [ 5.698953    2.4660177   1.8750231 ] \n",
      " [ 12  20  24]                         \t\t [ 7.478433    3.0360804   0.4754285 ] \n",
      " [ 15 100 156]                         \t\t [ 7.712316    5.867754    2.983375  ] \n",
      " [ 14  34  41]                         \t\t [ 6.8014455   3.9708133   2.7309902 ] \n",
      " [ 22  27  27]                         \t\t [ 2.5951066   0.64447755  0.64447755] \n",
      " [ 16  20  20]                         \t\t [ 3.3823967   1.18746     1.18746   ] \n",
      " [ 13  21  21]                         \t\t [ 3.5250945   0.          0.        ] \n",
      " [ 20  20  20]                         \t\t [ 0.          0.          0.        ] \n",
      " [ 11  29  67]                         \t\t [10.60693     5.348262    2.354446  ] \n",
      " [ 13  37  50]                         \t\t [ 8.701298    2.6466038   1.7757701 ] \n",
      " [ 11  21  21]                         \t\t [ 2.0485833   0.          0.        ] \n",
      " [ 15  39  48]                         \t\t [ 6.5731254   2.9180794   0.94030875] \n",
      " [  9  46  75]                         \t\t [ 9.797524    5.388094    1.9489344 ] \n",
      " [ 19  28  28]                         \t\t [ 3.239798    0.72140855  0.72140855] \n",
      " [ 19  29  29]                         \t\t [ 5.314696    1.5697453   1.5697453 ] \n",
      " [ 13  16  16]                         \t\t [ 0.84252125  0.          0.        ] \n",
      " [ 15  15  15]                         \t\t [ 0.          0.          0.        ] \n",
      " [ 19  19  19]                         \t\t [ 0.          0.          0.        ] \n",
      " [ 18  32  32]                         \t\t [ 2.9460523   0.          0.        ] \n",
      " [ 10  27  33]                         \t\t [ 5.94095     2.9645896   0.84172744] \n",
      " [ 20  60  69]                         \t\t [ 6.680651    2.5236583   1.4441675 ] \n",
      " [ 26  26  26]                         \t\t [ 0.          0.          0.        ] \n",
      " ...                                   \t\t ...                                   \n",
      " [ 18  22  22]                         \t\t [ 0.875355    0.          0.        ] \n",
      " [ 19  31  31]                         \t\t [ 4.706306    1.3199577   1.3199577 ] \n",
      " [ 16  50  50]                         \t\t [ 5.1816864   1.7952538   1.7952538 ] \n",
      " [ 10  52  65]                         \t\t [ 5.9992514   4.219407    2.2256002 ] \n",
      " [  8  30  47]                         \t\t [ 6.792873    2.9666493   1.3042493 ] \n",
      " [ 15  36  39]                         \t\t [ 5.3998504   2.0016975   1.5626609 ] \n",
      " [ 11  36  50]                         \t\t [ 7.935426    4.9043827   1.2640265 ] \n",
      " [ 10  25  25]                         \t\t [ 5.9255805   0.5379074   0.5379074 ] \n",
      " [ 11  16  16]                         \t\t [ 0.58736044  0.          0.        ] \n",
      " [ 11  38  91]                         \t\t [13.383944    8.9038515   1.9515762 ] \n",
      " [ 16  43 140]                         \t\t [12.892143   10.804578    2.744478  ] \n",
      " [ 11  26  26]                         \t\t [ 5.8996725   0.          0.        ] \n",
      " [ 21  21  21]                         \t\t [ 0.          0.          0.        ] \n",
      " [ 14  26  26]                         \t\t [ 3.874072    1.767048    1.767048  ] \n",
      " [ 16  24  24]                         \t\t [ 1.9164914   0.          0.        ] \n",
      " [ 17  20  20]                         \t\t [ 3.052825    0.932708    0.932708  ] \n",
      " [  9  34  41]                         \t\t [ 8.517837    3.2316532   1.2482733 ] \n",
      " [ 12  22  22]                         \t\t [ 3.5247989   0.          0.        ] \n",
      " [ 11  36  48]                         \t\t [ 6.614752    2.824382    1.9769508 ] \n",
      " [ 24  34  34]                         \t\t [ 2.6507025   0.7589938   0.7589938 ] \n",
      " [ 15  19  19]                         \t\t [ 1.085455    0.          0.        ] \n",
      " [  9  15  15]                         \t\t [ 3.9845154   1.1638025   1.1638025 ] \n",
      " [ 17  33  33]                         \t\t [ 4.006993    0.691553    0.691553  ] \n",
      " [ 18  25  25]                         \t\t [ 3.0260544   0.          0.        ] \n",
      " [ 11  19  19]                         \t\t [ 3.006111    0.          0.        ] \n",
      " [ 11  52  60]                         \t\t [ 6.4741716   2.719649    2.602306  ] \n",
      " [ 16  23  23]                         \t\t [ 1.9518914   0.          0.        ] \n",
      " [ 22  22  22]                         \t\t [ 0.          0.          0.        ] \n",
      " [ 21 159 159]                         \t\t [ 0.8         0.8         0.8       ] \n",
      " [ 16 159 159]]                        \t\t [ 3.          2.          2.        ]]\n"
     ]
    }
   ],
   "source": [
    "sampling_days_safe = np.where(sampling_days < NDAYS, sampling_days, -1)\n",
    "sampling_symptoms_safe = np.take_along_axis(pop.scores['symptom'], sampling_days_safe, axis=1)\n",
    "sampling_symptoms = np.where(sampling_days < NDAYS, sampling_symptoms_safe, np.NaN)\n",
    "\n",
    "helper.print_collocated([[str(sampling_days), str(sampling_symptoms)]])"
   ]
  },
  {
   "cell_type": "code",
   "execution_count": 19,
   "metadata": {},
   "outputs": [
    {
     "name": "stderr",
     "output_type": "stream",
     "text": [
      ":: UserWarning: There are 88 who had already reached their milestone\n",
      ":: UserWarning: There are 477 who had already reached their milestone\n"
     ]
    }
   ],
   "source": [
    "sampling_days2 = sampling_days.copy()\n",
    "\n",
    "is_same_day_as_prev = np.zeros_like(sampling_days, dtype=bool)\n",
    "is_same_day_as_prev[:,1:] = np.diff(sampling_days) == 0 #note first column/sample has no prev so False\n",
    "alreadyinvalid = sampling_days > LASTVISIT\n",
    "is_same_day_as_prev = np.logical_and(is_same_day_as_prev, ~alreadyinvalid)\n",
    "\n",
    "sampler1.set_alreadyreached(pop, 0, sampling_days, is_same_day_as_prev)\n",
    "sampler2.set_alreadyreached(pop, 1, sampling_days, is_same_day_as_prev)\n",
    "sampler3.set_alreadyreached(pop, 2, sampling_days, is_same_day_as_prev)"
   ]
  },
  {
   "cell_type": "code",
   "execution_count": 20,
   "metadata": {},
   "outputs": [
    {
     "name": "stdout",
     "output_type": "stream",
     "text": [
      "[[ 12  26  26]                         \t\t[[   12    26 65540]                   \t\t[[ 6.0433025   1.4714731          nan] \n",
      " [ 16  24  24]                         \t\t [   16    24 65540]                   \t\t [ 0.6656519   0.                 nan] \n",
      " [ 17  22  22]                         \t\t [   17    22 65540]                   \t\t [ 3.5418704   1.0275047          nan] \n",
      " [ 27  27  27]                         \t\t [   27 65540 65540]                   \t\t [ 0.                 nan         nan] \n",
      " [ 14  44  73]                         \t\t [   14    44    73]                   \t\t [ 8.502187    5.755444    1.952074  ] \n",
      " [ 16  52  73]                         \t\t [   16    52    73]                   \t\t [ 7.250168    4.0375476   1.2299527 ] \n",
      " [ 17  53 110]                         \t\t [   17    53   110]                   \t\t [12.332652    7.881353    2.3543427 ] \n",
      " [ 11  18  18]                         \t\t [   11    18 65540]                   \t\t [ 4.316536    0.                 nan] \n",
      " [ 15  62  70]                         \t\t [   15    62    70]                   \t\t [ 5.698953    2.4660177   1.8750231 ] \n",
      " [ 12  20  24]                         \t\t [   12    20    24]                   \t\t [ 7.478433    3.0360804   0.4754285 ] \n",
      " [ 15 100 156]                         \t\t [   15   100   156]                   \t\t [ 7.712316    5.867754    2.983375  ] \n",
      " [ 14  34  41]                         \t\t [   14    34    41]                   \t\t [ 6.8014455   3.9708133   2.7309902 ] \n",
      " [ 22  27  27]                         \t\t [   22    27 65540]                   \t\t [ 2.5951066   0.64447755         nan] \n",
      " [ 16  20  20]                         \t\t [   16    20 65540]                   \t\t [ 3.3823967   1.18746            nan] \n",
      " [ 13  21  21]                         \t\t [   13    21 65540]                   \t\t [ 3.5250945   0.                 nan] \n",
      " [ 20  20  20]                         \t\t [   20 65540 65540]                   \t\t [ 0.                 nan         nan] \n",
      " [ 11  29  67]                         \t\t [   11    29    67]                   \t\t [10.60693     5.348262    2.354446  ] \n",
      " [ 13  37  50]                         \t\t [   13    37    50]                   \t\t [ 8.701298    2.6466038   1.7757701 ] \n",
      " [ 11  21  21]                         \t\t [   11    21 65540]                   \t\t [ 2.0485833   0.                 nan] \n",
      " [ 15  39  48]                         \t\t [   15    39    48]                   \t\t [ 6.5731254   2.9180794   0.94030875] \n",
      " [  9  46  75]                         \t\t [    9    46    75]                   \t\t [ 9.797524    5.388094    1.9489344 ] \n",
      " [ 19  28  28]                         \t\t [   19    28 65540]                   \t\t [ 3.239798    0.72140855         nan] \n",
      " [ 19  29  29]                         \t\t [   19    29 65540]                   \t\t [ 5.314696    1.5697453          nan] \n",
      " [ 13  16  16]                         \t\t [   13    16 65540]                   \t\t [ 0.84252125  0.                 nan] \n",
      " [ 15  15  15]                         \t\t [   15 65540 65540]                   \t\t [ 0.                 nan         nan] \n",
      " [ 19  19  19]                         \t\t [   19 65540 65540]                   \t\t [ 0.                 nan         nan] \n",
      " [ 18  32  32]                         \t\t [   18    32 65540]                   \t\t [ 2.9460523   0.                 nan] \n",
      " [ 10  27  33]                         \t\t [   10    27    33]                   \t\t [ 5.94095     2.9645896   0.84172744] \n",
      " [ 20  60  69]                         \t\t [   20    60    69]                   \t\t [ 6.680651    2.5236583   1.4441675 ] \n",
      " [ 26  26  26]                         \t\t [   26 65540 65540]                   \t\t [ 0.                 nan         nan] \n",
      " ...                                   \t\t ...                                   \t\t ...                                   \n",
      " [ 18  22  22]                         \t\t [   18    22 65540]                   \t\t [ 0.875355    0.                 nan] \n",
      " [ 19  31  31]                         \t\t [   19    31 65540]                   \t\t [ 4.706306    1.3199577          nan] \n",
      " [ 16  50  50]                         \t\t [   16    50 65540]                   \t\t [ 5.1816864   1.7952538          nan] \n",
      " [ 10  52  65]                         \t\t [   10    52    65]                   \t\t [ 5.9992514   4.219407    2.2256002 ] \n",
      " [  8  30  47]                         \t\t [    8    30    47]                   \t\t [ 6.792873    2.9666493   1.3042493 ] \n",
      " [ 15  36  39]                         \t\t [   15    36    39]                   \t\t [ 5.3998504   2.0016975   1.5626609 ] \n",
      " [ 11  36  50]                         \t\t [   11    36    50]                   \t\t [ 7.935426    4.9043827   1.2640265 ] \n",
      " [ 10  25  25]                         \t\t [   10    25 65540]                   \t\t [ 5.9255805   0.5379074          nan] \n",
      " [ 11  16  16]                         \t\t [   11    16 65540]                   \t\t [ 0.58736044  0.                 nan] \n",
      " [ 11  38  91]                         \t\t [   11    38    91]                   \t\t [13.383944    8.9038515   1.9515762 ] \n",
      " [ 16  43 140]                         \t\t [   16    43   140]                   \t\t [12.892143   10.804578    2.744478  ] \n",
      " [ 11  26  26]                         \t\t [   11    26 65540]                   \t\t [ 5.8996725   0.                 nan] \n",
      " [ 21  21  21]                         \t\t [   21 65540 65540]                   \t\t [ 0.                 nan         nan] \n",
      " [ 14  26  26]                         \t\t [   14    26 65540]                   \t\t [ 3.874072    1.767048           nan] \n",
      " [ 16  24  24]                         \t\t [   16    24 65540]                   \t\t [ 1.9164914   0.                 nan] \n",
      " [ 17  20  20]                         \t\t [   17    20 65540]                   \t\t [ 3.052825    0.932708           nan] \n",
      " [  9  34  41]                         \t\t [    9    34    41]                   \t\t [ 8.517837    3.2316532   1.2482733 ] \n",
      " [ 12  22  22]                         \t\t [   12    22 65540]                   \t\t [ 3.5247989   0.                 nan] \n",
      " [ 11  36  48]                         \t\t [   11    36    48]                   \t\t [ 6.614752    2.824382    1.9769508 ] \n",
      " [ 24  34  34]                         \t\t [   24    34 65540]                   \t\t [ 2.6507025   0.7589938          nan] \n",
      " [ 15  19  19]                         \t\t [   15    19 65540]                   \t\t [ 1.085455    0.                 nan] \n",
      " [  9  15  15]                         \t\t [    9    15 65540]                   \t\t [ 3.9845154   1.1638025          nan] \n",
      " [ 17  33  33]                         \t\t [   17    33 65540]                   \t\t [ 4.006993    0.691553           nan] \n",
      " [ 18  25  25]                         \t\t [   18    25 65540]                   \t\t [ 3.0260544   0.                 nan] \n",
      " [ 11  19  19]                         \t\t [   11    19 65540]                   \t\t [ 3.006111    0.                 nan] \n",
      " [ 11  52  60]                         \t\t [   11    52    60]                   \t\t [ 6.4741716   2.719649    2.602306  ] \n",
      " [ 16  23  23]                         \t\t [   16    23 65540]                   \t\t [ 1.9518914   0.                 nan] \n",
      " [ 22  22  22]                         \t\t [   22 65540 65540]                   \t\t [ 0.                 nan         nan] \n",
      " [ 21 159 159]                         \t\t [   21   159 65540]                   \t\t [ 0.8         0.8                nan] \n",
      " [ 16 159 159]]                        \t\t [   16   159 65540]]                  \t\t [ 3.          2.                 nan]]\n"
     ]
    }
   ],
   "source": [
    "sampling_days_safe = np.where(sampling_days < NDAYS, sampling_days, -1)\n",
    "sampling_symptoms_safe = np.take_along_axis(pop.scores['symptom'], sampling_days_safe, axis=1)\n",
    "sampling_symptoms = np.where(sampling_days < NDAYS, sampling_symptoms_safe, np.NaN)\n",
    "\n",
    "helper.print_collocated([[str(sampling_days2), str(sampling_days), str(sampling_symptoms)]])"
   ]
  },
  {
   "cell_type": "code",
   "execution_count": 21,
   "metadata": {},
   "outputs": [],
   "source": [
    "np.set_printoptions(suppress=True)"
   ]
  },
  {
   "cell_type": "markdown",
   "metadata": {},
   "source": [
    "# Second Sample"
   ]
  },
  {
   "cell_type": "code",
   "execution_count": 22,
   "metadata": {},
   "outputs": [
    {
     "name": "stdout",
     "output_type": "stream",
     "text": [
      "2nd sample: never unreached NaN (because of limit clip)\n",
      "True (16 / 811 satisfy)\n"
     ]
    }
   ],
   "source": [
    "print(\"2nd sample: never unreached NaN (because of limit clip)\")\n",
    "\n",
    "unreached_value = []\n",
    "for i in range(pop.npersons):\n",
    "    index_day = sampling_days[i,0]\n",
    "    index_value = sampling_symptoms[i,0]\n",
    "    trigger_value = index_value * 0.5\n",
    "    curr_and_future_values = pop.scores['symptom'][i,index_day:]\n",
    "    unreached_value.append(np.min(curr_and_future_values) > trigger_value)\n",
    "\n",
    "unreached_day = sampling_days[:,1] == _UNREACHED_SMILE\n",
    "unreached_value = np.array(unreached_value)\n",
    "print(np.all(~unreached_day), f\"({unreached_value.sum()} / {pop.npersons} satisfy)\")"
   ]
  },
  {
   "cell_type": "markdown",
   "metadata": {},
   "source": [
    "# Third Sample"
   ]
  },
  {
   "cell_type": "markdown",
   "metadata": {},
   "source": [
    "## (given second is valid)"
   ]
  },
  {
   "cell_type": "code",
   "execution_count": 23,
   "metadata": {},
   "outputs": [
    {
     "name": "stdout",
     "output_type": "stream",
     "text": [
      "3nd sample (given 2nd is valid): already_reached iff sample2val <= 2 or prev was unreached\n",
      "False (389 / 811 satisfy)\n"
     ]
    },
    {
     "name": "stderr",
     "output_type": "stream",
     "text": [
      "C:\\ProgramData\\Anaconda3\\envs\\smile\\lib\\site-packages\\ipykernel_launcher.py:8: RuntimeWarning: invalid value encountered in less_equal\n",
      "  \n"
     ]
    }
   ],
   "source": [
    "print(\"3nd sample (given 2nd is valid): already_reached iff sample2val <= 2 or prev was unreached\")\n",
    "\n",
    "is_prev_reached = sampling_days[:,1] < NDAYS\n",
    "\n",
    "alreadyreached = sampling_days[:,2] == _ALREADYREACHED\n",
    "alreadyreached = np.logical_and(alreadyreached, is_prev_reached)\n",
    "\n",
    "prev_was_small = sampling_symptoms[:,1] <= 2\n",
    "prev_was_small = np.logical_and(prev_was_small, is_prev_reached)\n",
    "prev_was_unreached = unreached_value\n",
    "prev_was_small_or_unreached = np.logical_or(prev_was_small, prev_was_unreached)\n",
    "\n",
    "only_one_true = np.logical_xor(alreadyreached, prev_was_small_or_unreached)\n",
    "print(np.all(~only_one_true), f\"({alreadyreached.sum()} / {pop.npersons} satisfy)\")"
   ]
  },
  {
   "cell_type": "code",
   "execution_count": 24,
   "metadata": {},
   "outputs": [
    {
     "name": "stdout",
     "output_type": "stream",
     "text": [
      "Only exceptions in verification code are due to not differenciating between delay->clip and unreached->clip\n",
      "(array([548], dtype=int64),)\n",
      "[   15   159 65540]\n",
      "[8.391637 7.252641      nan]\n",
      "[8.391637 7.252641]\n"
     ]
    }
   ],
   "source": [
    "print(\"Only exceptions in verification code are due to not differenciating between delay->clip and unreached->clip\")\n",
    "\n",
    "print(np.where(only_one_true))\n",
    "print(sampling_days[548])\n",
    "print(sampling_symptoms[548])\n",
    "print(pop.scores['symptom'][548, np.array([15,159])])"
   ]
  },
  {
   "cell_type": "code",
   "execution_count": 25,
   "metadata": {},
   "outputs": [
    {
     "name": "stdout",
     "output_type": "stream",
     "text": [
      "3nd sample (given 2nd is valid): unreached or alreadyreached iff none from day of 2nd sample to end are <= 2\n",
      "False (419 / 811 satisfy)\n"
     ]
    }
   ],
   "source": [
    "print(\"3nd sample (given 2nd is valid): unreached or alreadyreached iff none from day of 2nd sample to end are <= 2\")\n",
    "\n",
    "is_prev_reached = sampling_days[:,1] < NDAYS\n",
    "\n",
    "unreached_value = []\n",
    "for i in range(pop.npersons):\n",
    "    index_day = sampling_days[i,1]\n",
    "    trigger_value = 2\n",
    "    curr_and_future_values = pop.scores['symptom'][i,index_day:]\n",
    "    unreached_value.append(is_prev_reached[i] and (np.min(curr_and_future_values) > trigger_value))\n",
    "unreached_value = np.array(unreached_value)\n",
    "\n",
    "alreadyreached_value = []\n",
    "for i in range(pop.npersons):\n",
    "    index_day = sampling_days[i,1]\n",
    "    trigger_value = 2\n",
    "    try:\n",
    "        curr_value = pop.scores['symptom'][i,index_day]\n",
    "    except IndexError:\n",
    "        curr_value = np.NaN\n",
    "    alreadyreached_value.append(is_prev_reached[i] and (curr_value <= trigger_value))\n",
    "alreadyreached_value = np.array(alreadyreached_value)\n",
    "\n",
    "invalid_value = np.logical_or(unreached_value, alreadyreached_value)\n",
    "\n",
    "unreached_day = sampling_days[:,2] == 159\n",
    "unreached_day = np.logical_and(unreached_day, is_prev_reached)\n",
    "alreadyreached_day = sampling_days[:,2] == _ALREADYREACHED\n",
    "alreadyreached_day = np.logical_and(alreadyreached_day, is_prev_reached)\n",
    "invalid_day = np.logical_or(unreached_day, alreadyreached_day)\n",
    "\n",
    "only_one_true = np.logical_xor(invalid_day, invalid_value)\n",
    "print(np.all(~only_one_true), f\"({invalid_day.sum()} / {pop.npersons} satisfy)\")"
   ]
  },
  {
   "cell_type": "code",
   "execution_count": 26,
   "metadata": {},
   "outputs": [
    {
     "name": "stdout",
     "output_type": "stream",
     "text": [
      "Only exceptions in verification code are due to not differenciating between delay->clip and unreached->clip\n",
      "(array([ 85, 521, 566, 642, 709], dtype=int64),)\n",
      "[[ 15 122 159]                      \t\t[[ 6.6453333  4.612377   1.9478053] \n",
      " [ 24  60 159]                      \t\t [12.511946   7.741007   2.376481 ] \n",
      " [ 12  87 159]                      \t\t [ 9.599627   5.1136856  1.778188 ] \n",
      " [ 19  68 159]                      \t\t [11.465483   6.0217757  1.8072829] \n",
      " [ 26 106 159]]                     \t\t [ 7.900189   6.102087   2.0524   ]]\n",
      "\n",
      "Last 5 symptoms: \n",
      "[[[3.3763897 3.39481   2.4796047 2.7848449 1.9478053]\n",
      "  [2.6951728 3.0493186 3.2158787 1.8864554 2.376481 ]\n",
      "  [3.044977  2.0850925 2.4495127 1.6934544 1.778188 ]\n",
      "  [3.0705793 3.3976715 2.6981869 1.9353322 1.8072829]\n",
      "  [2.6455364 1.6815034 2.1842    2.3883386 2.0524   ]]]\n"
     ]
    }
   ],
   "source": [
    "print(\"Only exceptions in verification code are due to not differenciating between delay->clip and unreached->clip\")\n",
    "exc = np.where(only_one_true)\n",
    "print(exc)\n",
    "helper.print_collocated([[str(sampling_days[exc]), str(sampling_symptoms[exc])]])\n",
    "print()\n",
    "print(\"Last 5 symptoms: \")\n",
    "print(pop.scores['symptom'][exc, -5:])"
   ]
  },
  {
   "cell_type": "markdown",
   "metadata": {},
   "source": [
    "## (given second is already_reached)"
   ]
  },
  {
   "cell_type": "code",
   "execution_count": 27,
   "metadata": {},
   "outputs": [
    {
     "name": "stdout",
     "output_type": "stream",
     "text": [
      "3nd sample (given 2nd is already_reached): always already_reached because first sample has value 0\n",
      "True (88 / 811 satisfy)\n"
     ]
    }
   ],
   "source": [
    "print(\"3nd sample (given 2nd is already_reached): always already_reached because first sample has value 0\")\n",
    "\n",
    "is_prev_alreadyreached = sampling_days[:,1] == _ALREADYREACHED\n",
    "\n",
    "alreadyreached = sampling_days[is_prev_alreadyreached,2] == _ALREADYREACHED\n",
    "print(np.all(alreadyreached), f\"({alreadyreached.sum()} / {pop.npersons} satisfy)\")"
   ]
  },
  {
   "cell_type": "markdown",
   "metadata": {},
   "source": [
    "# Check simulation is same as above"
   ]
  },
  {
   "cell_type": "code",
   "execution_count": 42,
   "metadata": {},
   "outputs": [],
   "source": [
    "np.random.set_state(state)\n",
    "\n",
    "methodologies[0].sample(poster_filtered_poplists[0, 0])\n",
    "methodologies[1].sample(poster_filtered_poplists[0, 0])\n",
    "methodologies[0].sample(worddoc_filtered_poplists[0, 0])\n",
    "sampled_pop = methodologies[1].sample(worddoc_filtered_poplists[0, 0])[0]"
   ]
  },
  {
   "cell_type": "code",
   "execution_count": 43,
   "metadata": {},
   "outputs": [
    {
     "name": "stdout",
     "output_type": "stream",
     "text": [
      "True\n",
      "True\n"
     ]
    }
   ],
   "source": [
    "print(np.allclose(sampled_pop.scores['symptom'].filled(), sampling_symptoms, rtol=0, atol=0, equal_nan=True))\n",
    "print(np.ma.allequal(sampled_pop.days[:-2], sampling_days[:-2]))"
   ]
  }
 ],
 "metadata": {
  "kernelspec": {
   "display_name": "Python [conda env:smile] *",
   "language": "python",
   "name": "conda-env-smile-py"
  },
  "language_info": {
   "codemirror_mode": {
    "name": "ipython",
    "version": 3
   },
   "file_extension": ".py",
   "mimetype": "text/x-python",
   "name": "python",
   "nbconvert_exporter": "python",
   "pygments_lexer": "ipython3",
   "version": "3.7.7"
  }
 },
 "nbformat": 4,
 "nbformat_minor": 4
}
