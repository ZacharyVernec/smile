{
 "cells": [
  {
   "cell_type": "markdown",
   "metadata": {},
   "source": [
    "# Comparing saved populations object scores with different precisions\n",
    "\"orig\" is default float64, \"test\" is with float32 as set by a global_param"
   ]
  },
  {
   "cell_type": "code",
   "execution_count": 1,
   "metadata": {},
   "outputs": [],
   "source": [
    "# Standard library imports\n",
    "import os\n",
    "\n",
    "# Third party imports\n",
    "import matplotlib.pyplot as plt\n",
    "import numpy as np\n",
    "import dill\n",
    "\n",
    "# Local application imports\n",
    "from smile import helper\n",
    "\n",
    "# Settings\n",
    "pickle_dir = r'D:\\tests_for_scoretype\\saved_regressions_large'"
   ]
  },
  {
   "cell_type": "code",
   "execution_count": 2,
   "metadata": {},
   "outputs": [],
   "source": [
    "def load_from_file(filename):\n",
    "    with open(filename, 'rb') as f:\n",
    "        return dill.load(f)"
   ]
  },
  {
   "cell_type": "markdown",
   "metadata": {},
   "source": [
    "### Regressions (Poster)"
   ]
  },
  {
   "cell_type": "code",
   "execution_count": 3,
   "metadata": {},
   "outputs": [],
   "source": [
    "regs = load_from_file(pickle_dir+r'\\regression_poster_sampled_poplists_0.pik')"
   ]
  },
  {
   "cell_type": "code",
   "execution_count": 4,
   "metadata": {},
   "outputs": [
    {
     "data": {
      "text/plain": [
       "<smile.population.Population at 0x1bd20af6488>"
      ]
     },
     "execution_count": 4,
     "metadata": {},
     "output_type": "execute_result"
    }
   ],
   "source": [
    "regs[0,0,0].populations[0]\n",
    "#Omg, this will be way too space intensive. \n",
    "#Either delete the original population or save only basic information & a filename"
   ]
  },
  {
   "cell_type": "code",
   "execution_count": 5,
   "metadata": {},
   "outputs": [],
   "source": [
    "slope_options = (1, 2, 3)\n",
    "\n",
    "percentage_biases = np.empty(shape=regs.shape, dtype='U64')\n",
    "\n",
    "for i,j,k in np.ndindex(regs.shape):\n",
    "    percentage_biases[i,j,k] = str(regs[i,j,k].get_percentage_biases({'Intercept':6, 'visual':(slope_options[i])}))"
   ]
  },
  {
   "cell_type": "code",
   "execution_count": 6,
   "metadata": {},
   "outputs": [
    {
     "name": "stdout",
     "output_type": "stream",
     "text": [
      "poster with 1 and 0.3 filtered \t\tposter with 1 and 0.5 filtered \n",
      "sampled by traditonal          \t\tsampled by traditonal          \n",
      "regressed with mixed effects   \t\tregressed with mixed effects   \n",
      "\n",
      "poster with 2 and 0.3 filtered \t\tposter with 2 and 0.5 filtered \n",
      "sampled by traditonal          \t\tsampled by traditonal          \n",
      "regressed with mixed effects   \t\tregressed with mixed effects   \n",
      "\n",
      "poster with 3 and 0.3 filtered \t\tposter with 3 and 0.5 filtered \n",
      "sampled by traditonal          \t\tsampled by traditonal          \n",
      "regressed with mixed effects   \t\tregressed with mixed effects   \n",
      "\n",
      "Percentage Biases        \tPercentage Biases        \n",
      "Intercept (%)   -2.886202\tIntercept (%)   -1.748792\n",
      "visual (%)       1.5     \tvisual (%)       0.2     \n",
      "\n",
      "Percentage Biases        \tPercentage Biases        \n",
      "Intercept (%)   -0.399871\tIntercept (%)   -4.592632\n",
      "visual (%)       0.1     \tvisual (%)       0.5     \n",
      "\n",
      "Percentage Biases        \tPercentage Biases        \n",
      "Intercept (%)   -2.238753\tIntercept (%)    2.804833\n",
      "visual (%)       0.3     \tvisual (%)      -0.9     \n",
      "\n",
      "\n",
      "poster with 1 and 0.3 filtered \t\tposter with 1 and 0.5 filtered \n",
      "sampled by realistic           \t\tsampled by realistic           \n",
      "regressed with mixed effects   \t\tregressed with mixed effects   \n",
      "\n",
      "poster with 2 and 0.3 filtered \t\tposter with 2 and 0.5 filtered \n",
      "sampled by realistic           \t\tsampled by realistic           \n",
      "regressed with mixed effects   \t\tregressed with mixed effects   \n",
      "\n",
      "poster with 3 and 0.3 filtered \t\tposter with 3 and 0.5 filtered \n",
      "sampled by realistic           \t\tsampled by realistic           \n",
      "regressed with mixed effects   \t\tregressed with mixed effects   \n",
      "\n",
      "Percentage Biases         \tPercentage Biases         \n",
      "Intercept (%)    0.137182 \tIntercept (%)    17.781290\n",
      "visual (%)      -0.6      \tvisual (%)      -10       \n",
      "\n",
      "Percentage Biases         \tPercentage Biases         \n",
      "Intercept (%)    2.988397 \tIntercept (%)    12.021275\n",
      "visual (%)      -1.4      \tvisual (%)       -3       \n",
      "\n",
      "Percentage Biases         \tPercentage Biases         \n",
      "Intercept (%)    2.722522 \tIntercept (%)    11.963345\n",
      "visual (%)      -1.0      \tvisual (%)       -3       \n",
      "\n",
      "\n"
     ]
    }
   ],
   "source": [
    "for i in range(regs.shape[-1]):\n",
    "    titles = np.empty(regs.shape[:-1], dtype=object)\n",
    "    titles.flat = [reg.title for reg in regs[:,:,i].flat]\n",
    "    helper.print_collocated(titles)\n",
    "    print()\n",
    "    helper.print_collocated(percentage_biases[:,:,i], hseparatorlen=1)\n",
    "    print('\\n')"
   ]
  },
  {
   "cell_type": "markdown",
   "metadata": {},
   "source": [
    "### Regressions (realistic)"
   ]
  },
  {
   "cell_type": "code",
   "execution_count": 7,
   "metadata": {},
   "outputs": [],
   "source": [
    "regs = load_from_file(pickle_dir+r'\\regression_worddoc_sampled_poplists_0.pik')"
   ]
  },
  {
   "cell_type": "code",
   "execution_count": 8,
   "metadata": {},
   "outputs": [
    {
     "data": {
      "text/plain": [
       "<smile.population.Population at 0x1bd213af888>"
      ]
     },
     "execution_count": 8,
     "metadata": {},
     "output_type": "execute_result"
    }
   ],
   "source": [
    "regs[0,0,0].populations[0]\n",
    "#Omg, this will be way too space intensive. \n",
    "#Either delete the original population or save only basic information & a filename"
   ]
  },
  {
   "cell_type": "code",
   "execution_count": 9,
   "metadata": {},
   "outputs": [],
   "source": [
    "slope_options = (1, 2, 3)\n",
    "\n",
    "percentage_biases = np.empty(shape=regs.shape, dtype='U64')\n",
    "\n",
    "for i,j,k in np.ndindex(regs.shape):\n",
    "    percentage_biases[i,j,k] = str(regs[i,j,k].get_percentage_biases({'Intercept':6, 'visual':(slope_options[i])}))"
   ]
  },
  {
   "cell_type": "code",
   "execution_count": 10,
   "metadata": {},
   "outputs": [
    {
     "name": "stdout",
     "output_type": "stream",
     "text": [
      "realistic with 1 and 0.3 filtered \t\trealistic with 1 and 0.5 filtered \n",
      "sampled by traditonal             \t\tsampled by traditonal             \n",
      "regressed with mixed effects      \t\tregressed with mixed effects      \n",
      "\n",
      "realistic with 2 and 0.3 filtered \t\trealistic with 2 and 0.5 filtered \n",
      "sampled by traditonal             \t\tsampled by traditonal             \n",
      "regressed with mixed effects      \t\tregressed with mixed effects      \n",
      "\n",
      "realistic with 3 and 0.3 filtered \t\trealistic with 3 and 0.5 filtered \n",
      "sampled by traditonal             \t\tsampled by traditonal             \n",
      "regressed with mixed effects      \t\tregressed with mixed effects      \n",
      "\n",
      "Percentage Biases          \tPercentage Biases          \n",
      "Intercept (%)   -200.087851\tIntercept (%)   -200.510217\n",
      "visual (%)                 \tvisual (%)                 \n",
      "\n",
      "Percentage Biases          \tPercentage Biases          \n",
      "Intercept (%)   -299.008759\tIntercept (%)   -297.830471\n",
      "visual (%)                 \tvisual (%)                 \n",
      "\n",
      "Percentage Biases          \tPercentage Biases          \n",
      "Intercept (%)   -398.738463\tIntercept (%)   -399.469425\n",
      "visual (%)                 \tvisual (%)                 \n",
      "\n",
      "\n",
      "realistic with 1 and 0.3 filtered \t\trealistic with 1 and 0.5 filtered \n",
      "sampled by realistic              \t\tsampled by realistic              \n",
      "regressed with mixed effects      \t\tregressed with mixed effects      \n",
      "\n",
      "realistic with 2 and 0.3 filtered \t\trealistic with 2 and 0.5 filtered \n",
      "sampled by realistic              \t\tsampled by realistic              \n",
      "regressed with mixed effects      \t\tregressed with mixed effects      \n",
      "\n",
      "realistic with 3 and 0.3 filtered \t\trealistic with 3 and 0.5 filtered \n",
      "sampled by realistic              \t\tsampled by realistic              \n",
      "regressed with mixed effects      \t\tregressed with mixed effects      \n",
      "\n",
      "Percentage Biases          \tPercentage Biases          \n",
      "Intercept (%)   -199.902775\tIntercept (%)   -198.699496\n",
      "visual (%)                 \tvisual (%)                 \n",
      "\n",
      "Percentage Biases          \tPercentage Biases          \n",
      "Intercept (%)   -299.765473\tIntercept (%)   -300.048820\n",
      "visual (%)                 \tvisual (%)                 \n",
      "\n",
      "Percentage Biases          \tPercentage Biases          \n",
      "Intercept (%)   -401.178388\tIntercept (%)   -393.168028\n",
      "visual (%)                 \tvisual (%)                 \n",
      "\n",
      "\n"
     ]
    }
   ],
   "source": [
    "for i in range(regs.shape[-1]):\n",
    "    titles = np.empty(regs.shape[:-1], dtype=object)\n",
    "    titles.flat = [reg.title for reg in regs[:,:,i].flat]\n",
    "    helper.print_collocated(titles)\n",
    "    print()\n",
    "    helper.print_collocated(percentage_biases[:,:,i], hseparatorlen=1)\n",
    "    print('\\n')"
   ]
  }
 ],
 "metadata": {
  "kernelspec": {
   "display_name": "Python [conda env:smile] *",
   "language": "python",
   "name": "conda-env-smile-py"
  },
  "language_info": {
   "codemirror_mode": {
    "name": "ipython",
    "version": 3
   },
   "file_extension": ".py",
   "mimetype": "text/x-python",
   "name": "python",
   "nbconvert_exporter": "python",
   "pygments_lexer": "ipython3",
   "version": "3.7.7"
  }
 },
 "nbformat": 4,
 "nbformat_minor": 4
}
