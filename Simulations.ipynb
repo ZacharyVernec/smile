{
 "cells": [
  {
   "cell_type": "markdown",
   "metadata": {},
   "source": [
    "# Functional model"
   ]
  },
  {
   "cell_type": "code",
   "execution_count": 62,
   "metadata": {},
   "outputs": [],
   "source": [
    "# Simulations study parameters\n",
    "FMIN = 6 #minimum possible visual score\n",
    "SMIN = 0 #minimum possible symptom score\n",
    "NDAYS = 160 #number of days in the study\n",
    "FIRSTVISIT = 8\n",
    "LASTVISIT = NDAYS-1\n",
    "#TODO: seeding for random functions\n",
    "#TODO: add warnings for things that shouldn't happen, e.g. symptoms lower than SMIN\n",
    "#TODO: plotting methods and printing methods\n",
    "#TODO: model class (for FMMIN, popsize, symptomfunctiontype, etc.)\n",
    "#TODO: study class (for NDAYS, FIRSTVISIT, filterpop, etc.)"
   ]
  },
  {
   "cell_type": "code",
   "execution_count": 70,
   "metadata": {},
   "outputs": [],
   "source": [
    "class Population:\n",
    "    def __init__(self, size=10000, symptomfunctiontype='linear', errortype='multiplicative'):\n",
    "        self.symptomfunctiontype = symptomfunctiontype\n",
    "        self.errortype = errortype\n",
    "        self.persons = [Person(self) for i in range(size)]\n",
    "    def size(self):\n",
    "        return len(self.persons)\n",
    "        \n",
    "    #functions to sample parameters for each person\n",
    "    #TODO: should these be passed in __init__() ?\n",
    "    def gen_r():\n",
    "        return 1\n",
    "    def gen_f0():\n",
    "        return 16\n",
    "    def gen_a():\n",
    "        return 1\n",
    "    def gen_B():\n",
    "        return 1.5\n",
    "    def gen_C(self):\n",
    "        if self.errortype=='multiplicative':\n",
    "            return 1\n",
    "        elif self.errortype=='additive':\n",
    "            return 0\n",
    "\n",
    "    def filterPop(self):\n",
    "        def isTypicalRecovery(person):\n",
    "            if (min(person.symptomscores[:FIRSTVISIT] <= SMIN)): #if at some point before first visit symptoms go to 'recovered'\n",
    "                return False #person cancels the appointment\n",
    "            elif (min(person.symptomscores) > SMIN): #if symptoms never go to 'recovered'\n",
    "                return False #excluded from study because considered 'chronic'\n",
    "            else:\n",
    "                return True #typical patient\n",
    "        filteredPop = Population(0)\n",
    "        filteredPop.persons = filter(isTypicalRecovery, self.persons)\n",
    "        return filteredPop"
   ]
  },
  {
   "cell_type": "code",
   "execution_count": 71,
   "metadata": {},
   "outputs": [],
   "source": [
    "class Person:\n",
    "    def __init__(self, population):\n",
    "        self.population = population\n",
    "        self.r = Population.gen_r()\n",
    "        self.f0 = Population.gen_f0()\n",
    "        self.a = Population.gen_a()\n",
    "        self.B = Population.gen_B()\n",
    "        self.visualscores = [self.visualscore(i) for i in range(NDAYS)]\n",
    "        self.symptomscores = [self.symptomscore(f) for f in self.visualscores] #TODO: make function and error types a property of population?\n",
    "        \n",
    "    def visualscore(self, t):\n",
    "        #t is a non-negative integer for 'time in days'\n",
    "        #TODO: parameters r and f0 can be either a fixed number or a function that samples a probability distribution\n",
    "        return max(-self.r*t+self.f0, FMIN)\n",
    "    \n",
    "    def symptomscore(self, f):\n",
    "        #f is a 'visual score'\n",
    "        #functiontype is either 'linear' or 'exponential'\n",
    "        functiontype = self.population.symptomfunctiontype\n",
    "        #errortype is either 'multiplicative' or 'additive'\n",
    "        errortype = self.population.errortype\n",
    "        \n",
    "        if functiontype=='linear':\n",
    "            symptoms_noerror = self.a*(f-6)\n",
    "        elif functiontype=='exponential':\n",
    "            symptoms_noerror = self.a*(self.f0-6)*(self.B**f-self.B**FMIN)/(self.B**self.f0-self.B**FMIN)\n",
    "            \n",
    "        if errortype=='multiplicative':\n",
    "            return self.population.gen_C()*symptoms_noerror\n",
    "        elif errortype=='additive':\n",
    "            return max(self.population.gen_C()*symptoms_noerror, SMIN)"
   ]
  },
  {
   "cell_type": "code",
   "execution_count": 75,
   "metadata": {},
   "outputs": [
    {
     "data": {
      "image/png": "[encoded data removed]",
      "text/plain": [
       "<Figure size 432x288 with 1 Axes>"
      ]
     },
     "metadata": {
      "needs_background": "light"
     },
     "output_type": "display_data"
    }
   ],
   "source": [
    "import matplotlib.pyplot as plt\n",
    "\n",
    "linpop = Population(1, symptomfunctiontype='linear')\n",
    "exppop = Population(1, symptomfunctiontype='exponential')\n",
    "\n",
    "fig = plt.figure()\n",
    "ax = fig.add_subplot(111)\n",
    "days = 30\n",
    "ax.plot(range(days), linpop.persons[0].symptomscores[:days])\n",
    "ax.plot(range(days), exppop.persons[0].symptomscores[:days])\n",
    "plt.show()"
   ]
  }
 ],
 "metadata": {
  "kernelspec": {
   "display_name": "Python [conda env:smile] *",
   "language": "python",
   "name": "conda-env-smile-py"
  },
  "language_info": {
   "codemirror_mode": {
    "name": "ipython",
    "version": 3
   },
   "file_extension": ".py",
   "mimetype": "text/x-python",
   "name": "python",
   "nbconvert_exporter": "python",
   "pygments_lexer": "ipython3",
   "version": "3.7.7"
  }
 },
 "nbformat": 4,
 "nbformat_minor": 4
}
