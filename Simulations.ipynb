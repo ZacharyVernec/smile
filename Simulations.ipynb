{
 "cells": [
  {
   "cell_type": "markdown",
   "metadata": {},
   "source": [
    "# Functional model"
   ]
  },
  {
   "cell_type": "code",
   "execution_count": 33,
   "metadata": {},
   "outputs": [],
   "source": [
    "# Simulations study parameters\n",
    "FMIN = 6 #minimum possible visual score\n",
    "SMIN = 0 #minimum possible symptom score\n",
    "NDAYS = 160 #number of days in the study\n",
    "FIRSTVISIT = 8\n",
    "LASTVISIT = NDAYS-1\n",
    "#TODO: seeding for random functions\n",
    "#TODO: add warnings for things that shouldn't happen, e.g. symptoms lower than SMIN\n",
    "#TODO: plotting methods and printing methods"
   ]
  },
  {
   "cell_type": "code",
   "execution_count": 34,
   "metadata": {},
   "outputs": [],
   "source": [
    "#helper functions\n",
    "\n",
    "def uniform_to_normal(interval, pmsigma=3):\n",
    "    '''\n",
    "    Converts parameters for a uniform distribution to parameters for a normal distribution \n",
    "\n",
    "            Input:\n",
    "                    interval (tuple of (float, float)): the interval boundaries (min and max)\n",
    "                    pmsignma (float): half the standard deviations that the interval should comprise of\n",
    "            Returns:\n",
    "                    normal_params (tuple of (float, float)): mean and stdev\n",
    "    '''\n",
    "    mean = (interval[0]+interval[1])/2\n",
    "    stdev = (interval[1]-interval[0])/(2*pmsigma)\n",
    "    return (mean, stdev)"
   ]
  },
  {
   "cell_type": "code",
   "execution_count": 51,
   "metadata": {},
   "outputs": [],
   "source": [
    "from types import MethodType\n",
    "\n",
    "class Population:\n",
    "    def __init__(self, size=10000, \n",
    "                 symptomfunctiontype='linear', errortype='multiplicative', \n",
    "                 gen_r=None, gen_f0=None, gen_a=None, gen_B=None, gen_C=None):\n",
    "        \n",
    "        #setting function types\n",
    "        self.symptomfunctiontype = symptomfunctiontype\n",
    "        self.errortype = errortype\n",
    "        \n",
    "        #setting parameter distributions if given\n",
    "        if gen_r is not None:\n",
    "            self.gen_r = MethodType(gen_r, self)\n",
    "        if gen_f0 is not None:\n",
    "            self.gen_f0 = MethodType(gen_f0, self)\n",
    "        if gen_a is not None:\n",
    "            self.gen_a = MethodType(gen_a, self)\n",
    "        if gen_B is not None:\n",
    "            self.gen_B = MethodType(gen_B, self)\n",
    "        if gen_C is not None:\n",
    "            self.gen_C = MethodType(gen_C, self)\n",
    "        \n",
    "        #generating population\n",
    "        self.persons = [Person(self) for i in range(size)]\n",
    "        \n",
    "    def size(self):\n",
    "        return len(self.persons)\n",
    "        \n",
    "    #default parameter distributions\n",
    "    def gen_r(self):\n",
    "        return 1\n",
    "    def gen_f0(self):\n",
    "        return 16\n",
    "    def gen_a(self):\n",
    "        return 1\n",
    "    def gen_B(self):\n",
    "        return 1.5\n",
    "    def gen_C(self):\n",
    "        if self.errortype=='multiplicative':\n",
    "            return 1\n",
    "        elif self.errortype=='additive':\n",
    "            return 0\n",
    "\n",
    "    #removing outliers\n",
    "    def filterPop(self):\n",
    "        def isTypicalRecovery(person):\n",
    "            if (min(person.symptomscores[:FIRSTVISIT] <= SMIN)): #if at some point before first visit symptoms go to 'recovered'\n",
    "                return False #person cancels the appointment\n",
    "            elif (min(person.symptomscores) > SMIN): #if symptoms never go to 'recovered'\n",
    "                return False #excluded from study because considered 'chronic'\n",
    "            else:\n",
    "                return True #typical patient\n",
    "        filteredPop = Population(0)\n",
    "        filteredPop.persons = filter(isTypicalRecovery, self.persons)\n",
    "        return filteredPop"
   ]
  },
  {
   "cell_type": "code",
   "execution_count": 52,
   "metadata": {},
   "outputs": [],
   "source": [
    "class Person:\n",
    "    def __init__(self, population):\n",
    "        self.population = population\n",
    "        self.r = self.population.gen_r()\n",
    "        self.f0 = self.population.gen_f0()\n",
    "        self.a = self.population.gen_a()\n",
    "        self.B = self.population.gen_B()\n",
    "        self.visualscores = [self.visualscore(i) for i in range(NDAYS)]\n",
    "        self.symptomscores = [self.symptomscore(f) for f in self.visualscores] #TODO: make function and error types a property of population?\n",
    "        \n",
    "    def visualscore(self, t):\n",
    "        #t is a non-negative integer for 'time in days'\n",
    "        #TODO: parameters r and f0 can be either a fixed number or a function that samples a probability distribution\n",
    "        return max(-self.r*t+self.f0, FMIN)\n",
    "    \n",
    "    def symptomscore(self, f):\n",
    "        #f is a 'visual score'\n",
    "        #functiontype is either 'linear' or 'exponential'\n",
    "        functiontype = self.population.symptomfunctiontype\n",
    "        #errortype is either 'multiplicative' or 'additive'\n",
    "        errortype = self.population.errortype\n",
    "        \n",
    "        if functiontype=='linear':\n",
    "            symptoms_noerror = self.a*(f-6)\n",
    "        elif functiontype=='exponential':\n",
    "            symptoms_noerror = self.a*(self.f0-6)*(self.B**f-self.B**FMIN)/(self.B**self.f0-self.B**FMIN)\n",
    "            \n",
    "        if errortype=='multiplicative':\n",
    "            return self.population.gen_C()*symptoms_noerror\n",
    "        elif errortype=='additive':\n",
    "            return max(self.population.gen_C()*symptoms_noerror, SMIN)"
   ]
  },
  {
   "cell_type": "code",
   "execution_count": 54,
   "metadata": {},
   "outputs": [
    {
     "data": {
      "image/png": "[encoded data removed]",
      "text/plain": [
       "<Figure size 432x288 with 1 Axes>"
      ]
     },
     "metadata": {
      "needs_background": "light"
     },
     "output_type": "display_data"
    }
   ],
   "source": [
    "import matplotlib.pyplot as plt\n",
    "from numpy import random\n",
    "random.seed(3) # chosen by fair dice roll. guaranteed to be random. https://xkcd.com/221/\n",
    "\n",
    "\n",
    "def gen_C(self):\n",
    "    return random.normal(*uniform_to_normal((0.7, 1.3), pmsigma=3))\n",
    "\n",
    "popsize=10\n",
    "linpop = Population(popsize, symptomfunctiontype='linear', gen_C=gen_C)\n",
    "#exppop = Population(popsize, symptomfunctiontype='exponential')\n",
    "\n",
    "fig = plt.figure()\n",
    "ax = fig.add_subplot(111)\n",
    "days = 30\n",
    "for i in range(popsize):\n",
    "    ax.plot(range(days), linpop.persons[i].symptomscores[:days])\n",
    "    #ax.plot(range(days), exppop.persons[i].symptomscores[:days])\n",
    "plt.show()"
   ]
  },
  {
   "cell_type": "code",
   "execution_count": null,
   "metadata": {},
   "outputs": [],
   "source": []
  }
 ],
 "metadata": {
  "kernelspec": {
   "display_name": "Python [conda env:smile] *",
   "language": "python",
   "name": "conda-env-smile-py"
  },
  "language_info": {
   "codemirror_mode": {
    "name": "ipython",
    "version": 3
   },
   "file_extension": ".py",
   "mimetype": "text/x-python",
   "name": "python",
   "nbconvert_exporter": "python",
   "pygments_lexer": "ipython3",
   "version": "3.7.7"
  }
 },
 "nbformat": 4,
 "nbformat_minor": 4
}
