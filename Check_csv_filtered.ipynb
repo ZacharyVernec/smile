{
 "cells": [
  {
   "cell_type": "code",
   "execution_count": 1,
   "metadata": {},
   "outputs": [],
   "source": [
    "# Standard library imports\n",
    "import os\n",
    "\n",
    "# Third party imports\n",
    "import matplotlib.pyplot as plt\n",
    "import numpy as np\n",
    "import dill\n",
    "import pandas as pd\n",
    "\n",
    "# Local application imports\n",
    "from smile import helper\n",
    "\n",
    "# Settings\n",
    "pickle_dir = r'F:\\saved_populations_11_large'\n",
    "csv_dir = r'F:\\saved_populations_11_large_csv'"
   ]
  },
  {
   "cell_type": "code",
   "execution_count": 2,
   "metadata": {},
   "outputs": [],
   "source": [
    "def load_from_file(filename):\n",
    "    with open(filename, 'rb') as f:\n",
    "        return dill.load(f)"
   ]
  },
  {
   "cell_type": "code",
   "execution_count": 3,
   "metadata": {},
   "outputs": [],
   "source": [
    "csv_name = csv_dir+r'\\realistic_1_03\\realistic_1_03_population_9_filtered.csv'\n",
    "csv_df = pd.read_csv(csv_name, index_col='observation')"
   ]
  },
  {
   "cell_type": "code",
   "execution_count": 4,
   "metadata": {},
   "outputs": [],
   "source": [
    "poplists = load_from_file(pickle_dir+'\\worddoc_filtered_poplists_0.pik')"
   ]
  },
  {
   "cell_type": "code",
   "execution_count": 5,
   "metadata": {},
   "outputs": [],
   "source": [
    "pickle_df = poplists[0,0][9].to_dataframe()\n",
    "pickle_df = pickle_df.astype({'person': np.int64, 'day': np.int64})\n",
    "pickle_df = pickle_df.astype({'visual': np.float64, 'symptom_noerror': np.float64, 'symptom': np.float64})"
   ]
  },
  {
   "cell_type": "code",
   "execution_count": 6,
   "metadata": {},
   "outputs": [],
   "source": [
    "pd.testing.assert_frame_equal(csv_df, pickle_df)"
   ]
  },
  {
   "cell_type": "code",
   "execution_count": null,
   "metadata": {},
   "outputs": [],
   "source": []
  },
  {
   "cell_type": "code",
   "execution_count": 7,
   "metadata": {},
   "outputs": [],
   "source": [
    "poplists = load_from_file(pickle_dir+'\\worddoc_filtered_poplists_1.pik')"
   ]
  },
  {
   "cell_type": "code",
   "execution_count": 9,
   "metadata": {},
   "outputs": [
    {
     "name": "stdout",
     "output_type": "stream",
     "text": [
      "All equal\n",
      "All equal\n",
      "All equal\n",
      "All equal\n",
      "All equal\n",
      "All equal\n",
      "All equal\n",
      "All equal\n",
      "All equal\n",
      "All equal\n"
     ]
    }
   ],
   "source": [
    "for i in range(10):\n",
    "\n",
    "    csv_name = csv_dir+r'\\realistic_1_03\\realistic_1_03_population_1'+str(i)+'_filtered.csv'\n",
    "    csv_df = pd.read_csv(csv_name, index_col='observation')\n",
    "\n",
    "    pickle_df = poplists[0,0][i].to_dataframe()\n",
    "    pickle_df = pickle_df.astype({'person': np.int64, 'day': np.int64})\n",
    "    pickle_df = pickle_df.astype({'visual': np.float64, \n",
    "                                  'symptom_noerror': np.float64, \n",
    "                                  'symptom': np.float64})\n",
    "    \n",
    "    pd.testing.assert_frame_equal(csv_df, pickle_df)\n",
    "    print(\"All equal\")"
   ]
  },
  {
   "cell_type": "code",
   "execution_count": null,
   "metadata": {},
   "outputs": [],
   "source": []
  },
  {
   "cell_type": "code",
   "execution_count": 11,
   "metadata": {},
   "outputs": [],
   "source": [
    "poplists = load_from_file(pickle_dir+'\\worddoc_filtered_poplists_65.pik')"
   ]
  },
  {
   "cell_type": "code",
   "execution_count": 12,
   "metadata": {},
   "outputs": [
    {
     "name": "stdout",
     "output_type": "stream",
     "text": [
      "All equal\n"
     ]
    }
   ],
   "source": [
    "i = 7\n",
    "\n",
    "csv_name = csv_dir+r'\\realistic_1_03\\realistic_1_03_population_65'+str(i)+'_filtered.csv'\n",
    "csv_df = pd.read_csv(csv_name, index_col='observation')\n",
    "\n",
    "pickle_df = poplists[0,0][i].to_dataframe()\n",
    "pickle_df = pickle_df.astype({'person': np.int64, 'day': np.int64})\n",
    "pickle_df = pickle_df.astype({'visual': np.float64, \n",
    "                              'symptom_noerror': np.float64, \n",
    "                              'symptom': np.float64})\n",
    "\n",
    "pd.testing.assert_frame_equal(csv_df, pickle_df)\n",
    "print(\"All equal\")"
   ]
  },
  {
   "cell_type": "code",
   "execution_count": null,
   "metadata": {},
   "outputs": [],
   "source": []
  },
  {
   "cell_type": "code",
   "execution_count": 13,
   "metadata": {},
   "outputs": [],
   "source": [
    "poplists = load_from_file(pickle_dir+'\\worddoc_filtered_poplists_65.pik')"
   ]
  },
  {
   "cell_type": "code",
   "execution_count": 14,
   "metadata": {},
   "outputs": [
    {
     "name": "stdout",
     "output_type": "stream",
     "text": [
      "All equal\n"
     ]
    }
   ],
   "source": [
    "i = 7\n",
    "\n",
    "csv_name = csv_dir+r'\\realistic_2_03\\realistic_2_03_population_65'+str(i)+'_filtered.csv'\n",
    "csv_df = pd.read_csv(csv_name, index_col='observation')\n",
    "\n",
    "pickle_df = poplists[1,0][i].to_dataframe()\n",
    "pickle_df = pickle_df.astype({'person': np.int64, 'day': np.int64})\n",
    "pickle_df = pickle_df.astype({'visual': np.float64, \n",
    "                              'symptom_noerror': np.float64, \n",
    "                              'symptom': np.float64})\n",
    "\n",
    "pd.testing.assert_frame_equal(csv_df, pickle_df)\n",
    "print(\"All equal\")"
   ]
  },
  {
   "cell_type": "code",
   "execution_count": null,
   "metadata": {},
   "outputs": [],
   "source": []
  },
  {
   "cell_type": "code",
   "execution_count": 15,
   "metadata": {},
   "outputs": [],
   "source": [
    "poplists = load_from_file(pickle_dir+'\\worddoc_filtered_poplists_65.pik')"
   ]
  },
  {
   "cell_type": "code",
   "execution_count": 16,
   "metadata": {},
   "outputs": [
    {
     "name": "stdout",
     "output_type": "stream",
     "text": [
      "All equal\n"
     ]
    }
   ],
   "source": [
    "i = 7\n",
    "\n",
    "csv_name = csv_dir+r'\\realistic_2_05\\realistic_2_05_population_65'+str(i)+'_filtered.csv'\n",
    "csv_df = pd.read_csv(csv_name, index_col='observation')\n",
    "\n",
    "pickle_df = poplists[1,1][i].to_dataframe()\n",
    "pickle_df = pickle_df.astype({'person': np.int64, 'day': np.int64})\n",
    "pickle_df = pickle_df.astype({'visual': np.float64, \n",
    "                              'symptom_noerror': np.float64, \n",
    "                              'symptom': np.float64})\n",
    "\n",
    "pd.testing.assert_frame_equal(csv_df, pickle_df)\n",
    "print(\"All equal\")"
   ]
  },
  {
   "cell_type": "code",
   "execution_count": null,
   "metadata": {},
   "outputs": [],
   "source": []
  }
 ],
 "metadata": {
  "kernelspec": {
   "display_name": "Python [conda env:smile] *",
   "language": "python",
   "name": "conda-env-smile-py"
  },
  "language_info": {
   "codemirror_mode": {
    "name": "ipython",
    "version": 3
   },
   "file_extension": ".py",
   "mimetype": "text/x-python",
   "name": "python",
   "nbconvert_exporter": "python",
   "pygments_lexer": "ipython3",
   "version": "3.7.7"
  }
 },
 "nbformat": 4,
 "nbformat_minor": 4
}
