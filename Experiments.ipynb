{
 "cells": [
  {
   "cell_type": "code",
   "execution_count": 5,
   "metadata": {},
   "outputs": [],
   "source": [
    "#imports"
   ]
  },
  {
   "cell_type": "code",
   "execution_count": 6,
   "metadata": {},
   "outputs": [],
   "source": [
    "#function to create plotting environment?"
   ]
  },
  {
   "cell_type": "raw",
   "metadata": {},
   "source": [
    "## Experiment 1: Baselines\n",
    "\n",
    "Simulation:  \n",
    "- visual score is linear with random intercept and slope per person  \n",
    "- symptom: linear with fixed intercept and slope  \n",
    "- error: none or multiplicative (+-50%) or additive (+-5)  \n",
    "- npops=100  \n",
    "- npersons=100  \n",
    "    \n",
    "Filter: None  \n",
    "Sample: None  \n",
    "Regression: Simple linear or Mixed effects with random intercept and slope  \n",
    "\n",
    "Purpose: Evaluate the bias in an idealized, full-information setting  \n",
    "Hypothesis: There will be no bias in noerror or multiplicative error. There will be a small bias towards a slower (smaller) slope in additive error.  \n",
    "Reasoning: The relationship is linear, no persons are discarded from the population, each person will have at least two points to describe their straight line. Multiplicative error will cancel out. However, for additive errors, the enduring error when the visual score is recovered will lead to more observations at (v, s)=(0, +s) without equivalents at (v, s)=(+v, 0) to balance them out since the symptoms have a lower bound (see thick vertical line on the left of the graph of visual vs symptom)."
   ]
  },
  {
   "cell_type": "raw",
   "metadata": {},
   "source": [
    "## Experiment 2: Traditional sampling\n",
    "\n",
    "Simulation: same as previous experiment  \n",
    "    \n",
    "Filter: recover before day 8, or recover before day 8 and after 90\n",
    "Sample: None  \n",
    "Regression: Mixed effects with random intercept and slope  \n",
    "\n",
    "Purpose: Evaluate bias in a full-information setting but keeping only studiable people  \n",
    "Hypothesis: Bias will be unchanged from baseline (previous experiment).\n",
    "Reasoning: Filtering removes entire people, but each person has the the same slope for symptoms before error and errors are generated in the same way for each person"
   ]
  },
  {
   "cell_type": "raw",
   "metadata": {},
   "source": [
    "Kinks in line of visual score or of symptom no error score due to discretization of time do not contribute to bias because they happen identically to both. The effect produced by these kinks are that points forming the line of symptom noerror vs visual are slightly sparser at low values."
   ]
  }
 ],
 "metadata": {
  "kernelspec": {
   "display_name": "Python [conda env:smile] *",
   "language": "python",
   "name": "conda-env-smile-py"
  },
  "language_info": {
   "codemirror_mode": {
    "name": "ipython",
    "version": 3
   },
   "file_extension": ".py",
   "mimetype": "text/x-python",
   "name": "python",
   "nbconvert_exporter": "python",
   "pygments_lexer": "ipython3",
   "version": "3.7.7"
  }
 },
 "nbformat": 4,
 "nbformat_minor": 4
}
