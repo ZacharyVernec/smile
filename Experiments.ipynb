{
 "cells": [
  {
   "cell_type": "code",
   "execution_count": 1,
   "metadata": {},
   "outputs": [],
   "source": [
    "# Third party imports\n",
    "import matplotlib.pyplot as plt\n",
    "import numpy as np"
   ]
  },
  {
   "cell_type": "code",
   "execution_count": 2,
   "metadata": {},
   "outputs": [],
   "source": [
    "# Local application imports\n",
    "from smile.smile import Population, PopulationList\n",
    "from smile.helper import truncatednormal\n",
    "from smile.global_params import *"
   ]
  },
  {
   "cell_type": "code",
   "execution_count": 3,
   "metadata": {},
   "outputs": [],
   "source": [
    "# Settings\n",
    "seed = 3 # chosen by fair dice roll. guaranteed to be random. https://xkcd.com/221/\n",
    "np.random.seed(seed)\n",
    "np.set_printoptions(edgeitems=30, linewidth=100000)"
   ]
  },
  {
   "cell_type": "markdown",
   "metadata": {},
   "source": [
    "## Experiment 0: Recreating the poster\n",
    "\n",
    "Purpose:  \n",
    "   * Recreate the data from the previous experiments summarized in the poster, to weed out coding errors or simulation/methodology discrepencies  \n",
    "   \n",
    "Hypothesis:  \n",
    "   * Bias will be the same as the poster.  \n",
    "   \n",
    "Reasoning:  \n",
    "   * Based on the same ideas  "
   ]
  },
  {
   "cell_type": "code",
   "execution_count": 6,
   "metadata": {},
   "outputs": [],
   "source": [
    "# Simulation definition\n",
    "\n",
    "def get_poster_populations(slope_option, error_option, npersons=100, npops=100):\n",
    "    '''\n",
    "    returns a PopulationList similar to the one described in the poster\n",
    "    slope_option is 1, 2, or 3\n",
    "    error_option is 30/100 or 50/100\n",
    "    '''\n",
    "    \n",
    "    # Define and set visual score function\n",
    "    pop = Population(npersons, f'poster with {slope_option} and {error_option}')\n",
    "    gen_visualscores = lambda t,r,v0: np.maximum(-r*t+v0, VMIN)\n",
    "    pop.set_score_generator('visual', gen_visualscores)\n",
    "    gen_r = lambda shape: 2\n",
    "    gen_v0 = lambda shape: np.random.randint(14, 18+1, shape)\n",
    "    pop.set_parameter_generator('r', gen_r, 'population')\n",
    "    pop.set_parameter_generator('v0', gen_v0, 'person')\n",
    "\n",
    "    # Define and set symptom score function\n",
    "    gen_symptomscores = lambda v,a,s0: np.maximum(a*v+s0, SMIN)\n",
    "    pop.set_score_generator('symptom_noerror', gen_symptomscores)\n",
    "    gen_a = lambda shape: slope_option\n",
    "    gen_s0 = lambda shape: np.random.normal(6, 2, shape)\n",
    "    pop.set_parameter_generator('a', gen_a, 'population')\n",
    "    pop.set_parameter_generator('s0', gen_s0, 'person')\n",
    "\n",
    "    # Define and set error functions\n",
    "    #Multiplicative\n",
    "    pop.set_score_generator('symptom', lambda s,C: s*C)\n",
    "    gen_C_mul = lambda shape: np.random.uniform(1-error_option, 1+error_option, shape)\n",
    "    pop.set_parameter_generator('C', gen_C_mul, 'day')\n",
    "\n",
    "    # Repeat\n",
    "    pops = PopulationList.full(npops, pop)\n",
    "    \n",
    "    # Return\n",
    "    return pops\n",
    "\n",
    "npersons=10\n",
    "npops=10\n",
    "poplists = [[get_poster_populations(slope, 0.3, npersons, npops) for slope in (1, 2, 3)], [get_poster_populations(slope, 0.5, npersons, npops) for slope in (1, 2, 3)]]\n",
    "for i in range(len(poplists)):\n",
    "    for j in range(len(poplists[i])):\n",
    "        poplists[i][j].generate()"
   ]
  },
  {
   "cell_type": "code",
   "execution_count": 8,
   "metadata": {},
   "outputs": [],
   "source": [
    "# Sampling"
   ]
  },
  {
   "cell_type": "code",
   "execution_count": 7,
   "metadata": {
    "collapsed": true,
    "jupyter": {
     "outputs_hidden": true
    }
   },
   "outputs": [
    {
     "name": "stderr",
     "output_type": "stream",
     "text": [
      "C:\\tools\\Anaconda3\\envs\\smile\\lib\\site-packages\\statsmodels\\base\\model.py:568: ConvergenceWarning: Maximum Likelihood optimization failed to converge. Check mle_retvals\n",
      "  \"Check mle_retvals\", ConvergenceWarning)\n",
      "C:\\tools\\Anaconda3\\envs\\smile\\lib\\site-packages\\statsmodels\\regression\\mixed_linear_model.py:2114: ConvergenceWarning: Retrying MixedLM optimization with lbfgs\n",
      "  ConvergenceWarning)\n",
      "C:\\tools\\Anaconda3\\envs\\smile\\lib\\site-packages\\statsmodels\\base\\model.py:568: ConvergenceWarning: Maximum Likelihood optimization failed to converge. Check mle_retvals\n",
      "  \"Check mle_retvals\", ConvergenceWarning)\n",
      "C:\\tools\\Anaconda3\\envs\\smile\\lib\\site-packages\\statsmodels\\regression\\mixed_linear_model.py:2114: ConvergenceWarning: Retrying MixedLM optimization with cg\n",
      "  ConvergenceWarning)\n",
      "C:\\tools\\Anaconda3\\envs\\smile\\lib\\site-packages\\statsmodels\\base\\model.py:568: ConvergenceWarning: Maximum Likelihood optimization failed to converge. Check mle_retvals\n",
      "  \"Check mle_retvals\", ConvergenceWarning)\n",
      "C:\\tools\\Anaconda3\\envs\\smile\\lib\\site-packages\\statsmodels\\regression\\mixed_linear_model.py:2118: ConvergenceWarning: MixedLM optimization failed, trying a different optimizer may help.\n",
      "  warnings.warn(msg, ConvergenceWarning)\n",
      "C:\\tools\\Anaconda3\\envs\\smile\\lib\\site-packages\\statsmodels\\regression\\mixed_linear_model.py:2130: ConvergenceWarning: Gradient optimization failed, |grad| = 2.842605\n",
      "  warnings.warn(msg, ConvergenceWarning)\n",
      "C:\\tools\\Anaconda3\\envs\\smile\\lib\\site-packages\\statsmodels\\base\\model.py:568: ConvergenceWarning: Maximum Likelihood optimization failed to converge. Check mle_retvals\n",
      "  \"Check mle_retvals\", ConvergenceWarning)\n",
      "C:\\tools\\Anaconda3\\envs\\smile\\lib\\site-packages\\statsmodels\\regression\\mixed_linear_model.py:2114: ConvergenceWarning: Retrying MixedLM optimization with lbfgs\n",
      "  ConvergenceWarning)\n",
      "C:\\tools\\Anaconda3\\envs\\smile\\lib\\site-packages\\statsmodels\\base\\model.py:568: ConvergenceWarning: Maximum Likelihood optimization failed to converge. Check mle_retvals\n",
      "  \"Check mle_retvals\", ConvergenceWarning)\n",
      "C:\\tools\\Anaconda3\\envs\\smile\\lib\\site-packages\\statsmodels\\regression\\mixed_linear_model.py:2114: ConvergenceWarning: Retrying MixedLM optimization with lbfgs\n",
      "  ConvergenceWarning)\n",
      "C:\\tools\\Anaconda3\\envs\\smile\\lib\\site-packages\\statsmodels\\base\\model.py:568: ConvergenceWarning: Maximum Likelihood optimization failed to converge. Check mle_retvals\n",
      "  \"Check mle_retvals\", ConvergenceWarning)\n",
      "C:\\tools\\Anaconda3\\envs\\smile\\lib\\site-packages\\statsmodels\\regression\\mixed_linear_model.py:2114: ConvergenceWarning: Retrying MixedLM optimization with cg\n",
      "  ConvergenceWarning)\n",
      "C:\\tools\\Anaconda3\\envs\\smile\\lib\\site-packages\\statsmodels\\base\\model.py:568: ConvergenceWarning: Maximum Likelihood optimization failed to converge. Check mle_retvals\n",
      "  \"Check mle_retvals\", ConvergenceWarning)\n",
      "C:\\tools\\Anaconda3\\envs\\smile\\lib\\site-packages\\statsmodels\\regression\\mixed_linear_model.py:2118: ConvergenceWarning: MixedLM optimization failed, trying a different optimizer may help.\n",
      "  warnings.warn(msg, ConvergenceWarning)\n",
      "C:\\tools\\Anaconda3\\envs\\smile\\lib\\site-packages\\statsmodels\\regression\\mixed_linear_model.py:2130: ConvergenceWarning: Gradient optimization failed, |grad| = 5.462789\n",
      "  warnings.warn(msg, ConvergenceWarning)\n",
      "C:\\tools\\Anaconda3\\envs\\smile\\lib\\site-packages\\statsmodels\\base\\model.py:568: ConvergenceWarning: Maximum Likelihood optimization failed to converge. Check mle_retvals\n",
      "  \"Check mle_retvals\", ConvergenceWarning)\n",
      "C:\\tools\\Anaconda3\\envs\\smile\\lib\\site-packages\\statsmodels\\regression\\mixed_linear_model.py:2114: ConvergenceWarning: Retrying MixedLM optimization with lbfgs\n",
      "  ConvergenceWarning)\n",
      "C:\\tools\\Anaconda3\\envs\\smile\\lib\\site-packages\\statsmodels\\base\\model.py:568: ConvergenceWarning: Maximum Likelihood optimization failed to converge. Check mle_retvals\n",
      "  \"Check mle_retvals\", ConvergenceWarning)\n",
      "C:\\tools\\Anaconda3\\envs\\smile\\lib\\site-packages\\statsmodels\\regression\\mixed_linear_model.py:2114: ConvergenceWarning: Retrying MixedLM optimization with cg\n",
      "  ConvergenceWarning)\n",
      "C:\\tools\\Anaconda3\\envs\\smile\\lib\\site-packages\\statsmodels\\base\\model.py:568: ConvergenceWarning: Maximum Likelihood optimization failed to converge. Check mle_retvals\n",
      "  \"Check mle_retvals\", ConvergenceWarning)\n",
      "C:\\tools\\Anaconda3\\envs\\smile\\lib\\site-packages\\statsmodels\\regression\\mixed_linear_model.py:2118: ConvergenceWarning: MixedLM optimization failed, trying a different optimizer may help.\n",
      "  warnings.warn(msg, ConvergenceWarning)\n",
      "C:\\tools\\Anaconda3\\envs\\smile\\lib\\site-packages\\statsmodels\\regression\\mixed_linear_model.py:2130: ConvergenceWarning: Gradient optimization failed, |grad| = 6.427651\n",
      "  warnings.warn(msg, ConvergenceWarning)\n",
      "C:\\tools\\Anaconda3\\envs\\smile\\lib\\site-packages\\statsmodels\\base\\model.py:568: ConvergenceWarning: Maximum Likelihood optimization failed to converge. Check mle_retvals\n",
      "  \"Check mle_retvals\", ConvergenceWarning)\n",
      "C:\\tools\\Anaconda3\\envs\\smile\\lib\\site-packages\\statsmodels\\regression\\mixed_linear_model.py:2114: ConvergenceWarning: Retrying MixedLM optimization with lbfgs\n",
      "  ConvergenceWarning)\n",
      "C:\\tools\\Anaconda3\\envs\\smile\\lib\\site-packages\\statsmodels\\base\\model.py:568: ConvergenceWarning: Maximum Likelihood optimization failed to converge. Check mle_retvals\n",
      "  \"Check mle_retvals\", ConvergenceWarning)\n",
      "C:\\tools\\Anaconda3\\envs\\smile\\lib\\site-packages\\statsmodels\\regression\\mixed_linear_model.py:2114: ConvergenceWarning: Retrying MixedLM optimization with cg\n",
      "  ConvergenceWarning)\n",
      "C:\\tools\\Anaconda3\\envs\\smile\\lib\\site-packages\\statsmodels\\base\\model.py:568: ConvergenceWarning: Maximum Likelihood optimization failed to converge. Check mle_retvals\n",
      "  \"Check mle_retvals\", ConvergenceWarning)\n",
      "C:\\tools\\Anaconda3\\envs\\smile\\lib\\site-packages\\statsmodels\\regression\\mixed_linear_model.py:2118: ConvergenceWarning: MixedLM optimization failed, trying a different optimizer may help.\n",
      "  warnings.warn(msg, ConvergenceWarning)\n",
      "C:\\tools\\Anaconda3\\envs\\smile\\lib\\site-packages\\statsmodels\\regression\\mixed_linear_model.py:2130: ConvergenceWarning: Gradient optimization failed, |grad| = 3.286284\n",
      "  warnings.warn(msg, ConvergenceWarning)\n"
     ]
    }
   ],
   "source": [
    "# Regressions\n",
    "\n",
    "regresults = []\n",
    "for i in range(len(poplists)):\n",
    "    regresults.append([])\n",
    "    for j in range(len(poplists[i])):\n",
    "        regresults[i].append(poplists[i][j].regress_mixed(random_effect='intercept'))"
   ]
  },
  {
   "cell_type": "code",
   "execution_count": null,
   "metadata": {},
   "outputs": [],
   "source": []
  },
  {
   "cell_type": "markdown",
   "metadata": {},
   "source": [
    "## Experiment 1: Baselines\n",
    "\n",
    "Purpose:  \n",
    "  * Evaluate the bias in an idealized, full-information setting. Evaluate the difference between different regression models in the absence of random effects in the population.  \n",
    "  \n",
    "Hypothesis:  \n",
    "  * There will be no bias in noerror or multiplicative error. There will be a small bias towards a slower (lower) slope in additive error. Both regressions will give the same results. Both models will give identical results.  \n",
    "  \n",
    "Reasoning:  \n",
    "  * The relationship is linear, no persons are discarded from the population, each person will have at least two points to describe their straight line. Multiplicative error will cancel out. However, for additive errors, the enduring error when the visual score is recovered will lead to more observations at (VMIN, +s) without equivalents at (VMIN, -s) to balance them out since the symptoms have a lower bound (see thick vertical line on the left of the graph of visual vs symptom)."
   ]
  },
  {
   "cell_type": "code",
   "execution_count": 5,
   "metadata": {},
   "outputs": [],
   "source": [
    "# Simulation definition\n",
    "\n",
    "def get_baseline_populations(npersons=100, npops=100):\n",
    "    '''returns a PopulationList with no errors, a PopulationList with additive errors, and a PopulationList with multiplicative errors'''\n",
    "    \n",
    "    # Define and set visual score function\n",
    "    pop_beforeerror = Population(size, 'linear')\n",
    "    gen_visualscores = lambda t,r,v0: np.maximum(-r*t+v0, VMIN)\n",
    "    pop_beforeerror.set_score_generator('visual', gen_visualscores)\n",
    "    gen_r = lambda shape: truncatednormal(1/15, 31/15, 2, shape)\n",
    "    gen_v0 = lambda shape: truncatednormal(14, 18, 2, shape)\n",
    "    pop_beforeerror.set_parameter_generator('r', gen_r, 'person')\n",
    "    pop_beforeerror.set_parameter_generator('v0', gen_v0, 'person')\n",
    "\n",
    "    # Define and set symptom score function\n",
    "    gen_symptomscores = lambda v,a: a*(v-VMIN)\n",
    "    pop_beforeerror.set_score_generator('symptom_noerror', gen_symptomscores)\n",
    "    gen_a = lambda shape: 1.5\n",
    "    pop_beforeerror.set_parameter_generator('a', gen_a, 'population')\n",
    "\n",
    "    # Define and set error functions\n",
    "    #None\n",
    "    pop_noerror = pop_beforeerror.copy(addtitle='no error')\n",
    "    pop_noerror.set_score_generator('symptom', lambda s: s)\n",
    "    #Multiplicative\n",
    "    pop_mulerror = pop_beforeerror.copy(addtitle='multiplicative error')\n",
    "    pop_mulerror.set_score_generator('symptom', lambda s,C: s*C)\n",
    "    gen_C_mul = lambda shape: truncatednormal(0.5, 1.5, 2, shape)\n",
    "    pop_mulerror.set_parameter_generator('C', gen_C_mul, 'day')\n",
    "    #Additive\n",
    "    pop_adderror = pop_beforeerror.copy(addtitle='additive error')\n",
    "    pop_adderror.set_score_generator('symptom', lambda s,C: np.maximum(s+C, SMIN))\n",
    "    gen_C_add = lambda shape: truncatednormal(-5, 5, 2, shape)\n",
    "    pop_adderror.set_parameter_generator('C', gen_C_add, 'day')\n",
    "\n",
    "    # Repeat\n",
    "    pops_noerror = PopulationList.full(npops, pop_noerror, title='linear no error')\n",
    "    pops_mulerror = PopulationList.full(npops, pop_mulerror, title='linear multiplicative error')\n",
    "    pops_adderror = PopulationList.full(npops, pop_adderror, title='linear additive error')\n",
    "    \n",
    "    # Return\n",
    "    return pops_noerror, pops_mulerror, pops_adderror\n",
    "\n",
    "populationlists = get_baseline_populations()\n",
    "for populationlist in populationlists:\n",
    "    populationlist.generate()"
   ]
  },
  {
   "cell_type": "code",
   "execution_count": null,
   "metadata": {},
   "outputs": [],
   "source": [
    "# Regressions\n",
    "\n",
    "regressionresults_linear = []\n",
    "regressionresults_mixed = []\n",
    "for populationlist in populationlists:\n",
    "    regressionresults_linear.append(populationlist.regress_linear())\n",
    "    regressionresults_mixed.append(populationlist.regress_mixed())"
   ]
  },
  {
   "cell_type": "code",
   "execution_count": null,
   "metadata": {},
   "outputs": [],
   "source": [
    "# Plotting\n",
    "\n",
    "ncols = 2 #number of parameters, TODO\n",
    "nrows = len(list_of_results)\n",
    "\n",
    "fig, axes = plt.subplots(ncols=ncols, nrows=nrows, figsize=plt.figaspect(0.5*nrows/ncols)*2, sharey='col', squeeze=False)\n",
    "\n",
    "for row in range(nrows):\n",
    "    slope_truth = 1\n",
    "    intercept_truth = slope_truth * -smile.global_params.VMIN\n",
    "    list_of_results[row].plot_box(axes[row], ground_truths=[intercept_truth, slope_truth])\n",
    "        \n",
    "plt.tight_layout()\n",
    "plt.show()\n",
    "#dotted green line is the mean, solid green line is the median"
   ]
  }
 ],
 "metadata": {
  "kernelspec": {
   "display_name": "Python [conda env:smile] *",
   "language": "python",
   "name": "conda-env-smile-py"
  },
  "language_info": {
   "codemirror_mode": {
    "name": "ipython",
    "version": 3
   },
   "file_extension": ".py",
   "mimetype": "text/x-python",
   "name": "python",
   "nbconvert_exporter": "python",
   "pygments_lexer": "ipython3",
   "version": "3.7.7"
  }
 },
 "nbformat": 4,
 "nbformat_minor": 4
}
