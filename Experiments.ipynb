{
 "cells": [
  {
   "cell_type": "code",
   "execution_count": 1,
   "metadata": {},
   "outputs": [],
   "source": [
    "#imports"
   ]
  },
  {
   "cell_type": "code",
   "execution_count": 2,
   "metadata": {},
   "outputs": [],
   "source": [
    "#function to create plotting environment?"
   ]
  },
  {
   "cell_type": "markdown",
   "metadata": {},
   "source": [
    "## Experiment 1\n",
    "\n",
    "Simulation:  \n",
    "- visual score is linear with random intercept and slope per person  \n",
    "- symptom: linear with fixed intercept and slope  \n",
    "- error: None  \n",
    "- npops=100  \n",
    "- npersons=100  \n",
    "    \n",
    "Filter: None  \n",
    "Sample: None  \n",
    "Regression: Simple linear, Mixed effects with random intercept and slope  \n",
    "Variations: More or less variance on the random intercept and slope (say: pmsigma=1, pmsigma=3)  \n",
    "\n",
    "Purpose: Evaluate the bias under idealized conditions  \n",
    "Hypothesis: There will be no bias at all  \n",
    "Reasoning: The relationship is purely linear, no persons are discarded from the population, and each person will have at least two points to describe their straight line (in reality: they have one point per day)"
   ]
  }
 ],
 "metadata": {
  "kernelspec": {
   "display_name": "Python [conda env:smile] *",
   "language": "python",
   "name": "conda-env-smile-py"
  },
  "language_info": {
   "codemirror_mode": {
    "name": "ipython",
    "version": 3
   },
   "file_extension": ".py",
   "mimetype": "text/x-python",
   "name": "python",
   "nbconvert_exporter": "python",
   "pygments_lexer": "ipython3",
   "version": "3.7.7"
  }
 },
 "nbformat": 4,
 "nbformat_minor": 4
}
