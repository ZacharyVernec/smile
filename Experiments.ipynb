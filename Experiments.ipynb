{
 "cells": [
  {
   "cell_type": "code",
   "execution_count": 1,
   "metadata": {},
   "outputs": [],
   "source": [
    "#imports"
   ]
  },
  {
   "cell_type": "code",
   "execution_count": 2,
   "metadata": {},
   "outputs": [],
   "source": [
    "#function to create plotting environment?"
   ]
  },
  {
   "cell_type": "raw",
   "metadata": {},
   "source": [
    "## Experiment 1: Baselines\n",
    "\n",
    "Simulation:  \n",
    "- visual score is linear with random intercept and slope per person  \n",
    "- symptom: linear with fixed intercept and slope  \n",
    "- error: none or multiplicative (+-50%) or additive (+-5)  \n",
    "- npops=100  \n",
    "- npersons=100  \n",
    "    \n",
    "Filter: None  \n",
    "Sample: None  \n",
    "Regression: Simple linear, Mixed effects with random intercept and slope  \n",
    "\n",
    "Purpose: Evaluate the bias in an idealized, full-information setting  \n",
    "Hypothesis: There will only be bias in slope of additive, and this bias will be a small bias towards a slower (smaller) slope   \n",
    "Reasoning: The relationship is linear, no persons are discarded from the population, each person will have at least two points to describe their straight line. Multiplicative error will cancel out. However, for additive errors, the enduring error when the visual score is recovered will lead to more observations at (v, s)=(0, +s) without equivalents at (v, s)=(+v, 0) to balance them out (see thick vertical line on the left of the graph of visual vs symptom)."
   ]
  },
  {
   "cell_type": "raw",
   "metadata": {},
   "source": [
    "## Experiment 2: Sampling\n",
    "\n",
    "Simulation: same as previous experiment  \n",
    "    \n",
    "Filter: None  \n",
    "Sample:  \n",
    "Regression: Simple linear, Mixed effects with random intercept and slope  \n",
    "\n",
    "Purpose:  \n",
    "Hypothesis:  \n",
    "Reasoning:  "
   ]
  }
 ],
 "metadata": {
  "kernelspec": {
   "display_name": "Python [conda env:smile] *",
   "language": "python",
   "name": "conda-env-smile-py"
  },
  "language_info": {
   "codemirror_mode": {
    "name": "ipython",
    "version": 3
   },
   "file_extension": ".py",
   "mimetype": "text/x-python",
   "name": "python",
   "nbconvert_exporter": "python",
   "pygments_lexer": "ipython3",
   "version": "3.7.7"
  }
 },
 "nbformat": 4,
 "nbformat_minor": 4
}
