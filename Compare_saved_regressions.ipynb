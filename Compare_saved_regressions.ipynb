{
 "cells": [
  {
   "cell_type": "markdown",
   "metadata": {},
   "source": [
    "# Comparing saved populations object scores with different precisions\n",
    "\"orig\" is default float64, \"test\" is with float32 as set by a global_param"
   ]
  },
  {
   "cell_type": "code",
   "execution_count": 1,
   "metadata": {},
   "outputs": [],
   "source": [
    "# Standard library imports\n",
    "import os\n",
    "\n",
    "# Third party imports\n",
    "import matplotlib.pyplot as plt\n",
    "import numpy as np\n",
    "import dill\n",
    "\n",
    "# Local application imports\n",
    "from smile import helper\n",
    "\n",
    "# Settings\n",
    "pickle_dir_test = r'D:\\tests_for_scoretype\\saved_regressions_large'\n",
    "pickle_dir_orig = r'D:\\saved_regressions_large'"
   ]
  },
  {
   "cell_type": "code",
   "execution_count": 2,
   "metadata": {},
   "outputs": [],
   "source": [
    "def load_from_file(filename):\n",
    "    with open(filename, 'rb') as f:\n",
    "        return dill.load(f)"
   ]
  },
  {
   "cell_type": "markdown",
   "metadata": {},
   "source": [
    "### Regressions (Poster)"
   ]
  },
  {
   "cell_type": "code",
   "execution_count": 3,
   "metadata": {},
   "outputs": [],
   "source": [
    "regs_test = load_from_file(pickle_dir_test+r'\\regression_poster_sampled_poplists_0.pik')\n",
    "regs_orig = load_from_file(pickle_dir_orig+r'\\regression_poster_sampled_poplists_0.pik')"
   ]
  },
  {
   "cell_type": "code",
   "execution_count": 4,
   "metadata": {},
   "outputs": [
    {
     "data": {
      "text/plain": [
       "array([[-2.52374247e-06,  4.14931496e-06],\n",
       "       [ 2.11058386e-07, -1.97644312e-07],\n",
       "       [ 1.97972078e-03, -1.25353427e-03],\n",
       "       [-5.27931400e-05,  2.45782390e-05],\n",
       "       [-7.19338831e-03,  6.89773536e-03],\n",
       "       [-1.78807444e-07,  7.79978970e-08],\n",
       "       [-8.42679627e-02,  2.28689956e-02],\n",
       "       [-1.13757386e-01,  2.67469732e-02],\n",
       "       [-1.03368120e-02, -1.90775403e-03],\n",
       "       [ 3.79654924e-05, -2.65322714e-05],\n",
       "       [-4.56461167e-02,  1.04188499e-02],\n",
       "       [ 3.46212555e-03, -6.03841374e-04]])"
      ]
     },
     "execution_count": 4,
     "metadata": {},
     "output_type": "execute_result"
    }
   ],
   "source": [
    "slope_options = (1, 2, 3)\n",
    "\n",
    "results = []\n",
    "for i,j,k in np.ndindex(regs_test.shape):\n",
    "    percentage_biases_test = regs_test[i,j,k].get_percentage_biases({'Intercept':6, 'visual':(slope_options[i])})\n",
    "    percentage_biases_orig = regs_orig[i,j,k].get_percentage_biases({'Intercept':6, 'visual':(slope_options[i])})\n",
    "    results.append((percentage_biases_test-percentage_biases_orig).to_numpy())\n",
    "np.vstack(results)"
   ]
  },
  {
   "cell_type": "code",
   "execution_count": 5,
   "metadata": {},
   "outputs": [
    {
     "data": {
      "text/plain": [
       "array([[-3.23026597e-06, -2.10985654e-07],\n",
       "       [-6.85568041e-09, -2.05268713e-09],\n",
       "       [ 8.44502934e-05,  1.05073494e-05],\n",
       "       [ 6.34611751e-06,  6.06370395e-07],\n",
       "       [-5.72766234e-04, -6.14270133e-05],\n",
       "       [ 1.04084204e-08,  2.78734272e-10],\n",
       "       [ 4.59625809e-03,  1.50550937e-04],\n",
       "       [ 9.52550876e-03,  9.15686036e-04],\n",
       "       [ 3.46317696e-03,  3.07298026e-04],\n",
       "       [ 1.42802036e-07, -4.08963291e-07],\n",
       "       [-4.81736345e-03, -3.81997097e-04],\n",
       "       [ 1.26256671e-04,  1.95660918e-05]])"
      ]
     },
     "execution_count": 5,
     "metadata": {},
     "output_type": "execute_result"
    }
   ],
   "source": [
    "slope_options = (1, 2, 3)\n",
    "\n",
    "results = []\n",
    "for i,j,k in np.ndindex(regs_test.shape):\n",
    "    sample_stdevs_test = regs_test[i,j,k].get_sample_stdevs()\n",
    "    sample_stdevs_orig = regs_orig[i,j,k].get_sample_stdevs()\n",
    "    results.append((sample_stdevs_test-sample_stdevs_orig).to_numpy())\n",
    "np.vstack(results)"
   ]
  },
  {
   "cell_type": "markdown",
   "metadata": {},
   "source": [
    "### Regressions (realistic)"
   ]
  },
  {
   "cell_type": "code",
   "execution_count": 6,
   "metadata": {},
   "outputs": [],
   "source": [
    "regs_test = load_from_file(pickle_dir_test+r'\\regression_worddoc_sampled_poplists_0.pik')\n",
    "regs_orig = load_from_file(pickle_dir_orig+r'\\regression_worddoc_sampled_poplists_0.pik')"
   ]
  },
  {
   "cell_type": "code",
   "execution_count": 7,
   "metadata": {},
   "outputs": [
    {
     "data": {
      "text/plain": [
       "array([[ 1.83574366e-03, -1.30738876e-03],\n",
       "       [ 1.95338374e-04, -1.47552164e-04],\n",
       "       [ 1.49309273e-07, -1.32046640e-07],\n",
       "       [-7.93321817e-08,  4.50843474e-08],\n",
       "       [-7.09649221e-04,  6.28419913e-04],\n",
       "       [-5.02119489e-03,  3.32083157e-03],\n",
       "       [-2.80873508e-07,  1.16294296e-07],\n",
       "       [ 2.58111356e-07, -9.49978540e-08],\n",
       "       [-1.13635167e-07,  3.53912159e-08],\n",
       "       [-4.76061587e-07,  1.19921939e-07],\n",
       "       [-2.11420680e-02,  3.66623455e-03],\n",
       "       [ 4.66278038e-07, -9.74137215e-08]])"
      ]
     },
     "execution_count": 7,
     "metadata": {},
     "output_type": "execute_result"
    }
   ],
   "source": [
    "slope_options = (1, 2, 3)\n",
    "\n",
    "results = []\n",
    "for i,j,k in np.ndindex(regs_test.shape):\n",
    "    percentage_biases_test = regs_test[i,j,k].get_percentage_biases({'Intercept':6, 'visual':(slope_options[i])})\n",
    "    percentage_biases_orig = regs_orig[i,j,k].get_percentage_biases({'Intercept':6, 'visual':(slope_options[i])})\n",
    "    results.append((percentage_biases_test-percentage_biases_orig).to_numpy())\n",
    "np.vstack(results)"
   ]
  },
  {
   "cell_type": "code",
   "execution_count": 8,
   "metadata": {},
   "outputs": [
    {
     "data": {
      "text/plain": [
       "array([[ 1.92470465e-05,  2.04994044e-06],\n",
       "       [ 1.19619000e-05,  1.41113133e-06],\n",
       "       [-1.08341681e-08, -1.45315068e-09],\n",
       "       [-1.57421712e-09, -8.79075583e-10],\n",
       "       [ 6.24383520e-05,  2.10977439e-05],\n",
       "       [ 1.47144776e-04,  6.37754190e-05],\n",
       "       [ 1.77449537e-08,  2.35226216e-09],\n",
       "       [ 4.17143479e-08,  4.67361964e-09],\n",
       "       [-7.14248867e-09, -1.87714122e-10],\n",
       "       [ 2.26531371e-09,  6.09888001e-10],\n",
       "       [ 2.19745645e-03,  1.67126633e-04],\n",
       "       [ 2.62355595e-08,  3.64782451e-09]])"
      ]
     },
     "execution_count": 8,
     "metadata": {},
     "output_type": "execute_result"
    }
   ],
   "source": [
    "slope_options = (1, 2, 3)\n",
    "\n",
    "results = []\n",
    "for i,j,k in np.ndindex(regs_test.shape):\n",
    "    sample_stdevs_test = regs_test[i,j,k].get_sample_stdevs()\n",
    "    sample_stdevs_orig = regs_orig[i,j,k].get_sample_stdevs()\n",
    "    results.append((sample_stdevs_test-sample_stdevs_orig).to_numpy())\n",
    "np.vstack(results)"
   ]
  }
 ],
 "metadata": {
  "kernelspec": {
   "display_name": "Python [conda env:smile] *",
   "language": "python",
   "name": "conda-env-smile-py"
  },
  "language_info": {
   "codemirror_mode": {
    "name": "ipython",
    "version": 3
   },
   "file_extension": ".py",
   "mimetype": "text/x-python",
   "name": "python",
   "nbconvert_exporter": "python",
   "pygments_lexer": "ipython3",
   "version": "3.7.7"
  }
 },
 "nbformat": 4,
 "nbformat_minor": 4
}
