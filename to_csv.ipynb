{
 "cells": [
  {
   "cell_type": "code",
   "execution_count": 10,
   "metadata": {},
   "outputs": [],
   "source": [
    "# Standard library imports\n",
    "import os\n",
    "from datetime import datetime\n",
    "import re\n",
    "\n",
    "# Third party imports\n",
    "import numpy as np\n",
    "import dill\n",
    "\n",
    "# Local application imports\n",
    "#none"
   ]
  },
  {
   "cell_type": "code",
   "execution_count": 11,
   "metadata": {},
   "outputs": [],
   "source": [
    "# Settings\n",
    "seed = 3 # chosen by fair dice roll. guaranteed to be random. https://xkcd.com/221/\n",
    "np.random.seed(seed)\n",
    "np.set_printoptions(edgeitems=30, linewidth=100000)\n",
    "pickle_pops_dir = r'D:\\saved_populations_5'\n",
    "pickle_csv_dir = r'D:\\saved_populations_5_csv'"
   ]
  },
  {
   "cell_type": "code",
   "execution_count": 12,
   "metadata": {},
   "outputs": [],
   "source": [
    "def load_from_file(filename):\n",
    "    with open(filename, 'rb') as f:\n",
    "        return dill.load(f)\n",
    "def dump_to_csv_file(df, filename, filesuffix='.csv', \n",
    "                     dirname=None, create_newdir=False, avoid_overwrite=True):\n",
    "    #build path\n",
    "    if dirname is not None: \n",
    "        if not os.path.isdir(dirname):\n",
    "            if create_newdir:\n",
    "                os.makedirs(dirname)\n",
    "                print(f\"Directory {dirname} was created\")\n",
    "            else:\n",
    "                raise OSError(f\"Directory {dirname} doesn't exist and needs to be created\")\n",
    "        filename = os.path.join(dirname, filename+filesuffix)\n",
    "    else:\n",
    "        filename = filename+filesuffix\n",
    "    #check if will overwrite\n",
    "    if os.path.isfile(filename) and avoid_overwrite:\n",
    "        raise OSError(f\"File {filename} already exists and would be overwritten\")\n",
    "    else:\n",
    "        df.to_csv(filename)"
   ]
  },
  {
   "cell_type": "code",
   "execution_count": 13,
   "metadata": {},
   "outputs": [],
   "source": [
    "#parameters\n",
    "npersons=1000 #per population\n",
    "npops=1000 #across all files\n",
    "slope_options = (1, 2, 3)\n",
    "error_options = (0.3, 0.5)\n",
    "method_options = (\"traditional\", \"realistic\")\n",
    "\n",
    "def options_to_string(slope, error):\n",
    "    return f\"{slope}_{error}\".replace(\".\",\"\")"
   ]
  },
  {
   "cell_type": "code",
   "execution_count": 14,
   "metadata": {},
   "outputs": [
    {
     "name": "stdout",
     "output_type": "stream",
     "text": [
      "Directory D:\\saved_populations_5_csv\\realistic_1_03 was created\n",
      "Directory D:\\saved_populations_5_csv\\realistic_1_05 was created\n",
      "Directory D:\\saved_populations_5_csv\\realistic_2_03 was created\n",
      "Directory D:\\saved_populations_5_csv\\realistic_2_05 was created\n",
      "Directory D:\\saved_populations_5_csv\\realistic_3_03 was created\n",
      "Directory D:\\saved_populations_5_csv\\realistic_3_05 was created\n"
     ]
    }
   ],
   "source": [
    "poplists = load_from_file(pickle_pops_dir+\"\\worddoc_poplists_0\"+\".pik\")\n",
    "for i,j in np.ndindex(poplists.shape):\n",
    "    foldername = f\"realistic_\"+options_to_string(slope_options[i], error_options[j])\n",
    "    poplist = poplists[i,j]\n",
    "    for l in range(len(poplist)):\n",
    "        pop = poplist[l]\n",
    "        dump_to_csv_file(pop.to_dataframe(), foldername+f\"_population_{l}\", filesuffix='.csv', \n",
    "                         dirname=os.path.join(pickle_csv_dir, foldername), create_newdir=True, avoid_overwrite=True)"
   ]
  },
  {
   "cell_type": "code",
   "execution_count": 15,
   "metadata": {},
   "outputs": [],
   "source": [
    "poplists = load_from_file(pickle_pops_dir+\"\\worddoc_filtered_poplists_0\"+\".pik\")\n",
    "for i,j in np.ndindex(poplists.shape):\n",
    "    foldername = f\"realistic_\"+options_to_string(slope_options[i], error_options[j])\n",
    "    poplist = poplists[i,j]\n",
    "    for l in range(len(poplist)):\n",
    "        pop = poplist[l]\n",
    "        dump_to_csv_file(pop.to_dataframe(), foldername+f\"_population_{l}_filtered\", filesuffix='.csv', \n",
    "                         dirname=os.path.join(pickle_csv_dir, foldername), create_newdir=True, avoid_overwrite=True)"
   ]
  },
  {
   "cell_type": "code",
   "execution_count": 16,
   "metadata": {},
   "outputs": [],
   "source": [
    "poplists = load_from_file(pickle_pops_dir+\"\\worddoc_sampled_poplists_0\"+\".pik\")\n",
    "for i,j, k in np.ndindex(poplists.shape):\n",
    "    foldername = f\"realistic_\"+options_to_string(slope_options[i], error_options[j])\n",
    "    poplist = poplists[i,j,k]\n",
    "    for l in range(len(poplist)):\n",
    "        pop = poplist[l]\n",
    "        dump_to_csv_file(pop.to_dataframe(), foldername+f\"_population_{l}_sampled_{method_options[k]}\", filesuffix='.csv', \n",
    "                         dirname=os.path.join(pickle_csv_dir, foldername), create_newdir=True, avoid_overwrite=True)"
   ]
  }
 ],
 "metadata": {
  "kernelspec": {
   "display_name": "Python [conda env:smile] *",
   "language": "python",
   "name": "conda-env-smile-py"
  },
  "language_info": {
   "codemirror_mode": {
    "name": "ipython",
    "version": 3
   },
   "file_extension": ".py",
   "mimetype": "text/x-python",
   "name": "python",
   "nbconvert_exporter": "python",
   "pygments_lexer": "ipython3",
   "version": "3.7.7"
  }
 },
 "nbformat": 4,
 "nbformat_minor": 4
}
