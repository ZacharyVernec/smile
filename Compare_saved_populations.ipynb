{
 "cells": [
  {
   "cell_type": "markdown",
   "metadata": {},
   "source": [
    "# Comparing saved populations object scores with different precisions\n",
    "\"orig\" is default float64, \"test\" is with float32 as set by a global_param"
   ]
  },
  {
   "cell_type": "code",
   "execution_count": 1,
   "metadata": {},
   "outputs": [],
   "source": [
    "# Standard library imports\n",
    "import os\n",
    "\n",
    "# Third party imports\n",
    "import matplotlib.pyplot as plt\n",
    "import numpy as np\n",
    "import dill\n",
    "\n",
    "# Local application imports\n",
    "from smile import helper\n",
    "\n",
    "# Settings\n",
    "pickle_dir_orig = r'D:\\saved_populations_large'\n",
    "pickle_dir_test = r'D:\\tests_for_scoretype\\saved_populations_large'"
   ]
  },
  {
   "cell_type": "code",
   "execution_count": 2,
   "metadata": {},
   "outputs": [],
   "source": [
    "def load_from_file(filename):\n",
    "    with open(filename, 'rb') as f:\n",
    "        return dill.load(f)"
   ]
  },
  {
   "cell_type": "code",
   "execution_count": 3,
   "metadata": {},
   "outputs": [],
   "source": [
    "def max_difference(poplist0, poplist1):\n",
    "    resultss = []\n",
    "    for tup in np.ndindex(poplist0.shape):\n",
    "        scores0 = poplist0[tup].dict_scores\n",
    "        scores1 = poplist1[tup].dict_scores\n",
    "        results = []\n",
    "        for scorename in scores0.keys():\n",
    "            li0 = scores0[scorename]\n",
    "            li1 = scores1[scorename]\n",
    "            result = 0\n",
    "            for i in range(len(li0)):\n",
    "                temp = np.max(np.abs(li0[i]-li1[i]))\n",
    "                if temp > result: result = temp\n",
    "            results.append(result)\n",
    "        resultss.append(results)\n",
    "    return resultss"
   ]
  },
  {
   "cell_type": "markdown",
   "metadata": {},
   "source": [
    "## Experiment: Realistic Methodology\n",
    "\n",
    "Purpose:  \n",
    "   * Sampling similarly to what a real clinician would want"
   ]
  },
  {
   "cell_type": "markdown",
   "metadata": {},
   "source": [
    "### Populations"
   ]
  },
  {
   "cell_type": "code",
   "execution_count": 4,
   "metadata": {},
   "outputs": [
    {
     "data": {
      "text/plain": [
       "[[7.629394538355427e-07, 1.7163620285032266e-06, 3.7680897975178596e-06],\n",
       " [7.629394538355427e-07, 1.7155470075636003e-06, 4.169895220229591e-06],\n",
       " [7.629394538355427e-07, 3.4329144966704916e-06, 6.191641489294852e-06],\n",
       " [7.629394538355427e-07, 3.4321793691560742e-06, 6.820746115465681e-06],\n",
       " [7.629394538355427e-07, 6.3518181008248575e-06, 1.012493697771788e-05],\n",
       " [7.629394538355427e-07, 5.940466920151266e-06, 1.1029899312120506e-05]]"
      ]
     },
     "execution_count": 4,
     "metadata": {},
     "output_type": "execute_result"
    }
   ],
   "source": [
    "poplists_test = load_from_file(pickle_dir_test+'\\poster_poplists_0.pik')\n",
    "poplists_orig = load_from_file(pickle_dir_orig+'\\poster_poplists_0.pik')\n",
    "max_difference(poplists_test, poplists_orig)"
   ]
  },
  {
   "cell_type": "markdown",
   "metadata": {},
   "source": [
    "### Filtering"
   ]
  },
  {
   "cell_type": "code",
   "execution_count": 5,
   "metadata": {},
   "outputs": [
    {
     "data": {
      "text/plain": [
       "[[7.629394538355427e-07, 1.7163620285032266e-06, 3.7680897975178596e-06],\n",
       " [7.629394538355427e-07, 1.7148969639890765e-06, 3.9847892452371525e-06],\n",
       " [7.629394538355427e-07, 3.4329144966704916e-06, 6.191641489294852e-06],\n",
       " [7.629394538355427e-07, 3.4300461209113564e-06, 6.820746115465681e-06],\n",
       " [7.629394538355427e-07, 5.8066479056151366e-06, 9.999927840453893e-06],\n",
       " [7.629394538355427e-07, 5.801823874662659e-06, 1.0931734720998065e-05]]"
      ]
     },
     "execution_count": 5,
     "metadata": {},
     "output_type": "execute_result"
    }
   ],
   "source": [
    "filtered_poplists_test = load_from_file(pickle_dir_test+'\\poster_filtered_poplists_0.pik')\n",
    "filtered_poplists_orig = load_from_file(pickle_dir_orig+'\\poster_filtered_poplists_0.pik')\n",
    "max_difference(filtered_poplists_test, filtered_poplists_orig)"
   ]
  },
  {
   "cell_type": "markdown",
   "metadata": {},
   "source": [
    "### Sampling"
   ]
  },
  {
   "cell_type": "code",
   "execution_count": 6,
   "metadata": {},
   "outputs": [
    {
     "data": {
      "text/plain": [
       "[[7.629394538355427e-07, 1.7083845449405999e-06, 2.510272494760102e-06],\n",
       " [7.629394538355427e-07, 1.6485316258751936e-06, 2.4448518587405488e-06],\n",
       " [7.629394538355427e-07, 1.6589256723875678e-06, 3.967689899297966e-06],\n",
       " [7.629394538355427e-07, 1.643384116789548e-06, 2.8253329347194267e-06],\n",
       " [7.629394538355427e-07, 3.339532220536512e-06, 4.891890881708605e-06],\n",
       " [7.629394538355427e-07, 3.4284614685020642e-06, 6.027956956700109e-06],\n",
       " [7.629394538355427e-07, 3.4300461209113564e-06, 5.896644232450399e-06],\n",
       " [7.629394538355427e-07, 2.965640895524757e-06, 5.405404422731408e-06],\n",
       " [7.629394538355427e-07, 4.958242456609696e-06, 9.386353085005794e-06],\n",
       " [7.629394538355427e-07, 4.957295402618911e-06, 9.2539906120237e-06],\n",
       " [7.629394538355427e-07, 4.954445081750691e-06, 1.0585116740458034e-05],\n",
       " [7.629394538355427e-07, 4.958700927204518e-06, 9.83869979620522e-06]]"
      ]
     },
     "execution_count": 6,
     "metadata": {},
     "output_type": "execute_result"
    }
   ],
   "source": [
    "sampled_poplists_test = load_from_file(pickle_dir_test+'\\poster_sampled_poplists_0.pik')\n",
    "sampled_poplists_orig = load_from_file(pickle_dir_orig+'\\poster_sampled_poplists_0.pik')\n",
    "max_difference(sampled_poplists_test, sampled_poplists_orig)"
   ]
  },
  {
   "cell_type": "markdown",
   "metadata": {},
   "source": [
    "## Experiment: Realistic Methodology With different simulation"
   ]
  },
  {
   "cell_type": "markdown",
   "metadata": {},
   "source": [
    "### Populations"
   ]
  },
  {
   "cell_type": "code",
   "execution_count": 7,
   "metadata": {},
   "outputs": [
    {
     "data": {
      "text/plain": [
       "[[9.536547125321704e-07, 9.536547125321704e-07, 1.6646637117645469e-06],\n",
       " [9.536367997498019e-07, 9.536367997498019e-07, 2.2069758749410084e-06],\n",
       " [9.535764533552538e-07, 1.9071529067105075e-06, 3.3415301743389136e-06],\n",
       " [9.535748830558077e-07, 1.9071497661116155e-06, 4.594825021797533e-06],\n",
       " [9.536512521890472e-07, 4.764885751740167e-06, 7.568652847567137e-06],\n",
       " [9.536034468737853e-07, 4.766069956474439e-06, 8.27830040606159e-06]]"
      ]
     },
     "execution_count": 7,
     "metadata": {},
     "output_type": "execute_result"
    }
   ],
   "source": [
    "poplists_test = load_from_file(pickle_dir_test+'\\worddoc_poplists_0.pik')\n",
    "poplists_orig = load_from_file(pickle_dir_orig+'\\worddoc_poplists_0.pik')\n",
    "max_difference(poplists_test, poplists_orig)"
   ]
  },
  {
   "cell_type": "markdown",
   "metadata": {},
   "source": [
    "### Filtering"
   ]
  },
  {
   "cell_type": "code",
   "execution_count": 8,
   "metadata": {},
   "outputs": [
    {
     "data": {
      "text/plain": [
       "[[9.536547125321704e-07, 9.536547125321704e-07, 1.6400196720667282e-06],\n",
       " [9.532399971590166e-07, 9.532399971590166e-07, 1.9777306832224895e-06],\n",
       " [9.535764533552538e-07, 1.9071529067105075e-06, 3.306287052140533e-06],\n",
       " [9.535625622447697e-07, 1.9071251244895393e-06, 4.200936132292554e-06],\n",
       " [9.536512521890472e-07, 4.762077509212759e-06, 7.493276349634925e-06],\n",
       " [9.535889553546895e-07, 4.7618907501600916e-06, 8.179735466740112e-06]]"
      ]
     },
     "execution_count": 8,
     "metadata": {},
     "output_type": "execute_result"
    }
   ],
   "source": [
    "filtered_poplists_test = load_from_file(pickle_dir_test+'\\worddoc_filtered_poplists_0.pik')\n",
    "filtered_poplists_orig = load_from_file(pickle_dir_orig+'\\worddoc_filtered_poplists_0.pik')\n",
    "max_difference(filtered_poplists_test, filtered_poplists_orig)"
   ]
  },
  {
   "cell_type": "markdown",
   "metadata": {},
   "source": [
    "### Sampling"
   ]
  },
  {
   "cell_type": "code",
   "execution_count": 9,
   "metadata": {},
   "outputs": [
    {
     "data": {
      "text/plain": [
       "[[9.516891523730919e-07, 9.516891523730919e-07, 1.5829761412788912e-06],\n",
       " [9.498408957142601e-07, 9.498408957142601e-07, 1.360739210198858e-06],\n",
       " [9.468411121815734e-07, 9.468411121815734e-07, 1.6044934483261386e-06],\n",
       " [9.502439048958422e-07, 9.502439048958422e-07, 1.5967865909516377e-06],\n",
       " [9.485135095133046e-07, 1.8970270190266092e-06, 3.0131835977442734e-06],\n",
       " [9.505227609452049e-07, 1.9010455218904099e-06, 3.006289446716437e-06],\n",
       " [9.499099000720435e-07, 1.899819800144087e-06, 3.240717660446535e-06],\n",
       " [9.413795858392859e-07, 1.8827591716785719e-06, 3.2186768486042183e-06],\n",
       " [9.355416814571527e-07, 4.708758957860937e-06, 6.801490954444489e-06],\n",
       " [9.378333949427997e-07, 4.6355001757092396e-06, 5.36483199198301e-06],\n",
       " [9.491016363938343e-07, 4.588206429900765e-06, 5.419375625592693e-06],\n",
       " [9.511464647005141e-07, 4.6395226576123605e-06, 6.074967217273297e-06]]"
      ]
     },
     "execution_count": 9,
     "metadata": {},
     "output_type": "execute_result"
    }
   ],
   "source": [
    "sampled_poplists_test = load_from_file(pickle_dir_test+'\\worddoc_sampled_poplists_0.pik')\n",
    "sampled_poplists_orig = load_from_file(pickle_dir_orig+'\\worddoc_sampled_poplists_0.pik')\n",
    "max_difference(sampled_poplists_test, sampled_poplists_orig)"
   ]
  }
 ],
 "metadata": {
  "kernelspec": {
   "display_name": "Python [conda env:smile] *",
   "language": "python",
   "name": "conda-env-smile-py"
  },
  "language_info": {
   "codemirror_mode": {
    "name": "ipython",
    "version": 3
   },
   "file_extension": ".py",
   "mimetype": "text/x-python",
   "name": "python",
   "nbconvert_exporter": "python",
   "pygments_lexer": "ipython3",
   "version": "3.7.7"
  }
 },
 "nbformat": 4,
 "nbformat_minor": 4
}
